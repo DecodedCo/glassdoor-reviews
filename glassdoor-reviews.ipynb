{
 "cells": [
  {
   "cell_type": "markdown",
   "metadata": {
    "colab_type": "text",
    "id": "CzxRrjMD_I1s"
   },
   "source": [
    "# Data Exploration: Glassdoor reviews\n",
    "\n",
    "## The brief: \n",
    "<br>\n",
    "&nbsp;&nbsp;&nbsp;&nbsp;&nbsp;&nbsp;&nbsp;&nbsp;&nbsp;&nbsp;&nbsp;&nbsp;\n",
    "<i>Explore real Glassdoor reviews to identify successes and pain points of employees.</i>\n",
    "<br><br>"
   ]
  },
  {
   "cell_type": "markdown",
   "metadata": {
    "colab_type": "text",
    "id": "0ZtiftTU_R6Q"
   },
   "source": [
    "## Data exploration\n",
    "\n",
    "### Sourcing Data\n",
    "\n",
    "What is the standard way to import pandas functionality into your notebook?"
   ]
  },
  {
   "cell_type": "code",
   "execution_count": 1,
   "metadata": {
    "colab": {},
    "colab_type": "code",
    "id": "vAHRin10eQxm"
   },
   "outputs": [],
   "source": []
  },
  {
   "cell_type": "markdown",
   "metadata": {
    "colab_type": "text",
    "id": "rDMiK8jz_fwg"
   },
   "source": [
    "How can you use pandas to read the data from the CSV file? How can you store that data for later use?"
   ]
  },
  {
   "cell_type": "code",
   "execution_count": 2,
   "metadata": {
    "colab": {
     "base_uri": "https://localhost:8080/",
     "height": 54
    },
    "colab_type": "code",
    "id": "kloXDB5gd2jw",
    "outputId": "4e649301-8bea-472c-cd7e-96e8a9ae43b7"
   },
   "outputs": [],
   "source": []
  },
  {
   "cell_type": "markdown",
   "metadata": {
    "colab_type": "text",
    "id": "irWpTq9z_0WO"
   },
   "source": [
    "### Stage 2: Explore and Transform"
   ]
  },
  {
   "cell_type": "markdown",
   "metadata": {
    "colab_type": "text",
    "id": "ts9q2dsu_7pp"
   },
   "source": [
    "### Initial Look at Data\n",
    "\n",
    "What do the first few rows of the DataFrame look like?"
   ]
  },
  {
   "cell_type": "code",
   "execution_count": null,
   "metadata": {
    "colab": {
     "base_uri": "https://localhost:8080/",
     "height": 734
    },
    "colab_type": "code",
    "id": "VWglom6feVHP",
    "outputId": "424a1111-f2e0-41f9-85c2-fa84ad8ea1de"
   },
   "outputs": [],
   "source": []
  },
  {
   "cell_type": "markdown",
   "metadata": {
    "colab_type": "text",
    "id": "bvk0-7kbADAM"
   },
   "source": [
    "How much data is in this dataset?"
   ]
  },
  {
   "cell_type": "code",
   "execution_count": null,
   "metadata": {
    "colab": {
     "base_uri": "https://localhost:8080/",
     "height": 34
    },
    "colab_type": "code",
    "id": "sIGcybULADm1",
    "outputId": "f9e268bd-65bb-49ec-80ce-2f79b93b3f49"
   },
   "outputs": [],
   "source": []
  },
  {
   "cell_type": "markdown",
   "metadata": {
    "colab_type": "text",
    "id": "n3bw66jkAwYX"
   },
   "source": [
    "What is an average value for each column?"
   ]
  },
  {
   "cell_type": "code",
   "execution_count": null,
   "metadata": {
    "colab": {
     "base_uri": "https://localhost:8080/",
     "height": 317
    },
    "colab_type": "code",
    "id": "pk5ojQ5-eYZD",
    "outputId": "0b34d87a-8a71-4072-822b-b5f53c949cb7"
   },
   "outputs": [],
   "source": []
  },
  {
   "cell_type": "code",
   "execution_count": 19,
   "metadata": {},
   "outputs": [],
   "source": []
  },
  {
   "cell_type": "code",
   "execution_count": null,
   "metadata": {
    "colab": {
     "base_uri": "https://localhost:8080/",
     "height": 102
    },
    "colab_type": "code",
    "id": "TipgyOoUBFdn",
    "outputId": "e6aafc28-c570-48b7-c3cf-7edc1634a3f9"
   },
   "outputs": [],
   "source": []
  },
  {
   "cell_type": "markdown",
   "metadata": {},
   "source": [
    "What companies do we have data for?"
   ]
  },
  {
   "cell_type": "code",
   "execution_count": null,
   "metadata": {
    "colab": {
     "base_uri": "https://localhost:8080/",
     "height": 51
    },
    "colab_type": "code",
    "id": "9CUxMj8Vduzq",
    "outputId": "c469b426-593d-4bfd-990e-56e5a6303d26"
   },
   "outputs": [],
   "source": []
  },
  {
   "cell_type": "markdown",
   "metadata": {
    "colab_type": "text",
    "id": "dOHOjfB9A27g"
   },
   "source": [
    "### Data Questions\n",
    "\n",
    "Write three questions about the data, then use Python and pandas to answer your questions. For example,\n",
    "\n",
    "- Which reviews were the most helpful?\n",
    "- How many reviews rate working for the company a 5 overall?\n",
    "- Which job titles rated culture above a 3?\n",
    "- How many reviews say they worked for the company for more than 5 years and rated working for the company below a 3?\n",
    "- Which company in our dataset has the most 5 overall ratings?\n",
    "\n",
    "Suggested question starters:\n",
    "- \"Which reviews...\"\n",
    "- \"How many reviews...\"\n",
    "\n",
    "<b>Write your three questions as comments below:</b>"
   ]
  },
  {
   "cell_type": "code",
   "execution_count": 1,
   "metadata": {
    "colab": {
     "base_uri": "https://localhost:8080/",
     "height": 34
    },
    "colab_type": "code",
    "id": "YJmqGT5BqpsX",
    "outputId": "1e3929cd-dbf2-4992-c826-b2223077ba55"
   },
   "outputs": [],
   "source": [
    "# QUESTION 1: "
   ]
  },
  {
   "cell_type": "code",
   "execution_count": null,
   "metadata": {
    "colab": {
     "base_uri": "https://localhost:8080/",
     "height": 317
    },
    "colab_type": "code",
    "id": "0zAthhHDq7Qk",
    "outputId": "6a4237df-8cfb-4bbc-93fe-c4811cc5d3ae"
   },
   "outputs": [],
   "source": [
    "# QUESTION 2:"
   ]
  },
  {
   "cell_type": "code",
   "execution_count": null,
   "metadata": {},
   "outputs": [],
   "source": [
    "# QUESTION 3: "
   ]
  },
  {
   "cell_type": "markdown",
   "metadata": {
    "colab_type": "text",
    "id": "m5ag0mS_ESj0"
   },
   "source": [
    "## Data Visualization\n",
    "\n",
    "How are review ratings (1-5) distributed?"
   ]
  },
  {
   "cell_type": "code",
   "execution_count": null,
   "metadata": {
    "colab": {
     "base_uri": "https://localhost:8080/",
     "height": 119
    },
    "colab_type": "code",
    "id": "_j5YWzJoEfs5",
    "outputId": "ba547efb-a11d-45ee-c5ff-dc29d6bb27c9"
   },
   "outputs": [],
   "source": []
  },
  {
   "cell_type": "code",
   "execution_count": null,
   "metadata": {
    "colab": {
     "base_uri": "https://localhost:8080/",
     "height": 292
    },
    "colab_type": "code",
    "id": "Jzgw_6c8EhaF",
    "outputId": "3d07916f-4185-42b5-9ed8-650e481b2e73"
   },
   "outputs": [],
   "source": []
  },
  {
   "cell_type": "code",
   "execution_count": 0,
   "metadata": {
    "colab": {},
    "colab_type": "code",
    "id": "zLBvS0mjlQgY"
   },
   "outputs": [],
   "source": []
  },
  {
   "cell_type": "markdown",
   "metadata": {
    "colab_type": "text",
    "id": "5U5QOekIE_pM"
   },
   "source": [
    "How do overall ratings change over time?"
   ]
  },
  {
   "cell_type": "code",
   "execution_count": null,
   "metadata": {
    "colab": {
     "base_uri": "https://localhost:8080/",
     "height": 374
    },
    "colab_type": "code",
    "id": "DwgYuyTredEk",
    "outputId": "76ceaa4f-5ad1-490e-93e0-2c81b8267e36"
   },
   "outputs": [],
   "source": []
  },
  {
   "cell_type": "code",
   "execution_count": null,
   "metadata": {
    "colab": {
     "base_uri": "https://localhost:8080/",
     "height": 139
    },
    "colab_type": "code",
    "id": "jDuurJVTfJ9a",
    "outputId": "501553e9-0477-47e4-eb3b-4a0235442803"
   },
   "outputs": [],
   "source": []
  },
  {
   "cell_type": "code",
   "execution_count": null,
   "metadata": {
    "colab": {
     "base_uri": "https://localhost:8080/",
     "height": 241
    },
    "colab_type": "code",
    "id": "QqEVjz3xhNH7",
    "outputId": "22555c27-b0f5-4e60-e6e0-ad4bac5bf1a2"
   },
   "outputs": [],
   "source": []
  },
  {
   "cell_type": "markdown",
   "metadata": {
    "colab_type": "text",
    "id": "0Cv6wsXMGuCE"
   },
   "source": [
    "Is the company getting more senior over time?"
   ]
  },
  {
   "cell_type": "code",
   "execution_count": null,
   "metadata": {
    "colab": {
     "base_uri": "https://localhost:8080/",
     "height": 300
    },
    "colab_type": "code",
    "id": "IjU9Hrx1GJG7",
    "outputId": "c82ab066-9b3e-4b0a-d8f5-649790a8746c"
   },
   "outputs": [],
   "source": []
  },
  {
   "cell_type": "markdown",
   "metadata": {
    "colab_type": "text",
    "id": "bcAqljVrGzDC"
   },
   "source": [
    "How do the ratings from reviews that recommend working at the company compare to those reviews that do not?"
   ]
  },
  {
   "cell_type": "code",
   "execution_count": null,
   "metadata": {
    "colab": {
     "base_uri": "https://localhost:8080/",
     "height": 221
    },
    "colab_type": "code",
    "id": "fkxJVgzMHgN3",
    "outputId": "6be9f705-f830-4d7c-a272-09696f0acfce"
   },
   "outputs": [],
   "source": []
  },
  {
   "cell_type": "code",
   "execution_count": null,
   "metadata": {},
   "outputs": [],
   "source": []
  },
  {
   "cell_type": "code",
   "execution_count": null,
   "metadata": {
    "colab": {
     "base_uri": "https://localhost:8080/",
     "height": 307
    },
    "colab_type": "code",
    "id": "VWKGE6n2G-ID",
    "outputId": "ed6476d4-f5c6-41fe-b42a-7f658dc19622"
   },
   "outputs": [],
   "source": []
  }
 ],
 "metadata": {
  "colab": {
   "collapsed_sections": [
    "s4eHZSEBGhA-"
   ],
   "name": "DataBootcampPilotDay1.ipynb",
   "provenance": [],
   "version": "0.3.2"
  },
  "kernelspec": {
   "display_name": "Python 3",
   "language": "python",
   "name": "python3"
  },
  "language_info": {
   "codemirror_mode": {
    "name": "ipython",
    "version": 3
   },
   "file_extension": ".py",
   "mimetype": "text/x-python",
   "name": "python",
   "nbconvert_exporter": "python",
   "pygments_lexer": "ipython3",
   "version": "3.7.0"
  }
 },
 "nbformat": 4,
 "nbformat_minor": 1
}
