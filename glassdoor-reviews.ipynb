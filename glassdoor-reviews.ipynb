{
  "nbformat": 4,
  "nbformat_minor": 0,
  "metadata": {
    "colab": {
      "name": "DataBootcampPilotDay1.ipynb",
      "version": "0.3.2",
      "provenance": [],
      "collapsed_sections": [
        "s4eHZSEBGhA-"
      ]
    },
    "kernelspec": {
      "name": "python3",
      "display_name": "Python 3"
    }
  },
  "cells": [
    {
      "cell_type": "markdown",
      "metadata": {
        "id": "CzxRrjMD_I1s",
        "colab_type": "text"
      },
      "source": [
        "# Data Exploration: Glassdoor reviews\n",
        "\n",
        "Brief: Improve employee satisfaction by using real Glassdoor reviews to propose targeted programming for a segment of employees."
      ]
    },
    {
      "cell_type": "markdown",
      "metadata": {
        "id": "0ZtiftTU_R6Q",
        "colab_type": "text"
      },
      "source": [
        "## Data exploration\n",
        "\n",
        "### Sourcing Data\n",
        "\n",
        "What is the standard way to import pandas functionality into your notebook?"
      ]
    },
    {
      "cell_type": "code",
      "metadata": {
        "id": "vAHRin10eQxm",
        "colab_type": "code",
        "colab": {}
      },
      "source": [
        "import pandas as pd"
      ],
      "execution_count": 0,
      "outputs": []
    },
    {
      "cell_type": "markdown",
      "metadata": {
        "id": "rDMiK8jz_fwg",
        "colab_type": "text"
      },
      "source": [
        "How can you use pandas to read the data from the CSV file? How can you store that data for later use?"
      ]
    },
    {
      "cell_type": "code",
      "metadata": {
        "id": "kloXDB5gd2jw",
        "colab_type": "code",
        "outputId": "4e649301-8bea-472c-cd7e-96e8a9ae43b7",
        "colab": {
          "base_uri": "https://localhost:8080/",
          "height": 54
        }
      },
      "source": [
        "# TEMP\n",
        "from google.colab import drive\n",
        "drive.mount(\"/content/drive\")\n",
        "df = pd.read_csv(\"/content/drive/Team Drives/Decoded NY/Data Bootcamp/Content/Product development/Pilot/Glassdoor Data/glassdoor_reviews.csv\")"
      ],
      "execution_count": 0,
      "outputs": [
        {
          "output_type": "stream",
          "text": [
            "Drive already mounted at /content/drive; to attempt to forcibly remount, call drive.mount(\"/content/drive\", force_remount=True).\n"
          ],
          "name": "stdout"
        }
      ]
    },
    {
      "cell_type": "code",
      "metadata": {
        "id": "hUtZuRftemLJ",
        "colab_type": "code",
        "colab": {}
      },
      "source": [
        "# Temp for now\n",
        "df = df.drop(columns=['approve_ceo', 'pros', 'cons', 'advice_to_mgmt'])"
      ],
      "execution_count": 0,
      "outputs": []
    },
    {
      "cell_type": "markdown",
      "metadata": {
        "id": "irWpTq9z_0WO",
        "colab_type": "text"
      },
      "source": [
        "### Stage 2: Explore and Transform"
      ]
    },
    {
      "cell_type": "markdown",
      "metadata": {
        "id": "ts9q2dsu_7pp",
        "colab_type": "text"
      },
      "source": [
        "### Initial Look at Data\n",
        "\n",
        "What do the first few rows of the DataFrame look like? What kinds of values are in the dataset and what do they represent?"
      ]
    },
    {
      "cell_type": "code",
      "metadata": {
        "id": "VWglom6feVHP",
        "colab_type": "code",
        "outputId": "424a1111-f2e0-41f9-85c2-fa84ad8ea1de",
        "colab": {
          "base_uri": "https://localhost:8080/",
          "height": 734
        }
      },
      "source": [
        "df.head()"
      ],
      "execution_count": 0,
      "outputs": [
        {
          "output_type": "execute_result",
          "data": {
            "text/html": [
              "<div>\n",
              "<style scoped>\n",
              "    .dataframe tbody tr th:only-of-type {\n",
              "        vertical-align: middle;\n",
              "    }\n",
              "\n",
              "    .dataframe tbody tr th {\n",
              "        vertical-align: top;\n",
              "    }\n",
              "\n",
              "    .dataframe thead th {\n",
              "        text-align: right;\n",
              "    }\n",
              "</style>\n",
              "<table border=\"1\" class=\"dataframe\">\n",
              "  <thead>\n",
              "    <tr style=\"text-align: right;\">\n",
              "      <th></th>\n",
              "      <th>date</th>\n",
              "      <th>employee_title</th>\n",
              "      <th>location</th>\n",
              "      <th>employee_status</th>\n",
              "      <th>outlook</th>\n",
              "      <th>recommend</th>\n",
              "      <th>review_title</th>\n",
              "      <th>years_at_company</th>\n",
              "      <th>helpful</th>\n",
              "      <th>rating_overall</th>\n",
              "      <th>rating_balance</th>\n",
              "      <th>rating_culture</th>\n",
              "      <th>rating_career</th>\n",
              "      <th>rating_comp</th>\n",
              "      <th>rating_mgmt</th>\n",
              "      <th>company_name</th>\n",
              "    </tr>\n",
              "  </thead>\n",
              "  <tbody>\n",
              "    <tr>\n",
              "      <th>0</th>\n",
              "      <td>Mon Jun 24 2019 19:34:24 GMT-0700 (Pacific Day...</td>\n",
              "      <td>Senior SAP Basis Administrator</td>\n",
              "      <td>New York, NY</td>\n",
              "      <td>Current Employee</td>\n",
              "      <td>Positive</td>\n",
              "      <td>Recommends</td>\n",
              "      <td>Awesome Company</td>\n",
              "      <td>1.0</td>\n",
              "      <td>NaN</td>\n",
              "      <td>5.0</td>\n",
              "      <td>3.0</td>\n",
              "      <td>4.0</td>\n",
              "      <td>3.0</td>\n",
              "      <td>4.0</td>\n",
              "      <td>4.0</td>\n",
              "      <td>Bloomberg</td>\n",
              "    </tr>\n",
              "    <tr>\n",
              "      <th>1</th>\n",
              "      <td>Sat Jun 22 2019 10:24:26 GMT-0700 (Pacific Day...</td>\n",
              "      <td>Team Leader</td>\n",
              "      <td>NaN</td>\n",
              "      <td>Current Employee</td>\n",
              "      <td>Positive</td>\n",
              "      <td>Recommends</td>\n",
              "      <td>Fantastic place to work with a very high ceiling!</td>\n",
              "      <td>1.0</td>\n",
              "      <td>1.0</td>\n",
              "      <td>5.0</td>\n",
              "      <td>5.0</td>\n",
              "      <td>4.0</td>\n",
              "      <td>5.0</td>\n",
              "      <td>4.0</td>\n",
              "      <td>5.0</td>\n",
              "      <td>Bloomberg</td>\n",
              "    </tr>\n",
              "    <tr>\n",
              "      <th>2</th>\n",
              "      <td>Tue Jun 18 2019 11:59:01 GMT-0700 (Pacific Day...</td>\n",
              "      <td>Enterprise Sales</td>\n",
              "      <td>New York, NY</td>\n",
              "      <td>Former Employee</td>\n",
              "      <td>Positive</td>\n",
              "      <td>Recommends</td>\n",
              "      <td>bloomberg</td>\n",
              "      <td>3.0</td>\n",
              "      <td>1.0</td>\n",
              "      <td>5.0</td>\n",
              "      <td>1.0</td>\n",
              "      <td>3.0</td>\n",
              "      <td>3.0</td>\n",
              "      <td>5.0</td>\n",
              "      <td>3.0</td>\n",
              "      <td>Bloomberg</td>\n",
              "    </tr>\n",
              "    <tr>\n",
              "      <th>3</th>\n",
              "      <td>Tue Jun 11 2019 08:06:31 GMT-0700 (Pacific Day...</td>\n",
              "      <td>Sales and Relationship Manager</td>\n",
              "      <td>New York, NY</td>\n",
              "      <td>Former Employee</td>\n",
              "      <td>Positive</td>\n",
              "      <td>Recommends</td>\n",
              "      <td>Great company to learn and experience the fina...</td>\n",
              "      <td>NaN</td>\n",
              "      <td>4.0</td>\n",
              "      <td>4.0</td>\n",
              "      <td>4.0</td>\n",
              "      <td>3.0</td>\n",
              "      <td>3.0</td>\n",
              "      <td>3.0</td>\n",
              "      <td>2.0</td>\n",
              "      <td>Bloomberg</td>\n",
              "    </tr>\n",
              "    <tr>\n",
              "      <th>4</th>\n",
              "      <td>Thu Jun 20 2019 05:52:34 GMT-0700 (Pacific Day...</td>\n",
              "      <td>Bloomberg Intelligence Associate</td>\n",
              "      <td>New York, NY</td>\n",
              "      <td>Former Employee</td>\n",
              "      <td>Positive</td>\n",
              "      <td>Recommends</td>\n",
              "      <td>Great place to learn and start career</td>\n",
              "      <td>5.0</td>\n",
              "      <td>NaN</td>\n",
              "      <td>4.0</td>\n",
              "      <td>3.0</td>\n",
              "      <td>5.0</td>\n",
              "      <td>5.0</td>\n",
              "      <td>5.0</td>\n",
              "      <td>3.0</td>\n",
              "      <td>Bloomberg</td>\n",
              "    </tr>\n",
              "  </tbody>\n",
              "</table>\n",
              "</div>"
            ],
            "text/plain": [
              "                                                date  ... company_name\n",
              "0  Mon Jun 24 2019 19:34:24 GMT-0700 (Pacific Day...  ...    Bloomberg\n",
              "1  Sat Jun 22 2019 10:24:26 GMT-0700 (Pacific Day...  ...    Bloomberg\n",
              "2  Tue Jun 18 2019 11:59:01 GMT-0700 (Pacific Day...  ...    Bloomberg\n",
              "3  Tue Jun 11 2019 08:06:31 GMT-0700 (Pacific Day...  ...    Bloomberg\n",
              "4  Thu Jun 20 2019 05:52:34 GMT-0700 (Pacific Day...  ...    Bloomberg\n",
              "\n",
              "[5 rows x 16 columns]"
            ]
          },
          "metadata": {
            "tags": []
          },
          "execution_count": 5
        }
      ]
    },
    {
      "cell_type": "markdown",
      "metadata": {
        "id": "bvk0-7kbADAM",
        "colab_type": "text"
      },
      "source": [
        "How much data is in this dataset?"
      ]
    },
    {
      "cell_type": "code",
      "metadata": {
        "id": "sIGcybULADm1",
        "colab_type": "code",
        "outputId": "f9e268bd-65bb-49ec-80ce-2f79b93b3f49",
        "colab": {
          "base_uri": "https://localhost:8080/",
          "height": 34
        }
      },
      "source": [
        "df.shape"
      ],
      "execution_count": 0,
      "outputs": [
        {
          "output_type": "execute_result",
          "data": {
            "text/plain": [
              "(24485, 16)"
            ]
          },
          "metadata": {
            "tags": []
          },
          "execution_count": 6
        }
      ]
    },
    {
      "cell_type": "markdown",
      "metadata": {
        "id": "n3bw66jkAwYX",
        "colab_type": "text"
      },
      "source": [
        "What is an average value for each column?"
      ]
    },
    {
      "cell_type": "code",
      "metadata": {
        "id": "pk5ojQ5-eYZD",
        "colab_type": "code",
        "outputId": "0b34d87a-8a71-4072-822b-b5f53c949cb7",
        "colab": {
          "base_uri": "https://localhost:8080/",
          "height": 317
        }
      },
      "source": [
        "df.describe()"
      ],
      "execution_count": 0,
      "outputs": [
        {
          "output_type": "execute_result",
          "data": {
            "text/html": [
              "<div>\n",
              "<style scoped>\n",
              "    .dataframe tbody tr th:only-of-type {\n",
              "        vertical-align: middle;\n",
              "    }\n",
              "\n",
              "    .dataframe tbody tr th {\n",
              "        vertical-align: top;\n",
              "    }\n",
              "\n",
              "    .dataframe thead th {\n",
              "        text-align: right;\n",
              "    }\n",
              "</style>\n",
              "<table border=\"1\" class=\"dataframe\">\n",
              "  <thead>\n",
              "    <tr style=\"text-align: right;\">\n",
              "      <th></th>\n",
              "      <th>years_at_company</th>\n",
              "      <th>helpful</th>\n",
              "      <th>rating_overall</th>\n",
              "      <th>rating_balance</th>\n",
              "      <th>rating_culture</th>\n",
              "      <th>rating_career</th>\n",
              "      <th>rating_comp</th>\n",
              "      <th>rating_mgmt</th>\n",
              "    </tr>\n",
              "  </thead>\n",
              "  <tbody>\n",
              "    <tr>\n",
              "      <th>count</th>\n",
              "      <td>14767.000000</td>\n",
              "      <td>6750.000000</td>\n",
              "      <td>24485.000000</td>\n",
              "      <td>21327.00000</td>\n",
              "      <td>21198.000000</td>\n",
              "      <td>21127.000000</td>\n",
              "      <td>20987.000000</td>\n",
              "      <td>20651.000000</td>\n",
              "    </tr>\n",
              "    <tr>\n",
              "      <th>mean</th>\n",
              "      <td>2.672784</td>\n",
              "      <td>3.048741</td>\n",
              "      <td>3.555687</td>\n",
              "      <td>3.25517</td>\n",
              "      <td>3.446528</td>\n",
              "      <td>3.401335</td>\n",
              "      <td>3.657979</td>\n",
              "      <td>3.040918</td>\n",
              "    </tr>\n",
              "    <tr>\n",
              "      <th>std</th>\n",
              "      <td>2.165896</td>\n",
              "      <td>14.001518</td>\n",
              "      <td>1.153320</td>\n",
              "      <td>1.28455</td>\n",
              "      <td>1.320625</td>\n",
              "      <td>1.239795</td>\n",
              "      <td>1.097830</td>\n",
              "      <td>1.320364</td>\n",
              "    </tr>\n",
              "    <tr>\n",
              "      <th>min</th>\n",
              "      <td>1.000000</td>\n",
              "      <td>1.000000</td>\n",
              "      <td>1.000000</td>\n",
              "      <td>1.00000</td>\n",
              "      <td>1.000000</td>\n",
              "      <td>1.000000</td>\n",
              "      <td>1.000000</td>\n",
              "      <td>1.000000</td>\n",
              "    </tr>\n",
              "    <tr>\n",
              "      <th>25%</th>\n",
              "      <td>1.000000</td>\n",
              "      <td>1.000000</td>\n",
              "      <td>3.000000</td>\n",
              "      <td>2.00000</td>\n",
              "      <td>3.000000</td>\n",
              "      <td>3.000000</td>\n",
              "      <td>3.000000</td>\n",
              "      <td>2.000000</td>\n",
              "    </tr>\n",
              "    <tr>\n",
              "      <th>50%</th>\n",
              "      <td>1.000000</td>\n",
              "      <td>1.000000</td>\n",
              "      <td>4.000000</td>\n",
              "      <td>3.00000</td>\n",
              "      <td>4.000000</td>\n",
              "      <td>4.000000</td>\n",
              "      <td>4.000000</td>\n",
              "      <td>3.000000</td>\n",
              "    </tr>\n",
              "    <tr>\n",
              "      <th>75%</th>\n",
              "      <td>3.000000</td>\n",
              "      <td>3.000000</td>\n",
              "      <td>4.000000</td>\n",
              "      <td>4.00000</td>\n",
              "      <td>5.000000</td>\n",
              "      <td>4.000000</td>\n",
              "      <td>5.000000</td>\n",
              "      <td>4.000000</td>\n",
              "    </tr>\n",
              "    <tr>\n",
              "      <th>max</th>\n",
              "      <td>8.000000</td>\n",
              "      <td>895.000000</td>\n",
              "      <td>5.000000</td>\n",
              "      <td>5.00000</td>\n",
              "      <td>5.000000</td>\n",
              "      <td>5.000000</td>\n",
              "      <td>5.000000</td>\n",
              "      <td>5.000000</td>\n",
              "    </tr>\n",
              "  </tbody>\n",
              "</table>\n",
              "</div>"
            ],
            "text/plain": [
              "       years_at_company      helpful  ...   rating_comp   rating_mgmt\n",
              "count      14767.000000  6750.000000  ...  20987.000000  20651.000000\n",
              "mean           2.672784     3.048741  ...      3.657979      3.040918\n",
              "std            2.165896    14.001518  ...      1.097830      1.320364\n",
              "min            1.000000     1.000000  ...      1.000000      1.000000\n",
              "25%            1.000000     1.000000  ...      3.000000      2.000000\n",
              "50%            1.000000     1.000000  ...      4.000000      3.000000\n",
              "75%            3.000000     3.000000  ...      5.000000      4.000000\n",
              "max            8.000000   895.000000  ...      5.000000      5.000000\n",
              "\n",
              "[8 rows x 8 columns]"
            ]
          },
          "metadata": {
            "tags": []
          },
          "execution_count": 7
        }
      ]
    },
    {
      "cell_type": "markdown",
      "metadata": {
        "id": "VW7u8hxPA0lg",
        "colab_type": "text"
      },
      "source": [
        "What other information would be useful from an initial survey, and how can we get that information?"
      ]
    },
    {
      "cell_type": "code",
      "metadata": {
        "id": "TipgyOoUBFdn",
        "colab_type": "code",
        "outputId": "e6aafc28-c570-48b7-c3cf-7edc1634a3f9",
        "colab": {
          "base_uri": "https://localhost:8080/",
          "height": 102
        }
      },
      "source": [
        "df.columns"
      ],
      "execution_count": 0,
      "outputs": [
        {
          "output_type": "execute_result",
          "data": {
            "text/plain": [
              "Index(['date', 'employee_title', 'location', 'employee_status', 'outlook',\n",
              "       'recommend', 'review_title', 'years_at_company', 'helpful',\n",
              "       'rating_overall', 'rating_balance', 'rating_culture', 'rating_career',\n",
              "       'rating_comp', 'rating_mgmt', 'company_name'],\n",
              "      dtype='object')"
            ]
          },
          "metadata": {
            "tags": []
          },
          "execution_count": 8
        }
      ]
    },
    {
      "cell_type": "code",
      "metadata": {
        "id": "9CUxMj8Vduzq",
        "colab_type": "code",
        "outputId": "c469b426-593d-4bfd-990e-56e5a6303d26",
        "colab": {
          "base_uri": "https://localhost:8080/",
          "height": 51
        }
      },
      "source": [
        "df['company_name'].unique()"
      ],
      "execution_count": 0,
      "outputs": [
        {
          "output_type": "execute_result",
          "data": {
            "text/plain": [
              "array(['Bloomberg', 'Apple', 'Friedkin Group', 'GE', 'JPMorgan Chase',\n",
              "       'Liberty Mutual', 'Toyota', 'PepsiCo'], dtype=object)"
            ]
          },
          "metadata": {
            "tags": []
          },
          "execution_count": 9
        }
      ]
    },
    {
      "cell_type": "markdown",
      "metadata": {
        "id": "dOHOjfB9A27g",
        "colab_type": "text"
      },
      "source": [
        "### Data Questions\n",
        "\n",
        "Write three questions about the data, then use Python and pandas to answer your questions. For example,\n",
        "\n",
        "- Which reviews were the most helpful?\n",
        "- How many reviews rate working for the company a 5 overall?\n",
        "- Which job titles rated culture above a 3?\n",
        "- How many reviews say they worked for the company for more than 5 years and rated working for the company below a 3?\n",
        "- Which company in our dataset has the most 5 overall ratings?\n",
        "\n",
        "Suggested question starters:\n",
        "- \"Which reviews...\"\n",
        "- \"How many reviews...\""
      ]
    },
    {
      "cell_type": "code",
      "metadata": {
        "id": "YJmqGT5BqpsX",
        "colab_type": "code",
        "outputId": "1e3929cd-dbf2-4992-c826-b2223077ba55",
        "colab": {
          "base_uri": "https://localhost:8080/",
          "height": 34
        }
      },
      "source": [
        "# SHOW: Which reviews are about working at Apple? How many are there? (Note quotes on Apple)\n",
        "df_apple = df.query(\"company_name == 'Apple'\")\n",
        "df_apple.shape"
      ],
      "execution_count": 0,
      "outputs": [
        {
          "output_type": "execute_result",
          "data": {
            "text/plain": [
              "(2189, 16)"
            ]
          },
          "metadata": {
            "tags": []
          },
          "execution_count": 10
        }
      ]
    },
    {
      "cell_type": "code",
      "metadata": {
        "id": "0zAthhHDq7Qk",
        "colab_type": "code",
        "outputId": "6a4237df-8cfb-4bbc-93fe-c4811cc5d3ae",
        "colab": {
          "base_uri": "https://localhost:8080/",
          "height": 317
        }
      },
      "source": [
        "# SHOW: Initial look at Apple data -- anything interesting stand out?\n",
        "df_apple.describe()"
      ],
      "execution_count": 0,
      "outputs": [
        {
          "output_type": "execute_result",
          "data": {
            "text/html": [
              "<div>\n",
              "<style scoped>\n",
              "    .dataframe tbody tr th:only-of-type {\n",
              "        vertical-align: middle;\n",
              "    }\n",
              "\n",
              "    .dataframe tbody tr th {\n",
              "        vertical-align: top;\n",
              "    }\n",
              "\n",
              "    .dataframe thead th {\n",
              "        text-align: right;\n",
              "    }\n",
              "</style>\n",
              "<table border=\"1\" class=\"dataframe\">\n",
              "  <thead>\n",
              "    <tr style=\"text-align: right;\">\n",
              "      <th></th>\n",
              "      <th>years_at_company</th>\n",
              "      <th>helpful</th>\n",
              "      <th>rating_overall</th>\n",
              "      <th>rating_balance</th>\n",
              "      <th>rating_culture</th>\n",
              "      <th>rating_career</th>\n",
              "      <th>rating_comp</th>\n",
              "      <th>rating_mgmt</th>\n",
              "    </tr>\n",
              "  </thead>\n",
              "  <tbody>\n",
              "    <tr>\n",
              "      <th>count</th>\n",
              "      <td>1426.000000</td>\n",
              "      <td>483.000000</td>\n",
              "      <td>2189.000000</td>\n",
              "      <td>1884.000000</td>\n",
              "      <td>1870.000000</td>\n",
              "      <td>1867.000000</td>\n",
              "      <td>1853.000000</td>\n",
              "      <td>1835.000000</td>\n",
              "    </tr>\n",
              "    <tr>\n",
              "      <th>mean</th>\n",
              "      <td>2.589060</td>\n",
              "      <td>6.650104</td>\n",
              "      <td>4.015075</td>\n",
              "      <td>3.363057</td>\n",
              "      <td>4.098930</td>\n",
              "      <td>3.540975</td>\n",
              "      <td>4.183486</td>\n",
              "      <td>3.476294</td>\n",
              "    </tr>\n",
              "    <tr>\n",
              "      <th>std</th>\n",
              "      <td>1.944707</td>\n",
              "      <td>49.263494</td>\n",
              "      <td>1.086417</td>\n",
              "      <td>1.327368</td>\n",
              "      <td>1.233277</td>\n",
              "      <td>1.264914</td>\n",
              "      <td>1.002054</td>\n",
              "      <td>1.352271</td>\n",
              "    </tr>\n",
              "    <tr>\n",
              "      <th>min</th>\n",
              "      <td>1.000000</td>\n",
              "      <td>1.000000</td>\n",
              "      <td>1.000000</td>\n",
              "      <td>1.000000</td>\n",
              "      <td>1.000000</td>\n",
              "      <td>1.000000</td>\n",
              "      <td>1.000000</td>\n",
              "      <td>1.000000</td>\n",
              "    </tr>\n",
              "    <tr>\n",
              "      <th>25%</th>\n",
              "      <td>1.000000</td>\n",
              "      <td>1.000000</td>\n",
              "      <td>3.000000</td>\n",
              "      <td>2.000000</td>\n",
              "      <td>3.000000</td>\n",
              "      <td>3.000000</td>\n",
              "      <td>4.000000</td>\n",
              "      <td>3.000000</td>\n",
              "    </tr>\n",
              "    <tr>\n",
              "      <th>50%</th>\n",
              "      <td>1.000000</td>\n",
              "      <td>2.000000</td>\n",
              "      <td>4.000000</td>\n",
              "      <td>3.000000</td>\n",
              "      <td>5.000000</td>\n",
              "      <td>4.000000</td>\n",
              "      <td>4.000000</td>\n",
              "      <td>4.000000</td>\n",
              "    </tr>\n",
              "    <tr>\n",
              "      <th>75%</th>\n",
              "      <td>3.000000</td>\n",
              "      <td>3.000000</td>\n",
              "      <td>5.000000</td>\n",
              "      <td>5.000000</td>\n",
              "      <td>5.000000</td>\n",
              "      <td>5.000000</td>\n",
              "      <td>5.000000</td>\n",
              "      <td>5.000000</td>\n",
              "    </tr>\n",
              "    <tr>\n",
              "      <th>max</th>\n",
              "      <td>8.000000</td>\n",
              "      <td>895.000000</td>\n",
              "      <td>5.000000</td>\n",
              "      <td>5.000000</td>\n",
              "      <td>5.000000</td>\n",
              "      <td>5.000000</td>\n",
              "      <td>5.000000</td>\n",
              "      <td>5.000000</td>\n",
              "    </tr>\n",
              "  </tbody>\n",
              "</table>\n",
              "</div>"
            ],
            "text/plain": [
              "       years_at_company     helpful  ...  rating_comp  rating_mgmt\n",
              "count       1426.000000  483.000000  ...  1853.000000  1835.000000\n",
              "mean           2.589060    6.650104  ...     4.183486     3.476294\n",
              "std            1.944707   49.263494  ...     1.002054     1.352271\n",
              "min            1.000000    1.000000  ...     1.000000     1.000000\n",
              "25%            1.000000    1.000000  ...     4.000000     3.000000\n",
              "50%            1.000000    2.000000  ...     4.000000     4.000000\n",
              "75%            3.000000    3.000000  ...     5.000000     5.000000\n",
              "max            8.000000  895.000000  ...     5.000000     5.000000\n",
              "\n",
              "[8 rows x 8 columns]"
            ]
          },
          "metadata": {
            "tags": []
          },
          "execution_count": 11
        }
      ]
    },
    {
      "cell_type": "code",
      "metadata": {
        "id": "BpM4HBDEg02V",
        "colab_type": "code",
        "colab": {}
      },
      "source": [
        "#\n",
        "# CHECKPOINT: All learners have a new dataframe for their own company and understand\n",
        "# that to work with their own data, they need to use their own the new variable name.\n",
        "#"
      ],
      "execution_count": 0,
      "outputs": []
    },
    {
      "cell_type": "code",
      "metadata": {
        "id": "MaoSfdEZBbt3",
        "colab_type": "code",
        "outputId": "5034febd-8d60-4b6f-cd1c-6a0987dfc90e",
        "colab": {
          "base_uri": "https://localhost:8080/",
          "height": 202
        }
      },
      "source": [
        "# SHOW: There's some review that is much more helpful than standard -- which one? (Note no quotes on 895)\n",
        "df_apple.query(\"helpful == 895\")"
      ],
      "execution_count": 0,
      "outputs": [
        {
          "output_type": "execute_result",
          "data": {
            "text/html": [
              "<div>\n",
              "<style scoped>\n",
              "    .dataframe tbody tr th:only-of-type {\n",
              "        vertical-align: middle;\n",
              "    }\n",
              "\n",
              "    .dataframe tbody tr th {\n",
              "        vertical-align: top;\n",
              "    }\n",
              "\n",
              "    .dataframe thead th {\n",
              "        text-align: right;\n",
              "    }\n",
              "</style>\n",
              "<table border=\"1\" class=\"dataframe\">\n",
              "  <thead>\n",
              "    <tr style=\"text-align: right;\">\n",
              "      <th></th>\n",
              "      <th>date</th>\n",
              "      <th>employee_title</th>\n",
              "      <th>location</th>\n",
              "      <th>employee_status</th>\n",
              "      <th>outlook</th>\n",
              "      <th>recommend</th>\n",
              "      <th>review_title</th>\n",
              "      <th>years_at_company</th>\n",
              "      <th>helpful</th>\n",
              "      <th>rating_overall</th>\n",
              "      <th>rating_balance</th>\n",
              "      <th>rating_culture</th>\n",
              "      <th>rating_career</th>\n",
              "      <th>rating_comp</th>\n",
              "      <th>rating_mgmt</th>\n",
              "      <th>company_name</th>\n",
              "    </tr>\n",
              "  </thead>\n",
              "  <tbody>\n",
              "    <tr>\n",
              "      <th>1610</th>\n",
              "      <td>Thu Aug 28 2014 21:07:35 GMT-0700 (Pacific Day...</td>\n",
              "      <td>Anonymous Employee</td>\n",
              "      <td>NaN</td>\n",
              "      <td>Current Employee</td>\n",
              "      <td>Positive</td>\n",
              "      <td>Recommends</td>\n",
              "      <td>Challenging, Rewarding, but ZERO work/life bal...</td>\n",
              "      <td>1.0</td>\n",
              "      <td>895.0</td>\n",
              "      <td>4.0</td>\n",
              "      <td>1.0</td>\n",
              "      <td>3.0</td>\n",
              "      <td>3.0</td>\n",
              "      <td>3.0</td>\n",
              "      <td>3.0</td>\n",
              "      <td>Apple</td>\n",
              "    </tr>\n",
              "  </tbody>\n",
              "</table>\n",
              "</div>"
            ],
            "text/plain": [
              "                                                   date  ... company_name\n",
              "1610  Thu Aug 28 2014 21:07:35 GMT-0700 (Pacific Day...  ...        Apple\n",
              "\n",
              "[1 rows x 16 columns]"
            ]
          },
          "metadata": {
            "tags": []
          },
          "execution_count": 13
        }
      ]
    },
    {
      "cell_type": "code",
      "metadata": {
        "id": "q_e37FMXekgY",
        "colab_type": "code",
        "outputId": "3b87260b-d66b-46b3-cecf-11db503a5a71",
        "colab": {
          "base_uri": "https://localhost:8080/",
          "height": 1000
        }
      },
      "source": [
        "# SHOW: This employee is anonymous - what are some possible Apple titles?\n",
        "df_apple[\"employee_title\"].unique()"
      ],
      "execution_count": 0,
      "outputs": [
        {
          "output_type": "execute_result",
          "data": {
            "text/plain": [
              "array(['Product Specialist', 'Anonymous Employee',\n",
              "       'Apple At Home Advisor', 'Specialist', 'Reseller Specialist',\n",
              "       'Software Engineer', 'Technical Specialist', 'Team Lead',\n",
              "       'Redzone Specialist', 'Technical Expert',\n",
              "       'Learning and Development Specialist', 'Product Zone Specialist',\n",
              "       'Client Engineer', 'Genius', 'Expert', 'Senior Counsel',\n",
              "       'Verification Design Engineer', 'Project Manager',\n",
              "       'Technician Specialist', 'Business Expert',\n",
              "       'Senior Technical Support Advisor', 'Operations', 'Internship',\n",
              "       'Sales/Customer Service Online Store', 'Vice President Sales',\n",
              "       'Apple Technical Specialist', 'Full Stack Developer',\n",
              "       'Senior Optical Engineer', 'Sales Associate',\n",
              "       'GPU Performance Engineer', 'Tech Support, Mentor',\n",
              "       'Marketing Lead', 'Apple Sales Specialist', 'Business Manager',\n",
              "       'Administrative Assistant', 'Senior Advisor', 'Technical Advise',\n",
              "       'Apple Genius', 'genious', 'Apple AHA', 'College IOS Advisor',\n",
              "       'Senior Recruiter', 'AHA College Program', 'Campus Specialist',\n",
              "       'Development Director', 'Supervisor', 'Principal Engineer',\n",
              "       'Technical Advisor', 'Home Based Agent', 'Senior Data Analyst',\n",
              "       'Intern', 'Material Handler', 'Product Marketing Manager',\n",
              "       'Manager', 'Marketing', 'Apple Mac Expert', 'Hardware Engineer',\n",
              "       'Team Manager', 'Producer', 'Customer Relations', 'Creative',\n",
              "       'Global Commodity Manager', 'Web Developer',\n",
              "       'Operations Specialist', 'Lead Product Manager',\n",
              "       'Senior Project Manager', 'Technology & Merchandising Pro',\n",
              "       'Creative Media Advisor', 'GSM', 'Junior Data Scientist', 'SRE',\n",
              "       'Medical Insurer Needs to Change', 'Lead Chef',\n",
              "       'Apple Retail Specialist', 'Applecare At Home Advisor',\n",
              "       'Marketing Manager', 'Technical Support Specialist',\n",
              "       'Manufacturing Engineer', 'AppleCare College Advisor',\n",
              "       'Computer Programmer', 'Software', 'Team Leader', 'AHA Advisor',\n",
              "       'IOS Technical Support Advisor', 'Seasonal Specialist', 'Engineer',\n",
              "       'Apple Family Room Specialist', 'Retail Store Manager',\n",
              "       'IT Advisor', 'Senior Web Developer', 'Mac Genius',\n",
              "       'Senior Software Engineer', 'Tier I IOS Advisor',\n",
              "       'Supply Chain Manager', 'Insensitivity Towards Employee Health',\n",
              "       'Tech Specialist', 'Senior Manager', 'BOH Team Member',\n",
              "       'Design Coordinator', 'Analyst', nan, 'Creative Pro',\n",
              "       'Business Specialist', 'EPM', 'Job Coach', 'Tech Expert',\n",
              "       'Senior Data Scientist', 'Sales', 'Data Scientist',\n",
              "       'Red Zone Specialist', 'Technician', 'FRS', 'Lead Genius',\n",
              "       'Sales Specialist', 'Human Resources Generalist', 'Soft',\n",
              "       'AppleCare Senior Advisor', 'Retail Sales Associate',\n",
              "       'Senior Administrative Assistant', 'Associate Consultant',\n",
              "       'Escalation Engineer', 'Senior Attorney', 'College Advisor',\n",
              "       'Software Developer', 'Technical Specialist (Genius Bar)',\n",
              "       'Sales Representative', 'College At Home Advisor',\n",
              "       'Customer Service Representative', 'Apple Creative', 'Support T1',\n",
              "       'Engineering Project Manager', 'Maintenance Supervisor',\n",
              "       'Senior Product Design Engineer', 'Software Test Engineer',\n",
              "       'Business Pro', 'ITunes Advisor', 'Pro', 'Store Leader',\n",
              "       'Technical Evangelist', 'Mac + Senior Advisor', 'Administrative',\n",
              "       'Mac+ Advisor AHA', 'Senior Chat Advisor', 'Smb Specialist',\n",
              "       'Lab Manager', 'Senior Customer Service Representative',\n",
              "       'Worker At Corporate HQ', 'Legend', 'App Developer',\n",
              "       'Technical Support Representative', 'Technical Program Manager',\n",
              "       'Apple Level V Engineer', 'Global Supply Manager', 'Advisor',\n",
              "       'Mechanical Quality Engineer', 'Director', 'Technical Trainer',\n",
              "       'Remote Support Tech RST II', 'Sales Support',\n",
              "       'Multimedia Specialist', 'Hardware Development Engineer',\n",
              "       'Data Center Technician', 'Genius Administrator',\n",
              "       'Allocation Execution Specialist', 'Channel Sales Manager',\n",
              "       'Clerk', 'Apple Technical Expert', 'Chief Executive Officer',\n",
              "       'Aha', 'QA Engineer', 'Tech Support', 'IOS & Mac+ Tier I Tech',\n",
              "       'Agreement Administration T1', 'Creative Media Tier I Advisor',\n",
              "       'Solutions Architect', 'Account Executive',\n",
              "       'Family Room Specialist', 'National Account Manager', 'WWDC',\n",
              "       'Machine Learning Scientist', 'Senior Program Manager',\n",
              "       'Genius Administrative', 'Kitchen Manager', 'Dock Worker',\n",
              "       'Worker', 'Finance Manager', 'Consultant', 'Tier One Advisor',\n",
              "       'Cannot Say', 'Analog IC Designer', 'Fraud Analyst',\n",
              "       'Senior Finance Manager', 'Senior Technical Advisor', 'Developer',\n",
              "       'ITunes Store Support Tier II', 'Specialist (Retail)',\n",
              "       'Data Center Operations', 'Stagiaire', 'Senior Technician',\n",
              "       'Campus Representative', 'Tech Advisor', 'Retail Specialist',\n",
              "       'Product Technician', 'Home Advisor', 'WW Supply Demand Planner',\n",
              "       'Inventory Specialist', 'Mobile Device Technician', 'Mac+ Tier I',\n",
              "       \"Can't Say\", 'A for Apple', 'At', 'Senior Hardware EPM', 'Tier I',\n",
              "       'Senior User Experience Designer III', 'Business Development',\n",
              "       'Senior Panel Design', 'Mac Plus Senior Advisor',\n",
              "       'Apple Solutions Consultant', 'Support',\n",
              "       'IT Network Administrator', 'Retail Development',\n",
              "       'Technical Support', 'Data Entry', 'Tech Support T2',\n",
              "       'Technical Lead', 'Apple At Home College Advisor',\n",
              "       'Senior UI Engineer', 'Investigations Specialist',\n",
              "       'Applications Specialist', 'Platform Specialist', 'Apple Care',\n",
              "       'Senior Mechanical Design Engineer', 'A/R',\n",
              "       'Channel Support Specialist', 'Special Projects',\n",
              "       'Technical Speci', 'Systems Design Engineer',\n",
              "       'User Experience Designer', 'Lead', 'Head of Business Development',\n",
              "       'Senior Engineering Manager', 'Product Design Engineer',\n",
              "       'ADPS T2 Advisor', 'IOS QA Software Engineer',\n",
              "       'Senior Technical Support Advisor (At Home)', 'Software Manager',\n",
              "       'Mechanical Engineer', 'Head of Marketing', 'Account Manager',\n",
              "       'Tech Support Representative', 'At Home Mac+ Advisor',\n",
              "       'Software Engineer IV', 'ITunes Store Senior Advisor',\n",
              "       'Sales Specialist and Volunteer Coordinator',\n",
              "       'WWDR IOS App Review', 'Reatil Specialist',\n",
              "       'Senior Technical Program Manager', 'Product Manager',\n",
              "       'Integration Engineer', 'Customer Service Representative Tier II',\n",
              "       'Inside Sales Representative', 'Senior Financial Analyst',\n",
              "       'Site Reliability Engineer', 'Software Engineering Intern',\n",
              "       'Store Manager', 'College Technical Advisor', 'CSR2',\n",
              "       'Operations (Engineering)', 'Apple Enterprise Senior Advisor',\n",
              "       'College Student Technical Specialist', 'Display Engineer',\n",
              "       'Executive Administrative Assistant', 'Devops Engineer',\n",
              "       'Battery Algorithm Engineer', 'Retail Marketing Coordinator',\n",
              "       'ITunes Content Producer', 'College AppleCare Advisor',\n",
              "       'Financial Analyst', 'IT Specialist', 'Operations Expert',\n",
              "       'Art Director', 'Engineering Program Manager',\n",
              "       'IOS Senior Advisor', 'Chat Agent', 'Senior Technical Support',\n",
              "       'Specialist (Seasonal)', 'Graphics Hardware Engineer',\n",
              "       'Schedule Planner', 'SEG', 'Senior CAD Engineer', 'Chat Tech',\n",
              "       'Software Engineer V', 'Marketing Director', 'AHA Senior Advisor',\n",
              "       'App Reviewer', 'Carpe Facto Advisor',\n",
              "       'Senior Engineering Program Manager',\n",
              "       'Enterprise Account Executive', 'Student', 'Research Associate',\n",
              "       'At Home Mobile Tech Support', 'Market Leader',\n",
              "       'Repair Room Administrator', 'Procurement Analyst',\n",
              "       'Chat Senior Specialist', 'IT Analyst', 'Systems Engineer',\n",
              "       'BreakFix Team Lead', 'Samsung Field Sales Manager',\n",
              "       'Operations Manager', 'Apple Retail', 'Marketing Specialist',\n",
              "       'Solutions Consultant', 'T2 Manager', 'California',\n",
              "       'Tech Support Advisor', 'Associate Regional Manager',\n",
              "       'Field Representative', 'Engineering Manager', 'Senior Director',\n",
              "       'Team Deputy ITunes Fraud', 'Accounting Analyst',\n",
              "       'Store Administrative Assistant', 'Strategic Sourcing Manager',\n",
              "       'Trainer and Technician', 'Technical Project Manager',\n",
              "       'IOS App Reviewer', 'Web Applications Developer', 'Mac+ Advisor',\n",
              "       'Business Development Executive', 'Physical Design Engineer',\n",
              "       'Research Engineer', 'Retail Sales Specialist',\n",
              "       'Senior QA Automation Engineer', 'Individual Contributor Tech IV',\n",
              "       'Retail', 'Full Time Specialist', 'Facilities Engineer',\n",
              "       'Tech Writer', 'SSR', 'AppleCare Senior Specialist', 'College AHA',\n",
              "       'Applecare Advisor', 'SDE2', 'Senior Engineer',\n",
              "       'Apple Care Senior Advisor', 'Senior Network Engineer',\n",
              "       'Release Manager', 'Senior Software QA Engineer',\n",
              "       'Programming Expert', 'Logistics Specialist',\n",
              "       'Apple Corporate Specialist', 'ITunes', 'Ios Software Engineer',\n",
              "       'Technician/Trainer (Retail)', 'Machine Learning Engineer',\n",
              "       'IOS Senior Advisor T2', 'Senior Operations Program Manager',\n",
              "       'Senior Hardware Engineering Manager', 'CCA/QAA', 'Mac Expert',\n",
              "       'Senior Hardware Engineer', 'Apple Technician', 'App Review',\n",
              "       'Business Strategy Manager', 'Visual Merchandising Specialist',\n",
              "       'Product Design', 'Applecare Senior Advsior',\n",
              "       'Apple Product Verification', 'Customer Service',\n",
              "       'Senior Engineering Technician', 'Technical Support Advisor',\n",
              "       'Apple Maps', 'Mechanical Design Engineer',\n",
              "       'Senior Security Engineer', 'Merchandising Specialist',\n",
              "       'Chef Security MFA Engineer', 'Production Assistant',\n",
              "       'Senior Member of Technical Staff', 'Digital Design Lead',\n",
              "       'Carrier Account Manager', 'Software Engineer, ICT5',\n",
              "       'Preservation and Operations Specialist', 'Sellebrity',\n",
              "       'Operations Project Specialist', 'Genius Bar',\n",
              "       'Research Scientist', 'Part Time Sales Associate',\n",
              "       'Systems Analyst', 'Fraud Prevention Specialist',\n",
              "       'Global Employer Liability Manager', 'Support Specialist',\n",
              "       'At Home Senior Advisor', 'Senior Technical Specialist',\n",
              "       'Tier I Mac+ Advisor', 'Senior Retail Sales Manager', 'Programmer',\n",
              "       'Content Producer', 'Administrative Support Specialist',\n",
              "       'IOS Technical Specialist', 'Chat Representative',\n",
              "       'Corporate Security Officer', 'Worldwide Developer Relations',\n",
              "       'Business Development Manager', 'Corporate Employee'], dtype=object)"
            ]
          },
          "metadata": {
            "tags": []
          },
          "execution_count": 14
        }
      ]
    },
    {
      "cell_type": "code",
      "metadata": {
        "id": "2HFX57-8e38-",
        "colab_type": "code",
        "outputId": "759188be-be4e-4edb-b7cf-71bf4e5a5656",
        "colab": {
          "base_uri": "https://localhost:8080/",
          "height": 34
        }
      },
      "source": [
        "# SHOW: That's a lot! How many?\n",
        "# Google 'number of unique values in column pandas' to find .nunique() on Stackoverflow.\n",
        "# Talk about effective Googling, such as being specific, including pandas/Python, and how to parse Stackoverflow\n",
        "df_apple[\"employee_title\"].nunique()"
      ],
      "execution_count": 0,
      "outputs": [
        {
          "output_type": "execute_result",
          "data": {
            "text/plain": [
              "404"
            ]
          },
          "metadata": {
            "tags": []
          },
          "execution_count": 15
        }
      ]
    },
    {
      "cell_type": "code",
      "metadata": {
        "id": "cmqsnLhvBM8J",
        "colab_type": "code",
        "outputId": "abdc0618-dfa0-459f-8161-0d49e2ed2582",
        "colab": {
          "base_uri": "https://localhost:8080/",
          "height": 34
        }
      },
      "source": [
        "# SHOW: How many overall 5 ratings?\n",
        "df_apple.query(\"rating_overall == 5\").shape"
      ],
      "execution_count": 0,
      "outputs": [
        {
          "output_type": "execute_result",
          "data": {
            "text/plain": [
              "(902, 16)"
            ]
          },
          "metadata": {
            "tags": []
          },
          "execution_count": 16
        }
      ]
    },
    {
      "cell_type": "code",
      "metadata": {
        "id": "f9Ggh0VrfjDZ",
        "colab_type": "code",
        "outputId": "6268405a-813f-4c7e-f485-7ef1346c9c0e",
        "colab": {
          "base_uri": "https://localhost:8080/",
          "height": 51
        }
      },
      "source": [
        "# SHOW: What percent of ratings are 5s? Model breaking question down and storing in variables\n",
        "\n",
        "# Need number of 5s\n",
        "rated5apple = df_apple.query(\"rating_overall == 5\").shape[0]\n",
        "\n",
        "# Need total number\n",
        "total_apple = df_apple.shape[0]\n",
        "\n",
        "print(rated5apple/total_apple)\n",
        "\n",
        "# SHOW: Google \"format as a percent python\" or equivalent to model finding a tutorial\n",
        "# Share that participants should actively try to do new things independently\n",
        "print(\"{:.2%} of Apple reviews gave a 5 rating overall!\".format(rated5apple/total_apple));"
      ],
      "execution_count": 0,
      "outputs": [
        {
          "output_type": "stream",
          "text": [
            "0.4120603015075377\n",
            "41.21% of Apple reviews gave a 5 rating overall!\n"
          ],
          "name": "stdout"
        }
      ]
    },
    {
      "cell_type": "code",
      "metadata": {
        "id": "h0veiFNefV-_",
        "colab_type": "code",
        "colab": {}
      },
      "source": [
        "#\n",
        "# Release people to ask/answer their own questions\n",
        "# Example learner behavior follows\n",
        "#"
      ],
      "execution_count": 0,
      "outputs": []
    },
    {
      "cell_type": "code",
      "metadata": {
        "id": "PhGWmg7gBj0i",
        "colab_type": "code",
        "outputId": "ca71d5f6-a845-4e1e-c0a4-8bdef2accd1f",
        "colab": {
          "base_uri": "https://localhost:8080/",
          "height": 317
        }
      },
      "source": [
        "df_bloomberg = df.query(\"company_name == 'Bloomberg'\")\n",
        "df_bloomberg.query(\"employee_title == 'Analyst' & years_at_company > 3\").describe()"
      ],
      "execution_count": 0,
      "outputs": [
        {
          "output_type": "execute_result",
          "data": {
            "text/html": [
              "<div>\n",
              "<style scoped>\n",
              "    .dataframe tbody tr th:only-of-type {\n",
              "        vertical-align: middle;\n",
              "    }\n",
              "\n",
              "    .dataframe tbody tr th {\n",
              "        vertical-align: top;\n",
              "    }\n",
              "\n",
              "    .dataframe thead th {\n",
              "        text-align: right;\n",
              "    }\n",
              "</style>\n",
              "<table border=\"1\" class=\"dataframe\">\n",
              "  <thead>\n",
              "    <tr style=\"text-align: right;\">\n",
              "      <th></th>\n",
              "      <th>years_at_company</th>\n",
              "      <th>helpful</th>\n",
              "      <th>rating_overall</th>\n",
              "      <th>rating_balance</th>\n",
              "      <th>rating_culture</th>\n",
              "      <th>rating_career</th>\n",
              "      <th>rating_comp</th>\n",
              "      <th>rating_mgmt</th>\n",
              "    </tr>\n",
              "  </thead>\n",
              "  <tbody>\n",
              "    <tr>\n",
              "      <th>count</th>\n",
              "      <td>6.000000</td>\n",
              "      <td>2.000000</td>\n",
              "      <td>6.000000</td>\n",
              "      <td>5.00000</td>\n",
              "      <td>5.0</td>\n",
              "      <td>4.000000</td>\n",
              "      <td>4.000000</td>\n",
              "      <td>4.000000</td>\n",
              "    </tr>\n",
              "    <tr>\n",
              "      <th>mean</th>\n",
              "      <td>5.500000</td>\n",
              "      <td>14.000000</td>\n",
              "      <td>3.666667</td>\n",
              "      <td>3.80000</td>\n",
              "      <td>4.0</td>\n",
              "      <td>2.750000</td>\n",
              "      <td>3.500000</td>\n",
              "      <td>3.500000</td>\n",
              "    </tr>\n",
              "    <tr>\n",
              "      <th>std</th>\n",
              "      <td>1.224745</td>\n",
              "      <td>8.485281</td>\n",
              "      <td>1.211060</td>\n",
              "      <td>1.30384</td>\n",
              "      <td>1.0</td>\n",
              "      <td>0.957427</td>\n",
              "      <td>1.290994</td>\n",
              "      <td>1.290994</td>\n",
              "    </tr>\n",
              "    <tr>\n",
              "      <th>min</th>\n",
              "      <td>5.000000</td>\n",
              "      <td>8.000000</td>\n",
              "      <td>2.000000</td>\n",
              "      <td>2.00000</td>\n",
              "      <td>3.0</td>\n",
              "      <td>2.000000</td>\n",
              "      <td>2.000000</td>\n",
              "      <td>2.000000</td>\n",
              "    </tr>\n",
              "    <tr>\n",
              "      <th>25%</th>\n",
              "      <td>5.000000</td>\n",
              "      <td>11.000000</td>\n",
              "      <td>3.000000</td>\n",
              "      <td>3.00000</td>\n",
              "      <td>3.0</td>\n",
              "      <td>2.000000</td>\n",
              "      <td>2.750000</td>\n",
              "      <td>2.750000</td>\n",
              "    </tr>\n",
              "    <tr>\n",
              "      <th>50%</th>\n",
              "      <td>5.000000</td>\n",
              "      <td>14.000000</td>\n",
              "      <td>3.500000</td>\n",
              "      <td>4.00000</td>\n",
              "      <td>4.0</td>\n",
              "      <td>2.500000</td>\n",
              "      <td>3.500000</td>\n",
              "      <td>3.500000</td>\n",
              "    </tr>\n",
              "    <tr>\n",
              "      <th>75%</th>\n",
              "      <td>5.000000</td>\n",
              "      <td>17.000000</td>\n",
              "      <td>4.750000</td>\n",
              "      <td>5.00000</td>\n",
              "      <td>5.0</td>\n",
              "      <td>3.250000</td>\n",
              "      <td>4.250000</td>\n",
              "      <td>4.250000</td>\n",
              "    </tr>\n",
              "    <tr>\n",
              "      <th>max</th>\n",
              "      <td>8.000000</td>\n",
              "      <td>20.000000</td>\n",
              "      <td>5.000000</td>\n",
              "      <td>5.00000</td>\n",
              "      <td>5.0</td>\n",
              "      <td>4.000000</td>\n",
              "      <td>5.000000</td>\n",
              "      <td>5.000000</td>\n",
              "    </tr>\n",
              "  </tbody>\n",
              "</table>\n",
              "</div>"
            ],
            "text/plain": [
              "       years_at_company    helpful  ...  rating_comp  rating_mgmt\n",
              "count          6.000000   2.000000  ...     4.000000     4.000000\n",
              "mean           5.500000  14.000000  ...     3.500000     3.500000\n",
              "std            1.224745   8.485281  ...     1.290994     1.290994\n",
              "min            5.000000   8.000000  ...     2.000000     2.000000\n",
              "25%            5.000000  11.000000  ...     2.750000     2.750000\n",
              "50%            5.000000  14.000000  ...     3.500000     3.500000\n",
              "75%            5.000000  17.000000  ...     4.250000     4.250000\n",
              "max            8.000000  20.000000  ...     5.000000     5.000000\n",
              "\n",
              "[8 rows x 8 columns]"
            ]
          },
          "metadata": {
            "tags": []
          },
          "execution_count": 19
        }
      ]
    },
    {
      "cell_type": "code",
      "metadata": {
        "id": "-lluv6v-iMwF",
        "colab_type": "code",
        "outputId": "6941f8fb-f573-4fd9-d68f-d73495912939",
        "colab": {
          "base_uri": "https://localhost:8080/",
          "height": 34
        }
      },
      "source": [
        "print(df_bloomberg.query(\"employee_title == 'Analyst' & years_at_company > 3\").shape)"
      ],
      "execution_count": 0,
      "outputs": [
        {
          "output_type": "stream",
          "text": [
            "(6, 16)\n"
          ],
          "name": "stdout"
        }
      ]
    },
    {
      "cell_type": "code",
      "metadata": {
        "id": "X_K9BlQBiZCM",
        "colab_type": "code",
        "outputId": "f4bdff69-b498-473b-c326-e7ce5ebe301b",
        "colab": {
          "base_uri": "https://localhost:8080/",
          "height": 34
        }
      },
      "source": [
        "df_bloomberg.query(\"employee_title == 'Analyst' & years_at_company > 3\", engine='python')[\"employee_title\"].unique()"
      ],
      "execution_count": 0,
      "outputs": [
        {
          "output_type": "execute_result",
          "data": {
            "text/plain": [
              "array(['Analyst'], dtype=object)"
            ]
          },
          "metadata": {
            "tags": []
          },
          "execution_count": 21
        }
      ]
    },
    {
      "cell_type": "code",
      "metadata": {
        "id": "9szeB-o5CZwf",
        "colab_type": "code",
        "outputId": "4707f969-ceb6-49de-d78d-1f4964da082d",
        "colab": {
          "base_uri": "https://localhost:8080/",
          "height": 317
        }
      },
      "source": [
        "# TODO: change strings to actual strings in dataset\n",
        "df_bloomberg.query('employee_title.str.contains(\"Analyst\") & years_at_company > 3', engine='python').describe()"
      ],
      "execution_count": 0,
      "outputs": [
        {
          "output_type": "execute_result",
          "data": {
            "text/html": [
              "<div>\n",
              "<style scoped>\n",
              "    .dataframe tbody tr th:only-of-type {\n",
              "        vertical-align: middle;\n",
              "    }\n",
              "\n",
              "    .dataframe tbody tr th {\n",
              "        vertical-align: top;\n",
              "    }\n",
              "\n",
              "    .dataframe thead th {\n",
              "        text-align: right;\n",
              "    }\n",
              "</style>\n",
              "<table border=\"1\" class=\"dataframe\">\n",
              "  <thead>\n",
              "    <tr style=\"text-align: right;\">\n",
              "      <th></th>\n",
              "      <th>years_at_company</th>\n",
              "      <th>helpful</th>\n",
              "      <th>rating_overall</th>\n",
              "      <th>rating_balance</th>\n",
              "      <th>rating_culture</th>\n",
              "      <th>rating_career</th>\n",
              "      <th>rating_comp</th>\n",
              "      <th>rating_mgmt</th>\n",
              "    </tr>\n",
              "  </thead>\n",
              "  <tbody>\n",
              "    <tr>\n",
              "      <th>count</th>\n",
              "      <td>33.000000</td>\n",
              "      <td>19.000000</td>\n",
              "      <td>33.000000</td>\n",
              "      <td>29.000000</td>\n",
              "      <td>29.000000</td>\n",
              "      <td>28.000000</td>\n",
              "      <td>28.000000</td>\n",
              "      <td>28.000000</td>\n",
              "    </tr>\n",
              "    <tr>\n",
              "      <th>mean</th>\n",
              "      <td>5.636364</td>\n",
              "      <td>6.368421</td>\n",
              "      <td>3.242424</td>\n",
              "      <td>3.655172</td>\n",
              "      <td>3.551724</td>\n",
              "      <td>2.535714</td>\n",
              "      <td>3.571429</td>\n",
              "      <td>2.428571</td>\n",
              "    </tr>\n",
              "    <tr>\n",
              "      <th>std</th>\n",
              "      <td>1.245446</td>\n",
              "      <td>7.319764</td>\n",
              "      <td>1.031695</td>\n",
              "      <td>1.421163</td>\n",
              "      <td>1.325201</td>\n",
              "      <td>1.035737</td>\n",
              "      <td>1.168366</td>\n",
              "      <td>1.230133</td>\n",
              "    </tr>\n",
              "    <tr>\n",
              "      <th>min</th>\n",
              "      <td>5.000000</td>\n",
              "      <td>1.000000</td>\n",
              "      <td>1.000000</td>\n",
              "      <td>1.000000</td>\n",
              "      <td>1.000000</td>\n",
              "      <td>1.000000</td>\n",
              "      <td>1.000000</td>\n",
              "      <td>1.000000</td>\n",
              "    </tr>\n",
              "    <tr>\n",
              "      <th>25%</th>\n",
              "      <td>5.000000</td>\n",
              "      <td>2.000000</td>\n",
              "      <td>3.000000</td>\n",
              "      <td>3.000000</td>\n",
              "      <td>3.000000</td>\n",
              "      <td>2.000000</td>\n",
              "      <td>3.000000</td>\n",
              "      <td>1.750000</td>\n",
              "    </tr>\n",
              "    <tr>\n",
              "      <th>50%</th>\n",
              "      <td>5.000000</td>\n",
              "      <td>3.000000</td>\n",
              "      <td>3.000000</td>\n",
              "      <td>4.000000</td>\n",
              "      <td>4.000000</td>\n",
              "      <td>2.000000</td>\n",
              "      <td>4.000000</td>\n",
              "      <td>2.000000</td>\n",
              "    </tr>\n",
              "    <tr>\n",
              "      <th>75%</th>\n",
              "      <td>5.000000</td>\n",
              "      <td>7.000000</td>\n",
              "      <td>4.000000</td>\n",
              "      <td>5.000000</td>\n",
              "      <td>5.000000</td>\n",
              "      <td>3.000000</td>\n",
              "      <td>4.250000</td>\n",
              "      <td>3.000000</td>\n",
              "    </tr>\n",
              "    <tr>\n",
              "      <th>max</th>\n",
              "      <td>8.000000</td>\n",
              "      <td>25.000000</td>\n",
              "      <td>5.000000</td>\n",
              "      <td>5.000000</td>\n",
              "      <td>5.000000</td>\n",
              "      <td>5.000000</td>\n",
              "      <td>5.000000</td>\n",
              "      <td>5.000000</td>\n",
              "    </tr>\n",
              "  </tbody>\n",
              "</table>\n",
              "</div>"
            ],
            "text/plain": [
              "       years_at_company    helpful  ...  rating_comp  rating_mgmt\n",
              "count         33.000000  19.000000  ...    28.000000    28.000000\n",
              "mean           5.636364   6.368421  ...     3.571429     2.428571\n",
              "std            1.245446   7.319764  ...     1.168366     1.230133\n",
              "min            5.000000   1.000000  ...     1.000000     1.000000\n",
              "25%            5.000000   2.000000  ...     3.000000     1.750000\n",
              "50%            5.000000   3.000000  ...     4.000000     2.000000\n",
              "75%            5.000000   7.000000  ...     4.250000     3.000000\n",
              "max            8.000000  25.000000  ...     5.000000     5.000000\n",
              "\n",
              "[8 rows x 8 columns]"
            ]
          },
          "metadata": {
            "tags": []
          },
          "execution_count": 22
        }
      ]
    },
    {
      "cell_type": "code",
      "metadata": {
        "id": "qldn7LE2EDZf",
        "colab_type": "code",
        "outputId": "8c468c93-53a1-42a8-c5ab-06f7c2692119",
        "colab": {
          "base_uri": "https://localhost:8080/",
          "height": 153
        }
      },
      "source": [
        "df_bloomberg.query('employee_title.str.contains(\"Analyst\") & years_at_company > 3', engine='python')[\"employee_title\"].unique()"
      ],
      "execution_count": 0,
      "outputs": [
        {
          "output_type": "execute_result",
          "data": {
            "text/plain": [
              "array(['Operations Analyst', 'Data Analyst', 'Analyst',\n",
              "       'Global Data Analyst', 'Senior Equity Research Analyst',\n",
              "       'Senior Analyst', 'Quantitative Research Analyst',\n",
              "       'Programmer Analyst', 'Global Fixed Income Data Analyst',\n",
              "       'Service Desk Analyst', 'Quantitative Analyst', 'Legal Analyst',\n",
              "       'Equity Analyst', 'Equity Research Analyst',\n",
              "       'Media Analyst SAP ~ Traverse', 'Media Analyst', 'Credit Analyst',\n",
              "       'Research Analyst'], dtype=object)"
            ]
          },
          "metadata": {
            "tags": []
          },
          "execution_count": 23
        }
      ]
    },
    {
      "cell_type": "markdown",
      "metadata": {
        "id": "m5ag0mS_ESj0",
        "colab_type": "text"
      },
      "source": [
        "### Data Visualization\n",
        "\n",
        "How many reviews earned each overall rating 1-5?"
      ]
    },
    {
      "cell_type": "code",
      "metadata": {
        "id": "JWBAt8LeEZSL",
        "colab_type": "code",
        "outputId": "59ebedbd-e930-4673-ab2e-eb878c3d4533",
        "colab": {
          "base_uri": "https://localhost:8080/",
          "height": 119
        }
      },
      "source": [
        "# SHOW: Using cheatsheet to find value_counts()\n",
        "df_apple['rating_overall'].value_counts()"
      ],
      "execution_count": 0,
      "outputs": [
        {
          "output_type": "execute_result",
          "data": {
            "text/plain": [
              "5.0    902\n",
              "4.0    729\n",
              "3.0    342\n",
              "2.0    121\n",
              "1.0     95\n",
              "Name: rating_overall, dtype: int64"
            ]
          },
          "metadata": {
            "tags": []
          },
          "execution_count": 24
        }
      ]
    },
    {
      "cell_type": "code",
      "metadata": {
        "id": "_j5YWzJoEfs5",
        "colab_type": "code",
        "outputId": "ba547efb-a11d-45ee-c5ff-dc29d6bb27c9",
        "colab": {
          "base_uri": "https://localhost:8080/",
          "height": 119
        }
      },
      "source": [
        "# SHOW: Looking closely at output, using sort_index(), note value_counts sorts on count\n",
        "df_apple['rating_overall'].value_counts().sort_index()"
      ],
      "execution_count": 0,
      "outputs": [
        {
          "output_type": "execute_result",
          "data": {
            "text/plain": [
              "1.0     95\n",
              "2.0    121\n",
              "3.0    342\n",
              "4.0    729\n",
              "5.0    902\n",
              "Name: rating_overall, dtype: int64"
            ]
          },
          "metadata": {
            "tags": []
          },
          "execution_count": 25
        }
      ]
    },
    {
      "cell_type": "code",
      "metadata": {
        "id": "Jzgw_6c8EhaF",
        "colab_type": "code",
        "outputId": "3d07916f-4185-42b5-9ed8-650e481b2e73",
        "colab": {
          "base_uri": "https://localhost:8080/",
          "height": 292
        }
      },
      "source": [
        "# SHOW: Seeing the numbers it's hard to compare. A graph would be great!\n",
        "# Only adding .plot.bar() compared to cells above\n",
        "df_apple['rating_overall'].value_counts().sort_index().plot.bar()"
      ],
      "execution_count": 0,
      "outputs": [
        {
          "output_type": "execute_result",
          "data": {
            "text/plain": [
              "<matplotlib.axes._subplots.AxesSubplot at 0x7f83b8a39470>"
            ]
          },
          "metadata": {
            "tags": []
          },
          "execution_count": 26
        },
        {
          "output_type": "display_data",
          "data": {
            "image/png": "[encoded data removed]",
            "text/plain": [
              "<Figure size 432x288 with 1 Axes>"
            ]
          },
          "metadata": {
            "tags": []
          }
        }
      ]
    },
    {
      "cell_type": "code",
      "metadata": {
        "id": "-izhgPnMEqzA",
        "colab_type": "code",
        "outputId": "7403cf43-dde8-430c-9f9f-46e638b47aba",
        "colab": {
          "base_uri": "https://localhost:8080/",
          "height": 292
        }
      },
      "source": [
        "# SHOW: Graphs help us answer comparison questions such as:\n",
        "# Do employees who have been at a company longer rate working there higher?\n",
        "df_apple.query('years_at_company > 4')['rating_overall'].value_counts().sort_index().plot.bar()"
      ],
      "execution_count": 0,
      "outputs": [
        {
          "output_type": "execute_result",
          "data": {
            "text/plain": [
              "<matplotlib.axes._subplots.AxesSubplot at 0x7f83b89b5940>"
            ]
          },
          "metadata": {
            "tags": []
          },
          "execution_count": 27
        },
        {
          "output_type": "display_data",
          "data": {
            "image/png": "[encoded data removed]",
            "text/plain": [
              "<Figure size 432x288 with 1 Axes>"
            ]
          },
          "metadata": {
            "tags": []
          }
        }
      ]
    },
    {
      "cell_type": "code",
      "metadata": {
        "id": "7WIH42-5k1AM",
        "colab_type": "code",
        "outputId": "f0e199df-750c-4abd-f709-dc5a8f795d8a",
        "colab": {
          "base_uri": "https://localhost:8080/",
          "height": 292
        }
      },
      "source": [
        "# Talk about distribution\n",
        "df_apple.query('years_at_company <= 4')['rating_overall'].value_counts().sort_index().plot.bar()"
      ],
      "execution_count": 0,
      "outputs": [
        {
          "output_type": "execute_result",
          "data": {
            "text/plain": [
              "<matplotlib.axes._subplots.AxesSubplot at 0x7f83b613a390>"
            ]
          },
          "metadata": {
            "tags": []
          },
          "execution_count": 28
        },
        {
          "output_type": "display_data",
          "data": {
            "image/png": "[encoded data removed]",
            "text/plain": [
              "<Figure size 432x288 with 1 Axes>"
            ]
          },
          "metadata": {
            "tags": []
          }
        }
      ]
    },
    {
      "cell_type": "code",
      "metadata": {
        "id": "ENPXNVV1k6cj",
        "colab_type": "code",
        "outputId": "437181bf-2247-414b-939b-668240fb4673",
        "colab": {
          "base_uri": "https://localhost:8080/",
          "height": 51
        }
      },
      "source": [
        "# Less senior employee graph looks like overall graph -- how many people fit in each group?\n",
        "print(\"4 years or less: {}\".format(df_apple.query('years_at_company <= 4').shape[0]))\n",
        "print(\"More than 4 years: {}\".format(df_apple.query('years_at_company > 4').shape[0]))"
      ],
      "execution_count": 0,
      "outputs": [
        {
          "output_type": "stream",
          "text": [
            "4 years or less: 1105\n",
            "More than 4 years: 321\n"
          ],
          "name": "stdout"
        }
      ]
    },
    {
      "cell_type": "code",
      "metadata": {
        "id": "zLBvS0mjlQgY",
        "colab_type": "code",
        "colab": {}
      },
      "source": [
        "#\n",
        "# Learners write comparison questions and answer them using bar graphs\n",
        "#"
      ],
      "execution_count": 0,
      "outputs": []
    },
    {
      "cell_type": "markdown",
      "metadata": {
        "id": "5U5QOekIE_pM",
        "colab_type": "text"
      },
      "source": [
        "How do overall ratings change over time?"
      ]
    },
    {
      "cell_type": "code",
      "metadata": {
        "id": "DwgYuyTredEk",
        "colab_type": "code",
        "outputId": "76ceaa4f-5ad1-490e-93e0-2c81b8267e36",
        "colab": {
          "base_uri": "https://localhost:8080/",
          "height": 374
        }
      },
      "source": [
        "# ASK: What kind of plot would we expect? (line) Do we want every point? (Probably not, we'd like average per month)\n",
        "# SHOW: What is time? What type? Talk about types if you have not already\n",
        "df_apple.info()"
      ],
      "execution_count": 0,
      "outputs": [
        {
          "output_type": "stream",
          "text": [
            "<class 'pandas.core.frame.DataFrame'>\n",
            "Int64Index: 2189 entries, 1609 to 3797\n",
            "Data columns (total 16 columns):\n",
            "date                2189 non-null object\n",
            "employee_title      2187 non-null object\n",
            "location            1128 non-null object\n",
            "employee_status     2189 non-null object\n",
            "outlook             2189 non-null object\n",
            "recommend           2189 non-null object\n",
            "review_title        2188 non-null object\n",
            "years_at_company    1426 non-null float64\n",
            "helpful             483 non-null float64\n",
            "rating_overall      2189 non-null float64\n",
            "rating_balance      1884 non-null float64\n",
            "rating_culture      1870 non-null float64\n",
            "rating_career       1867 non-null float64\n",
            "rating_comp         1853 non-null float64\n",
            "rating_mgmt         1835 non-null float64\n",
            "company_name        2189 non-null object\n",
            "dtypes: float64(8), object(8)\n",
            "memory usage: 290.7+ KB\n"
          ],
          "name": "stdout"
        }
      ]
    },
    {
      "cell_type": "code",
      "metadata": {
        "id": "jDuurJVTfJ9a",
        "colab_type": "code",
        "outputId": "501553e9-0477-47e4-eb3b-4a0235442803",
        "colab": {
          "base_uri": "https://localhost:8080/",
          "height": 139
        }
      },
      "source": [
        "# SHOW: We want datetime type - looking at a date string, we can see we just want the first section of the review\n",
        "# We will rewrite the. values in the existing date column\n",
        "df_apple[\"date\"] = pd.to_datetime(df_apple.date.str[0:15])"
      ],
      "execution_count": 0,
      "outputs": [
        {
          "output_type": "stream",
          "text": [
            "/usr/local/lib/python3.6/dist-packages/ipykernel_launcher.py:1: SettingWithCopyWarning: \n",
            "A value is trying to be set on a copy of a slice from a DataFrame.\n",
            "Try using .loc[row_indexer,col_indexer] = value instead\n",
            "\n",
            "See the caveats in the documentation: http://pandas.pydata.org/pandas-docs/stable/indexing.html#indexing-view-versus-copy\n",
            "  \"\"\"Entry point for launching an IPython kernel.\n"
          ],
          "name": "stderr"
        }
      ]
    },
    {
      "cell_type": "code",
      "metadata": {
        "id": "QqEVjz3xhNH7",
        "colab_type": "code",
        "outputId": "22555c27-b0f5-4e60-e6e0-ad4bac5bf1a2",
        "colab": {
          "base_uri": "https://localhost:8080/",
          "height": 241
        }
      },
      "source": [
        "# SHOW: we can also make new columns\n",
        "# Describe lambda function, but not important for learners to be able to make their own\n",
        "df_apple[\"month\"] = df_apple[\"date\"].apply(lambda t: t.month)\n",
        "df_apple[\"year\"] = df_apple[\"date\"].apply(lambda t: t.year)"
      ],
      "execution_count": 0,
      "outputs": [
        {
          "output_type": "stream",
          "text": [
            "/usr/local/lib/python3.6/dist-packages/ipykernel_launcher.py:1: SettingWithCopyWarning: \n",
            "A value is trying to be set on a copy of a slice from a DataFrame.\n",
            "Try using .loc[row_indexer,col_indexer] = value instead\n",
            "\n",
            "See the caveats in the documentation: http://pandas.pydata.org/pandas-docs/stable/indexing.html#indexing-view-versus-copy\n",
            "  \"\"\"Entry point for launching an IPython kernel.\n",
            "/usr/local/lib/python3.6/dist-packages/ipykernel_launcher.py:2: SettingWithCopyWarning: \n",
            "A value is trying to be set on a copy of a slice from a DataFrame.\n",
            "Try using .loc[row_indexer,col_indexer] = value instead\n",
            "\n",
            "See the caveats in the documentation: http://pandas.pydata.org/pandas-docs/stable/indexing.html#indexing-view-versus-copy\n",
            "  \n"
          ],
          "name": "stderr"
        }
      ]
    },
    {
      "cell_type": "code",
      "metadata": {
        "id": "BYrvL5d6FH7W",
        "colab_type": "code",
        "outputId": "5b15996c-9e74-4f53-8c56-f44ee7b337b2",
        "colab": {
          "base_uri": "https://localhost:8080/",
          "height": 394
        }
      },
      "source": [
        "# SHOW: check our work\n",
        "df_apple.head()"
      ],
      "execution_count": 0,
      "outputs": [
        {
          "output_type": "execute_result",
          "data": {
            "text/html": [
              "<div>\n",
              "<style scoped>\n",
              "    .dataframe tbody tr th:only-of-type {\n",
              "        vertical-align: middle;\n",
              "    }\n",
              "\n",
              "    .dataframe tbody tr th {\n",
              "        vertical-align: top;\n",
              "    }\n",
              "\n",
              "    .dataframe thead th {\n",
              "        text-align: right;\n",
              "    }\n",
              "</style>\n",
              "<table border=\"1\" class=\"dataframe\">\n",
              "  <thead>\n",
              "    <tr style=\"text-align: right;\">\n",
              "      <th></th>\n",
              "      <th>date</th>\n",
              "      <th>employee_title</th>\n",
              "      <th>location</th>\n",
              "      <th>employee_status</th>\n",
              "      <th>outlook</th>\n",
              "      <th>recommend</th>\n",
              "      <th>review_title</th>\n",
              "      <th>years_at_company</th>\n",
              "      <th>helpful</th>\n",
              "      <th>rating_overall</th>\n",
              "      <th>rating_balance</th>\n",
              "      <th>rating_culture</th>\n",
              "      <th>rating_career</th>\n",
              "      <th>rating_comp</th>\n",
              "      <th>rating_mgmt</th>\n",
              "      <th>company_name</th>\n",
              "      <th>month</th>\n",
              "      <th>year</th>\n",
              "    </tr>\n",
              "  </thead>\n",
              "  <tbody>\n",
              "    <tr>\n",
              "      <th>1609</th>\n",
              "      <td>2019-06-27</td>\n",
              "      <td>Product Specialist</td>\n",
              "      <td>Salt Lake City, UT</td>\n",
              "      <td>Former Employee</td>\n",
              "      <td>Positive</td>\n",
              "      <td>Recommends</td>\n",
              "      <td>Great place to work!</td>\n",
              "      <td>1.0</td>\n",
              "      <td>NaN</td>\n",
              "      <td>5.0</td>\n",
              "      <td>5.0</td>\n",
              "      <td>5.0</td>\n",
              "      <td>5.0</td>\n",
              "      <td>5.0</td>\n",
              "      <td>5.0</td>\n",
              "      <td>Apple</td>\n",
              "      <td>6</td>\n",
              "      <td>2019</td>\n",
              "    </tr>\n",
              "    <tr>\n",
              "      <th>1610</th>\n",
              "      <td>2014-08-28</td>\n",
              "      <td>Anonymous Employee</td>\n",
              "      <td>NaN</td>\n",
              "      <td>Current Employee</td>\n",
              "      <td>Positive</td>\n",
              "      <td>Recommends</td>\n",
              "      <td>Challenging, Rewarding, but ZERO work/life bal...</td>\n",
              "      <td>1.0</td>\n",
              "      <td>895.0</td>\n",
              "      <td>4.0</td>\n",
              "      <td>1.0</td>\n",
              "      <td>3.0</td>\n",
              "      <td>3.0</td>\n",
              "      <td>3.0</td>\n",
              "      <td>3.0</td>\n",
              "      <td>Apple</td>\n",
              "      <td>8</td>\n",
              "      <td>2014</td>\n",
              "    </tr>\n",
              "    <tr>\n",
              "      <th>1611</th>\n",
              "      <td>2015-05-13</td>\n",
              "      <td>Apple At Home Advisor</td>\n",
              "      <td>Lakewood, CO</td>\n",
              "      <td>Current Employee</td>\n",
              "      <td>Positive</td>\n",
              "      <td>Recommends</td>\n",
              "      <td>At-Home-Advisor</td>\n",
              "      <td>1.0</td>\n",
              "      <td>469.0</td>\n",
              "      <td>5.0</td>\n",
              "      <td>3.0</td>\n",
              "      <td>5.0</td>\n",
              "      <td>5.0</td>\n",
              "      <td>4.0</td>\n",
              "      <td>5.0</td>\n",
              "      <td>Apple</td>\n",
              "      <td>5</td>\n",
              "      <td>2015</td>\n",
              "    </tr>\n",
              "    <tr>\n",
              "      <th>1612</th>\n",
              "      <td>2017-03-10</td>\n",
              "      <td>Specialist</td>\n",
              "      <td>Tempe, AZ</td>\n",
              "      <td>Current Employee</td>\n",
              "      <td>Positive</td>\n",
              "      <td>Recommends</td>\n",
              "      <td>A Company as Meticulous as Their Products!</td>\n",
              "      <td>1.0</td>\n",
              "      <td>257.0</td>\n",
              "      <td>5.0</td>\n",
              "      <td>4.0</td>\n",
              "      <td>5.0</td>\n",
              "      <td>5.0</td>\n",
              "      <td>4.0</td>\n",
              "      <td>5.0</td>\n",
              "      <td>Apple</td>\n",
              "      <td>3</td>\n",
              "      <td>2017</td>\n",
              "    </tr>\n",
              "    <tr>\n",
              "      <th>1613</th>\n",
              "      <td>2019-06-26</td>\n",
              "      <td>Anonymous Employee</td>\n",
              "      <td>NaN</td>\n",
              "      <td>Current Employee</td>\n",
              "      <td>Positive</td>\n",
              "      <td>Recommends</td>\n",
              "      <td>A trove of wonderful memories and experiences ...</td>\n",
              "      <td>NaN</td>\n",
              "      <td>NaN</td>\n",
              "      <td>4.0</td>\n",
              "      <td>3.0</td>\n",
              "      <td>4.0</td>\n",
              "      <td>5.0</td>\n",
              "      <td>5.0</td>\n",
              "      <td>4.0</td>\n",
              "      <td>Apple</td>\n",
              "      <td>6</td>\n",
              "      <td>2019</td>\n",
              "    </tr>\n",
              "  </tbody>\n",
              "</table>\n",
              "</div>"
            ],
            "text/plain": [
              "           date         employee_title  ... month  year\n",
              "1609 2019-06-27     Product Specialist  ...     6  2019\n",
              "1610 2014-08-28     Anonymous Employee  ...     8  2014\n",
              "1611 2015-05-13  Apple At Home Advisor  ...     5  2015\n",
              "1612 2017-03-10             Specialist  ...     3  2017\n",
              "1613 2019-06-26     Anonymous Employee  ...     6  2019\n",
              "\n",
              "[5 rows x 18 columns]"
            ]
          },
          "metadata": {
            "tags": []
          },
          "execution_count": 34
        }
      ]
    },
    {
      "cell_type": "code",
      "metadata": {
        "id": "YKumi4-vmxPU",
        "colab_type": "code",
        "outputId": "6468ad1f-778a-46fe-ba7b-bc85e9648372",
        "colab": {
          "base_uri": "https://localhost:8080/",
          "height": 1000
        }
      },
      "source": [
        "# SHOW: Groupby and mean (and/or other methods)\n",
        "df_apple.groupby('date')['rating_overall'].mean()"
      ],
      "execution_count": 0,
      "outputs": [
        {
          "output_type": "execute_result",
          "data": {
            "text/plain": [
              "date\n",
              "2014-08-28    4.000000\n",
              "2015-05-13    5.000000\n",
              "2016-01-22    5.000000\n",
              "2017-03-10    5.000000\n",
              "2017-11-03    5.000000\n",
              "2017-12-14    5.000000\n",
              "2017-12-17    5.000000\n",
              "2017-12-18    5.000000\n",
              "2017-12-19    5.000000\n",
              "2017-12-21    4.333333\n",
              "2017-12-22    4.000000\n",
              "2017-12-23    5.000000\n",
              "2017-12-27    4.000000\n",
              "2017-12-28    4.750000\n",
              "2017-12-29    3.000000\n",
              "2017-12-30    4.750000\n",
              "2018-01-01    4.666667\n",
              "2018-01-02    4.166667\n",
              "2018-01-03    3.600000\n",
              "2018-01-04    4.444444\n",
              "2018-01-05    3.333333\n",
              "2018-01-06    4.000000\n",
              "2018-01-07    5.000000\n",
              "2018-01-08    4.000000\n",
              "2018-01-09    4.500000\n",
              "2018-01-10    4.333333\n",
              "2018-01-11    4.375000\n",
              "2018-01-12    3.750000\n",
              "2018-01-14    5.000000\n",
              "2018-01-15    3.571429\n",
              "                ...   \n",
              "2019-05-29    3.400000\n",
              "2019-05-30    4.000000\n",
              "2019-05-31    4.333333\n",
              "2019-06-01    5.000000\n",
              "2019-06-02    3.750000\n",
              "2019-06-03    3.800000\n",
              "2019-06-04    3.571429\n",
              "2019-06-05    4.000000\n",
              "2019-06-06    4.333333\n",
              "2019-06-07    3.500000\n",
              "2019-06-08    4.000000\n",
              "2019-06-09    4.500000\n",
              "2019-06-10    4.200000\n",
              "2019-06-11    3.500000\n",
              "2019-06-12    4.571429\n",
              "2019-06-13    3.625000\n",
              "2019-06-14    4.500000\n",
              "2019-06-15    1.000000\n",
              "2019-06-16    3.500000\n",
              "2019-06-17    2.666667\n",
              "2019-06-18    4.500000\n",
              "2019-06-19    3.750000\n",
              "2019-06-20    4.000000\n",
              "2019-06-21    4.666667\n",
              "2019-06-22    5.000000\n",
              "2019-06-23    4.250000\n",
              "2019-06-24    4.333333\n",
              "2019-06-25    4.500000\n",
              "2019-06-26    4.285714\n",
              "2019-06-27    5.000000\n",
              "Name: rating_overall, Length: 542, dtype: float64"
            ]
          },
          "metadata": {
            "tags": []
          },
          "execution_count": 35
        }
      ]
    },
    {
      "cell_type": "code",
      "metadata": {
        "id": "Ew5sj_6tFyDo",
        "colab_type": "code",
        "outputId": "b024b1a4-a33a-41af-9c43-a7dc4c29f28e",
        "colab": {
          "base_uri": "https://localhost:8080/",
          "height": 298
        }
      },
      "source": [
        "# Line graph of average overall rating per day\n",
        "df_apple.groupby('date')['rating_overall'].mean().plot.line()"
      ],
      "execution_count": 0,
      "outputs": [
        {
          "output_type": "execute_result",
          "data": {
            "text/plain": [
              "<matplotlib.axes._subplots.AxesSubplot at 0x7f83b60a6ba8>"
            ]
          },
          "metadata": {
            "tags": []
          },
          "execution_count": 36
        },
        {
          "output_type": "display_data",
          "data": {
            "image/png": "[encoded data removed]",
            "text/plain": [
              "<Figure size 432x288 with 1 Axes>"
            ]
          },
          "metadata": {
            "tags": []
          }
        }
      ]
    },
    {
      "cell_type": "code",
      "metadata": {
        "id": "6J55MRQ8F8NE",
        "colab_type": "code",
        "outputId": "11096cb9-226e-4486-9733-df31bdbdb54a",
        "colab": {
          "base_uri": "https://localhost:8080/",
          "height": 300
        }
      },
      "source": [
        "# Line graph of average overall rating per year\n",
        "df_apple.groupby('year')['rating_overall'].mean().plot.line()"
      ],
      "execution_count": 0,
      "outputs": [
        {
          "output_type": "execute_result",
          "data": {
            "text/plain": [
              "<matplotlib.axes._subplots.AxesSubplot at 0x7f83b8946b38>"
            ]
          },
          "metadata": {
            "tags": []
          },
          "execution_count": 37
        },
        {
          "output_type": "display_data",
          "data": {
            "image/png": "[encoded data removed]",
            "text/plain": [
              "<Figure size 432x288 with 1 Axes>"
            ]
          },
          "metadata": {
            "tags": []
          }
        }
      ]
    },
    {
      "cell_type": "code",
      "metadata": {
        "id": "2qnePRqFg744",
        "colab_type": "code",
        "outputId": "1e411459-13a6-4962-a8b1-07ccc6f4cee0",
        "colab": {
          "base_uri": "https://localhost:8080/",
          "height": 300
        }
      },
      "source": [
        "# Line graph of average overall rating per month\n",
        "df_apple.groupby(['year', 'month'])['rating_overall'].mean().plot.line()"
      ],
      "execution_count": 0,
      "outputs": [
        {
          "output_type": "execute_result",
          "data": {
            "text/plain": [
              "<matplotlib.axes._subplots.AxesSubplot at 0x7f83b60a6710>"
            ]
          },
          "metadata": {
            "tags": []
          },
          "execution_count": 38
        },
        {
          "output_type": "display_data",
          "data": {
            "image/png": "[encoded data removed]",
            "text/plain": [
              "<Figure size 432x288 with 1 Axes>"
            ]
          },
          "metadata": {
            "tags": []
          }
        }
      ]
    },
    {
      "cell_type": "markdown",
      "metadata": {
        "id": "0Cv6wsXMGuCE",
        "colab_type": "text"
      },
      "source": [
        "Is the company getting more senior over time?"
      ]
    },
    {
      "cell_type": "code",
      "metadata": {
        "id": "IjU9Hrx1GJG7",
        "colab_type": "code",
        "outputId": "c82ab066-9b3e-4b0a-d8f5-649790a8746c",
        "colab": {
          "base_uri": "https://localhost:8080/",
          "height": 300
        }
      },
      "source": [
        "# Years at company over time\n",
        "df_apple.groupby(['year', 'month'])['years_at_company'].mean().plot.line()"
      ],
      "execution_count": 0,
      "outputs": [
        {
          "output_type": "execute_result",
          "data": {
            "text/plain": [
              "<matplotlib.axes._subplots.AxesSubplot at 0x7f83b5fa3a58>"
            ]
          },
          "metadata": {
            "tags": []
          },
          "execution_count": 39
        },
        {
          "output_type": "display_data",
          "data": {
            "image/png": "[encoded data removed]",
            "text/plain": [
              "<Figure size 432x288 with 1 Axes>"
            ]
          },
          "metadata": {
            "tags": []
          }
        }
      ]
    },
    {
      "cell_type": "markdown",
      "metadata": {
        "id": "bcAqljVrGzDC",
        "colab_type": "text"
      },
      "source": [
        "How do the ratings from reviews that recommend working at the company compare to those reviews that do not?"
      ]
    },
    {
      "cell_type": "code",
      "metadata": {
        "id": "fkxJVgzMHgN3",
        "colab_type": "code",
        "outputId": "6be9f705-f830-4d7c-a272-09696f0acfce",
        "colab": {
          "base_uri": "https://localhost:8080/",
          "height": 221
        }
      },
      "source": [
        "df_apple.groupby(['rating_overall', 'recommend']).size()"
      ],
      "execution_count": 0,
      "outputs": [
        {
          "output_type": "execute_result",
          "data": {
            "text/plain": [
              "rating_overall  recommend        \n",
              "1.0             Doesn't Recommend     20\n",
              "                Recommends            75\n",
              "2.0             Doesn't Recommend     29\n",
              "                Recommends            92\n",
              "3.0             Doesn't Recommend     81\n",
              "                Recommends           261\n",
              "4.0             Doesn't Recommend    118\n",
              "                Recommends           611\n",
              "5.0             Doesn't Recommend    142\n",
              "                Recommends           760\n",
              "dtype: int64"
            ]
          },
          "metadata": {
            "tags": []
          },
          "execution_count": 44
        }
      ]
    },
    {
      "cell_type": "code",
      "metadata": {
        "id": "VWKGE6n2G-ID",
        "colab_type": "code",
        "outputId": "ed6476d4-f5c6-41fe-b42a-7f658dc19622",
        "colab": {
          "base_uri": "https://localhost:8080/",
          "height": 307
        }
      },
      "source": [
        "# SHOW: unstack()\n",
        "df_apple.groupby(['rating_overall', 'recommend']).size().unstack().plot.bar()"
      ],
      "execution_count": 0,
      "outputs": [
        {
          "output_type": "execute_result",
          "data": {
            "text/plain": [
              "<matplotlib.axes._subplots.AxesSubplot at 0x7f83b5dbe4e0>"
            ]
          },
          "metadata": {
            "tags": []
          },
          "execution_count": 45
        },
        {
          "output_type": "display_data",
          "data": {
            "image/png": "[encoded data removed]",
            "text/plain": [
              "<Figure size 432x288 with 1 Axes>"
            ]
          },
          "metadata": {
            "tags": []
          }
        }
      ]
    },
    {
      "cell_type": "code",
      "metadata": {
        "id": "kA55sTcE6HDg",
        "colab_type": "code",
        "outputId": "43b6879a-c3d7-4b19-b84e-0f06b8b3dfc8",
        "colab": {
          "base_uri": "https://localhost:8080/",
          "height": 54
        }
      },
      "source": [
        "'''\n",
        "Hard to tell!\n",
        "Seems like the intuition that recommenders would rate the company more highly is true,\n",
        "but there are far more people who recommend than don't. It'd be nice to see these as percentages.\n",
        "\n",
        "Python allows us to create custom functions, or repeatable actions in code.\n",
        "We've made one that creates a graph from a groupby dataframe that shows the percent of reviews in each category.\n",
        "\n",
        "Let's use it to show the percent of reviews from each category (Recommends or\n",
        "Doesn't Recommend) that give each of the five ratings.\n",
        "'''"
      ],
      "execution_count": 0,
      "outputs": [
        {
          "output_type": "execute_result",
          "data": {
            "text/plain": [
              "\"\\nHard to tell!\\nSeems like the intuition that recommenders would rate the company more highly is true,\\nbut there are far more people who recommend than don't. It'd be nice to see these as percentages.\\n\\nPython allows us to create custom functions, or repeatable actions in code.\\nWe've made one that creates a graph from a groupby dataframe that shows the percent of reviews in each category.\\n\\nLet's use it to show the percent of reviews from each category (Recommends or\\nDoesn't Recommend) that give each of the five ratings.\\n\""
            ]
          },
          "metadata": {
            "tags": []
          },
          "execution_count": 46
        }
      ]
    },
    {
      "cell_type": "code",
      "metadata": {
        "id": "HGs_dp_3IQJG",
        "colab_type": "code",
        "colab": {}
      },
      "source": [
        "def plot_percentages(gbdf):\n",
        "  my_colors = [(1/(x+1), x*.2, (x+2.5)%5*.1) for x in range(5)]\n",
        "  ax = gbdf.size().groupby(level=0).apply(lambda g: g / g.sum()).unstack().plot.bar(color=my_colors)\n",
        "  vals = ax.get_yticks()\n",
        "  ax.set_yticklabels(['{:,.2%}'.format(x) for x in vals])"
      ],
      "execution_count": 0,
      "outputs": []
    },
    {
      "cell_type": "code",
      "metadata": {
        "id": "F8qaTX4gHDUv",
        "colab_type": "code",
        "outputId": "b7541703-b65c-4f82-de64-e90a2e313827",
        "colab": {
          "base_uri": "https://localhost:8080/",
          "height": 377
        }
      },
      "source": [
        "my_gbdf = df_apple.groupby(['recommend', 'rating_overall'])\n",
        "plot_percentages(my_gbdf)"
      ],
      "execution_count": 0,
      "outputs": [
        {
          "output_type": "display_data",
          "data": {
            "image/png": "[encoded data removed]",
            "text/plain": [
              "<Figure size 432x288 with 1 Axes>"
            ]
          },
          "metadata": {
            "tags": []
          }
        }
      ]
    },
    {
      "cell_type": "code",
      "metadata": {
        "id": "dxeze4qEJOzo",
        "colab_type": "code",
        "outputId": "1f4c1271-2718-4498-879f-5b2448ac0b55",
        "colab": {
          "base_uri": "https://localhost:8080/",
          "height": 289
        }
      },
      "source": [
        "# SHOW: Using the same function, we can plot other comparisons.\n",
        "my_gbdf2 = df.groupby(['years_at_company', 'rating_mgmt'])\n",
        "plot_percentages(my_gbdf2)"
      ],
      "execution_count": 0,
      "outputs": [
        {
          "output_type": "display_data",
          "data": {
            "image/png": "[encoded data removed]",
            "text/plain": [
              "<Figure size 432x288 with 1 Axes>"
            ]
          },
          "metadata": {
            "tags": []
          }
        }
      ]
    },
    {
      "cell_type": "markdown",
      "metadata": {
        "id": "s4eHZSEBGhA-",
        "colab_type": "text"
      },
      "source": [
        "# Raw notes and exploration follow"
      ]
    },
    {
      "cell_type": "code",
      "metadata": {
        "id": "1AKL4-pjM5CT",
        "colab_type": "code",
        "outputId": "3b7a5e60-fb40-4c97-85db-8b60744947e6",
        "colab": {
          "base_uri": "https://localhost:8080/",
          "height": 300
        }
      },
      "source": [
        "df.query('years_at_company == 1').groupby(['year', 'month'])['rating_overall'].mean().plot.line()"
      ],
      "execution_count": 0,
      "outputs": [
        {
          "output_type": "execute_result",
          "data": {
            "text/plain": [
              "<matplotlib.axes._subplots.AxesSubplot at 0x7f45a9466048>"
            ]
          },
          "metadata": {
            "tags": []
          },
          "execution_count": 126
        },
        {
          "output_type": "display_data",
          "data": {
            "image/png": "[encoded data removed]",
            "text/plain": [
              "<Figure size 432x288 with 1 Axes>"
            ]
          },
          "metadata": {
            "tags": []
          }
        }
      ]
    },
    {
      "cell_type": "code",
      "metadata": {
        "id": "sPSIDSGbOtOF",
        "colab_type": "code",
        "outputId": "6a121ae8-db71-4071-88e7-3fe194e9f28f",
        "colab": {
          "base_uri": "https://localhost:8080/",
          "height": 300
        }
      },
      "source": [
        "df.groupby(['year', 'month', 'years_at_company'])['rating_overall'].mean().unstack().plot.line()"
      ],
      "execution_count": 0,
      "outputs": [
        {
          "output_type": "execute_result",
          "data": {
            "text/plain": [
              "<matplotlib.axes._subplots.AxesSubplot at 0x7f45a95c2860>"
            ]
          },
          "metadata": {
            "tags": []
          },
          "execution_count": 127
        },
        {
          "output_type": "display_data",
          "data": {
            "image/png": "[encoded data removed]",
            "text/plain": [
              "<Figure size 432x288 with 1 Axes>"
            ]
          },
          "metadata": {
            "tags": []
          }
        }
      ]
    },
    {
      "cell_type": "code",
      "metadata": {
        "id": "YHiiVXAhO5Hb",
        "colab_type": "code",
        "outputId": "fef6c1f4-fb2c-4bda-da81-aac2aadb75eb",
        "colab": {
          "base_uri": "https://localhost:8080/",
          "height": 300
        }
      },
      "source": [
        "df.groupby(['year', 'years_at_company'])['rating_overall'].mean().unstack().plot.line()"
      ],
      "execution_count": 0,
      "outputs": [
        {
          "output_type": "execute_result",
          "data": {
            "text/plain": [
              "<matplotlib.axes._subplots.AxesSubplot at 0x7f45a929b4e0>"
            ]
          },
          "metadata": {
            "tags": []
          },
          "execution_count": 128
        },
        {
          "output_type": "display_data",
          "data": {
            "image/png": "[encoded data removed]",
            "text/plain": [
              "<Figure size 432x288 with 1 Axes>"
            ]
          },
          "metadata": {
            "tags": []
          }
        }
      ]
    },
    {
      "cell_type": "code",
      "metadata": {
        "id": "XFxJmjspPNNO",
        "colab_type": "code",
        "outputId": "a2829aca-688f-4d59-f5d1-9d45dd57f530",
        "colab": {
          "base_uri": "https://localhost:8080/",
          "height": 300
        }
      },
      "source": [
        "df.groupby(['year', 'month', 'years_at_company']).size().unstack().plot.line()"
      ],
      "execution_count": 0,
      "outputs": [
        {
          "output_type": "execute_result",
          "data": {
            "text/plain": [
              "<matplotlib.axes._subplots.AxesSubplot at 0x7f45a97a9518>"
            ]
          },
          "metadata": {
            "tags": []
          },
          "execution_count": 133
        },
        {
          "output_type": "display_data",
          "data": {
            "image/png": "[encoded data removed]",
            "text/plain": [
              "<Figure size 432x288 with 1 Axes>"
            ]
          },
          "metadata": {
            "tags": []
          }
        }
      ]
    },
    {
      "cell_type": "code",
      "metadata": {
        "id": "z9Q6rit2Pq-u",
        "colab_type": "code",
        "outputId": "66f88120-21df-45a6-8e0e-e1cb4e74564d",
        "colab": {
          "base_uri": "https://localhost:8080/",
          "height": 300
        }
      },
      "source": [
        "df.groupby(['year', 'years_at_company']).size().unstack().plot.line()"
      ],
      "execution_count": 0,
      "outputs": [
        {
          "output_type": "execute_result",
          "data": {
            "text/plain": [
              "<matplotlib.axes._subplots.AxesSubplot at 0x7f45a9acec88>"
            ]
          },
          "metadata": {
            "tags": []
          },
          "execution_count": 134
        },
        {
          "output_type": "display_data",
          "data": {
            "image/png": "[encoded data removed]",
            "text/plain": [
              "<Figure size 432x288 with 1 Axes>"
            ]
          },
          "metadata": {
            "tags": []
          }
        }
      ]
    },
    {
      "cell_type": "code",
      "metadata": {
        "id": "AAeECCH-fXFa",
        "colab_type": "code",
        "outputId": "2b41b659-caf8-485a-c4de-40a8c3be497c",
        "colab": {
          "base_uri": "https://localhost:8080/",
          "height": 1000
        }
      },
      "source": [
        "list(df['employee_title'].unique())"
      ],
      "execution_count": 0,
      "outputs": [
        {
          "output_type": "execute_result",
          "data": {
            "text/plain": [
              "['Senior SAP Basis Administrator',\n",
              " 'Team Leader',\n",
              " 'Enterprise Sales',\n",
              " 'Sales and Relationship Manager',\n",
              " 'Bloomberg Intelligence Associate',\n",
              " 'Financial Software Developer',\n",
              " 'Data Analyst',\n",
              " 'Data Journalist',\n",
              " 'Sales Associate',\n",
              " 'Team Lead',\n",
              " 'Reporter',\n",
              " 'Analyst',\n",
              " 'Member of Technical Staff',\n",
              " 'Event Planning Manager',\n",
              " 'Advanced Specialist',\n",
              " 'Customer Support',\n",
              " 'Senior Software Engineer',\n",
              " 'Anonymous Employee',\n",
              " 'Sales Executive',\n",
              " 'Software Engineer',\n",
              " 'Operations Analyst',\n",
              " 'Analytics Representative',\n",
              " 'Senior Project Manager',\n",
              " 'Enterprise',\n",
              " 'Software Development Engineer',\n",
              " 'Sales Account Manager',\n",
              " 'Editorial Manager',\n",
              " 'Senior Product Manager',\n",
              " 'Technical Support Representative',\n",
              " 'Financial Sales and Analytics',\n",
              " 'Systems Reliability Engineer',\n",
              " 'Senior Account Manager',\n",
              " 'Senior Front End Engineer',\n",
              " 'Recruiting Coordinator',\n",
              " 'Financial Data Analyst',\n",
              " 'Software Developer',\n",
              " 'Software Engineer (internship)',\n",
              " 'Editor',\n",
              " 'Software',\n",
              " 'Technical Operations',\n",
              " 'Data Center Engineer',\n",
              " 'Broadcast Operator',\n",
              " 'Engineering Recruiter',\n",
              " 'Global Data Analyst',\n",
              " 'Sales Representative',\n",
              " 'Programmer Analyst',\n",
              " 'Associate',\n",
              " 'Market Data Analyst',\n",
              " 'Financial Analyst',\n",
              " 'Customer Service Representative',\n",
              " 'Current',\n",
              " 'Software Engineering',\n",
              " 'Senior Executive Assistant',\n",
              " 'Technical Writer',\n",
              " 'Line Producer',\n",
              " 'Senior Sales Executive',\n",
              " 'KYC Analyst',\n",
              " 'Senior Equity Research Analyst',\n",
              " 'Senior Software Developer',\n",
              " 'Regional Sales Representative',\n",
              " 'Human Resources Operations',\n",
              " 'Analytics',\n",
              " 'Account Manager',\n",
              " 'Financial Software Engineer',\n",
              " 'Compliance Analyst',\n",
              " 'Global Technical Support',\n",
              " 'Sales',\n",
              " 'Revenue Lead',\n",
              " 'Regional Manager',\n",
              " 'IT Specialist',\n",
              " 'Accounts Payable Manager',\n",
              " 'TOMS Sales',\n",
              " 'News Reporter',\n",
              " 'Strategist',\n",
              " 'Software Engineer(Internship)',\n",
              " 'Key Account Manager',\n",
              " 'R&D',\n",
              " 'Global Customer Support',\n",
              " 'Software Engineering Team Lead',\n",
              " 'Software Architect',\n",
              " 'Legal Worker',\n",
              " 'Computer Systems Analyst',\n",
              " 'Financial Sales & Analytics',\n",
              " 'GLobal Markets Implementation',\n",
              " 'Product Manager',\n",
              " 'Senior Analyst',\n",
              " 'Project Manager',\n",
              " 'Compliance Product Manager',\n",
              " 'User Experience',\n",
              " 'Senior Data Analyst',\n",
              " 'Intern',\n",
              " 'Sales Manager',\n",
              " 'Manager',\n",
              " 'Help Desk',\n",
              " 'Senior Producer',\n",
              " 'IT Technical Services Engineer',\n",
              " 'Financial Product Sales and Analytics',\n",
              " 'Execution Management & Trading Analytics (EMSX)',\n",
              " 'Senior Editor',\n",
              " 'Operations',\n",
              " 'Server Storage Engineer',\n",
              " 'Equity Research Analyst',\n",
              " 'Bloomberg Intelligence Equity Analyst',\n",
              " 'Senior Engineering Manager',\n",
              " 'Copy Director, Marketing',\n",
              " 'Desktop Support Analyst',\n",
              " 'Investment Strategist',\n",
              " 'Electronic Trading',\n",
              " 'Product Representative',\n",
              " 'Financial Product Analytics',\n",
              " 'Senior Counsel',\n",
              " 'There Are No \"official\" Titles',\n",
              " 'Quantitative Research Analyst',\n",
              " 'Bloomberg Intelligence Analyst',\n",
              " 'News',\n",
              " 'Research Associate',\n",
              " 'SAP BI Consultant',\n",
              " 'Network Operations Engineer',\n",
              " 'Senior FINANCE',\n",
              " 'Quantitative Analyst',\n",
              " 'Broker Relations',\n",
              " 'Human Resources Specialist',\n",
              " 'Software Engineering Intern',\n",
              " 'Video Editor',\n",
              " 'Global Data Intern',\n",
              " 'Localization Specialist',\n",
              " 'Engineering Intern',\n",
              " 'Network Engineer',\n",
              " 'R&Amp; D Manager',\n",
              " 'Business Data Analyst',\n",
              " 'Recruiter',\n",
              " 'Copy Editor',\n",
              " 'Media',\n",
              " 'Producer',\n",
              " 'Business Analyst',\n",
              " 'Senior Financial Software Developer',\n",
              " 'Consultant',\n",
              " 'Tech Ops',\n",
              " 'Writer/Editor',\n",
              " 'Brokerage Sales',\n",
              " 'Sales Team Leader',\n",
              " 'Systems Administrator',\n",
              " 'Press',\n",
              " 'Senior Financial Developer',\n",
              " 'Associate Project Manager',\n",
              " 'Municipal Bonds Financial Analyst',\n",
              " 'Global Fixed Income Data Analyst',\n",
              " 'Service Desk Analyst',\n",
              " 'Senior Relationship Manager',\n",
              " 'Multimedia Producer',\n",
              " 'TV Producer',\n",
              " 'Contractor',\n",
              " 'Communications',\n",
              " 'Programmer',\n",
              " 'Legal Analyst',\n",
              " 'Global Data',\n",
              " 'R&D Team Lead',\n",
              " 'Analytics Department',\n",
              " 'Business Manager',\n",
              " 'Director',\n",
              " 'Product Development',\n",
              " 'Sales and Account Manager',\n",
              " 'Senior Database Administrator',\n",
              " 'Data',\n",
              " 'Customer Support Specialist',\n",
              " 'Ambassador',\n",
              " 'Journalist/Reporter',\n",
              " 'Special Projects',\n",
              " 'Equity Analyst',\n",
              " 'Finance/Accounting',\n",
              " 'Hardware Development Intern',\n",
              " 'Research Assistant/Assistant',\n",
              " 'Data Center Hardware Engineer',\n",
              " 'Contracts Coordinator',\n",
              " 'Engineer',\n",
              " 'Contract Administrator',\n",
              " 'Student Ambassador',\n",
              " 'Creative Director',\n",
              " 'New York',\n",
              " 'Developer, R&D',\n",
              " 'SWE',\n",
              " 'Media Analyst SAP ~ Traverse',\n",
              " 'GCUS Representative',\n",
              " 'Core Terminal Sales Account Manager',\n",
              " 'Bloomberg LP',\n",
              " 'Desktop Support',\n",
              " 'Business Development Associate',\n",
              " 'Managien Editor',\n",
              " 'There Are None',\n",
              " 'Senior Account Executive',\n",
              " 'Campus Ambassador',\n",
              " 'Media Analyst',\n",
              " 'Advertising Sales Director',\n",
              " 'Technical Operations Analyst',\n",
              " 'Integration Specialist',\n",
              " 'Currencies Editor',\n",
              " 'Fsd',\n",
              " 'Associate Producer',\n",
              " 'Accountant',\n",
              " 'Media Ad Sales',\n",
              " 'Enterprise Solutions',\n",
              " 'Staff',\n",
              " 'Marketing Manager',\n",
              " 'Accounting Clerk',\n",
              " 'Financial Information Services Representative',\n",
              " 'Equity Research Associate',\n",
              " 'Evaluation Specialist',\n",
              " 'Editorial',\n",
              " 'Research Analyst',\n",
              " 'Junior Financial Analyst',\n",
              " 'Assistant',\n",
              " 'Anonymous',\n",
              " 'Market Research Analyst',\n",
              " 'Human Resources Manager',\n",
              " 'Applications Specialist',\n",
              " 'Animator',\n",
              " 'Administrative Assistant',\n",
              " 'Sales and Analytics',\n",
              " 'Financial Applications Engineer',\n",
              " 'BAT Campus Ambassador',\n",
              " 'Account Management',\n",
              " 'Senior Programmer',\n",
              " 'Electronic Trading Implementation',\n",
              " 'Financial Applications Developer',\n",
              " 'Regional Director',\n",
              " 'Information Specialist',\n",
              " 'Journalist',\n",
              " 'C++ Software Engineer',\n",
              " 'Technical Director',\n",
              " 'Commission Management',\n",
              " 'Senior Developer',\n",
              " 'Global Business Manager',\n",
              " 'Software Quality Assurance Engineer',\n",
              " 'Writer/Producer',\n",
              " 'Trading Systems Acct Manager',\n",
              " 'Database Administrator',\n",
              " 'Campus Representative, University Sales',\n",
              " 'Broadcast Operations',\n",
              " 'Web Editor',\n",
              " 'Social Media Editor',\n",
              " 'Receptionist',\n",
              " 'Equity Specialist',\n",
              " 'SAP Supply Chain Project Analyst',\n",
              " 'User Experience Software Engineer',\n",
              " 'Help Desk Analyst',\n",
              " 'Sales and Analytics Intern',\n",
              " 'There Are No Titles In This Company',\n",
              " 'Human Resources',\n",
              " 'Product Advocate',\n",
              " 'Corporate Marketing',\n",
              " 'TOMS Account Manager',\n",
              " 'Sales Specialist',\n",
              " 'Marketing',\n",
              " 'R&D Manager',\n",
              " 'Research Data Analyst',\n",
              " 'Credit Analyst',\n",
              " 'Technical Support Engineer',\n",
              " 'Content Strategist',\n",
              " 'R&D Team Leader',\n",
              " 'Event Manager',\n",
              " 'No Job Titles At Bloomberg',\n",
              " 'Regional Sales Manager',\n",
              " 'Senior Credit Analyst',\n",
              " 'Equity Data Analyst',\n",
              " 'Project Coordinator',\n",
              " 'Systems Engineer',\n",
              " 'Wall Street Reporter',\n",
              " 'Senior Sales',\n",
              " 'Financial Software Developer Intern',\n",
              " 'Billing Analyst',\n",
              " 'Information Systems',\n",
              " 'Administrator',\n",
              " 'Equity Fundamentals Analyst',\n",
              " 'Field Service Engineer/Tech']"
            ]
          },
          "metadata": {
            "tags": []
          },
          "execution_count": 137
        }
      ]
    },
    {
      "cell_type": "code",
      "metadata": {
        "id": "25liEU0mVFxl",
        "colab_type": "code",
        "colab": {}
      },
      "source": [
        "def f(row):\n",
        "  if str(row['employee_title']).find(\"Analyst\"):\n",
        "    return \"Analyst\"\n",
        "  elif str(row['employee_title']).find(\"Manager\"):\n",
        "    return \"Management\"\n",
        "  elif str(row['employee_title']).find(\"Intern\"):\n",
        "    return \"Intern\"\n",
        "  elif str(row['employee_title']).find(\"Software Engineer\") or str(row['employee_title']).find(\"Software Developer\"):\n",
        "    return \"Software Engineer\"\n",
        "  elif str(row['employee_title']).find(\"Editor\"):\n",
        "    return \"Editor\"\n",
        "  return np.nan\n",
        "                                      \n",
        "df2 = df.copy()\n",
        "df2[\"org\"] = df.apply(f, axis=1)"
      ],
      "execution_count": 0,
      "outputs": []
    },
    {
      "cell_type": "code",
      "metadata": {
        "id": "IG74L5CPWUzO",
        "colab_type": "code",
        "outputId": "7c977672-5c90-4466-90dc-d893c100dcb4",
        "colab": {
          "base_uri": "https://localhost:8080/",
          "height": 34
        }
      },
      "source": [
        "df2['org'].unique()"
      ],
      "execution_count": 0,
      "outputs": [
        {
          "output_type": "execute_result",
          "data": {
            "text/plain": [
              "array(['Analyst', 'Management'], dtype=object)"
            ]
          },
          "metadata": {
            "tags": []
          },
          "execution_count": 160
        }
      ]
    },
    {
      "cell_type": "code",
      "metadata": {
        "id": "gkVCuMN7UUxI",
        "colab_type": "code",
        "outputId": "e70264d2-ccfd-4f8f-b82f-74b0e0e2a6bd",
        "colab": {
          "base_uri": "https://localhost:8080/",
          "height": 394
        }
      },
      "source": [
        "df.head()"
      ],
      "execution_count": 0,
      "outputs": [
        {
          "output_type": "execute_result",
          "data": {
            "text/html": [
              "<div>\n",
              "<style scoped>\n",
              "    .dataframe tbody tr th:only-of-type {\n",
              "        vertical-align: middle;\n",
              "    }\n",
              "\n",
              "    .dataframe tbody tr th {\n",
              "        vertical-align: top;\n",
              "    }\n",
              "\n",
              "    .dataframe thead th {\n",
              "        text-align: right;\n",
              "    }\n",
              "</style>\n",
              "<table border=\"1\" class=\"dataframe\">\n",
              "  <thead>\n",
              "    <tr style=\"text-align: right;\">\n",
              "      <th></th>\n",
              "      <th>date</th>\n",
              "      <th>employee_title</th>\n",
              "      <th>location</th>\n",
              "      <th>employee_status</th>\n",
              "      <th>outlook</th>\n",
              "      <th>recommend</th>\n",
              "      <th>review_title</th>\n",
              "      <th>years_at_company</th>\n",
              "      <th>helpful</th>\n",
              "      <th>rating_overall</th>\n",
              "      <th>rating_balance</th>\n",
              "      <th>rating_culture</th>\n",
              "      <th>rating_career</th>\n",
              "      <th>rating_comp</th>\n",
              "      <th>rating_mgmt</th>\n",
              "      <th>month</th>\n",
              "      <th>year</th>\n",
              "    </tr>\n",
              "  </thead>\n",
              "  <tbody>\n",
              "    <tr>\n",
              "      <th>0</th>\n",
              "      <td>2019-06-24</td>\n",
              "      <td>Senior SAP Basis Administrator</td>\n",
              "      <td>New York, NY</td>\n",
              "      <td>Current Employee</td>\n",
              "      <td>Positive</td>\n",
              "      <td>Recommends</td>\n",
              "      <td>Awesome Company</td>\n",
              "      <td>1.0</td>\n",
              "      <td>NaN</td>\n",
              "      <td>5.0</td>\n",
              "      <td>3.0</td>\n",
              "      <td>4.0</td>\n",
              "      <td>3.0</td>\n",
              "      <td>4.0</td>\n",
              "      <td>4.0</td>\n",
              "      <td>6</td>\n",
              "      <td>2019</td>\n",
              "    </tr>\n",
              "    <tr>\n",
              "      <th>1</th>\n",
              "      <td>2019-06-22</td>\n",
              "      <td>Team Leader</td>\n",
              "      <td>NaN</td>\n",
              "      <td>Current Employee</td>\n",
              "      <td>Positive</td>\n",
              "      <td>Recommends</td>\n",
              "      <td>Fantastic place to work with a very high ceiling!</td>\n",
              "      <td>1.0</td>\n",
              "      <td>1.0</td>\n",
              "      <td>5.0</td>\n",
              "      <td>5.0</td>\n",
              "      <td>4.0</td>\n",
              "      <td>5.0</td>\n",
              "      <td>4.0</td>\n",
              "      <td>5.0</td>\n",
              "      <td>6</td>\n",
              "      <td>2019</td>\n",
              "    </tr>\n",
              "    <tr>\n",
              "      <th>2</th>\n",
              "      <td>2019-06-18</td>\n",
              "      <td>Enterprise Sales</td>\n",
              "      <td>New York, NY</td>\n",
              "      <td>Former Employee</td>\n",
              "      <td>Positive</td>\n",
              "      <td>Recommends</td>\n",
              "      <td>bloomberg</td>\n",
              "      <td>3.0</td>\n",
              "      <td>1.0</td>\n",
              "      <td>5.0</td>\n",
              "      <td>1.0</td>\n",
              "      <td>3.0</td>\n",
              "      <td>3.0</td>\n",
              "      <td>5.0</td>\n",
              "      <td>3.0</td>\n",
              "      <td>6</td>\n",
              "      <td>2019</td>\n",
              "    </tr>\n",
              "    <tr>\n",
              "      <th>3</th>\n",
              "      <td>2019-06-11</td>\n",
              "      <td>Sales and Relationship Manager</td>\n",
              "      <td>New York, NY</td>\n",
              "      <td>Former Employee</td>\n",
              "      <td>Positive</td>\n",
              "      <td>Recommends</td>\n",
              "      <td>Great company to learn and experience the fina...</td>\n",
              "      <td>NaN</td>\n",
              "      <td>4.0</td>\n",
              "      <td>4.0</td>\n",
              "      <td>4.0</td>\n",
              "      <td>3.0</td>\n",
              "      <td>3.0</td>\n",
              "      <td>3.0</td>\n",
              "      <td>2.0</td>\n",
              "      <td>6</td>\n",
              "      <td>2019</td>\n",
              "    </tr>\n",
              "    <tr>\n",
              "      <th>4</th>\n",
              "      <td>2019-06-20</td>\n",
              "      <td>Bloomberg Intelligence Associate</td>\n",
              "      <td>New York, NY</td>\n",
              "      <td>Former Employee</td>\n",
              "      <td>Positive</td>\n",
              "      <td>Recommends</td>\n",
              "      <td>Great place to learn and start career</td>\n",
              "      <td>5.0</td>\n",
              "      <td>NaN</td>\n",
              "      <td>4.0</td>\n",
              "      <td>3.0</td>\n",
              "      <td>5.0</td>\n",
              "      <td>5.0</td>\n",
              "      <td>5.0</td>\n",
              "      <td>3.0</td>\n",
              "      <td>6</td>\n",
              "      <td>2019</td>\n",
              "    </tr>\n",
              "  </tbody>\n",
              "</table>\n",
              "</div>"
            ],
            "text/plain": [
              "        date                    employee_title  ... month  year\n",
              "0 2019-06-24    Senior SAP Basis Administrator  ...     6  2019\n",
              "1 2019-06-22                       Team Leader  ...     6  2019\n",
              "2 2019-06-18                  Enterprise Sales  ...     6  2019\n",
              "3 2019-06-11    Sales and Relationship Manager  ...     6  2019\n",
              "4 2019-06-20  Bloomberg Intelligence Associate  ...     6  2019\n",
              "\n",
              "[5 rows x 17 columns]"
            ]
          },
          "metadata": {
            "tags": []
          },
          "execution_count": 143
        }
      ]
    },
    {
      "cell_type": "code",
      "metadata": {
        "id": "nhHUhAV4gewA",
        "colab_type": "code",
        "outputId": "de5a6192-f81a-4d7a-f4ea-c5d78da86359",
        "colab": {
          "base_uri": "https://localhost:8080/",
          "height": 1000
        }
      },
      "source": [
        "df.query('employee_title == \"Analyst\"')"
      ],
      "execution_count": 0,
      "outputs": [
        {
          "output_type": "execute_result",
          "data": {
            "text/html": [
              "<div>\n",
              "<style scoped>\n",
              "    .dataframe tbody tr th:only-of-type {\n",
              "        vertical-align: middle;\n",
              "    }\n",
              "\n",
              "    .dataframe tbody tr th {\n",
              "        vertical-align: top;\n",
              "    }\n",
              "\n",
              "    .dataframe thead th {\n",
              "        text-align: right;\n",
              "    }\n",
              "</style>\n",
              "<table border=\"1\" class=\"dataframe\">\n",
              "  <thead>\n",
              "    <tr style=\"text-align: right;\">\n",
              "      <th></th>\n",
              "      <th>date</th>\n",
              "      <th>employee_title</th>\n",
              "      <th>location</th>\n",
              "      <th>employee_status</th>\n",
              "      <th>outlook</th>\n",
              "      <th>recommend</th>\n",
              "      <th>review_title</th>\n",
              "      <th>years_at_company</th>\n",
              "      <th>helpful</th>\n",
              "      <th>rating_overall</th>\n",
              "      <th>rating_balance</th>\n",
              "      <th>rating_culture</th>\n",
              "      <th>rating_career</th>\n",
              "      <th>rating_comp</th>\n",
              "      <th>rating_mgmt</th>\n",
              "      <th>month</th>\n",
              "      <th>year</th>\n",
              "    </tr>\n",
              "  </thead>\n",
              "  <tbody>\n",
              "    <tr>\n",
              "      <th>12</th>\n",
              "      <td>2019-06-07</td>\n",
              "      <td>Analyst</td>\n",
              "      <td>Skillman, NJ</td>\n",
              "      <td>Former Employee</td>\n",
              "      <td>Neutral</td>\n",
              "      <td>Recommends</td>\n",
              "      <td>Great place to work, just put in the effort an...</td>\n",
              "      <td>1.0</td>\n",
              "      <td>NaN</td>\n",
              "      <td>5.0</td>\n",
              "      <td>4.0</td>\n",
              "      <td>5.0</td>\n",
              "      <td>5.0</td>\n",
              "      <td>5.0</td>\n",
              "      <td>4.0</td>\n",
              "      <td>6</td>\n",
              "      <td>2019</td>\n",
              "    </tr>\n",
              "    <tr>\n",
              "      <th>61</th>\n",
              "      <td>2019-02-04</td>\n",
              "      <td>Analyst</td>\n",
              "      <td>New York, NY</td>\n",
              "      <td>Current Employee</td>\n",
              "      <td>Neutral</td>\n",
              "      <td>Doesn't Recommend</td>\n",
              "      <td>Diversity and Inclusion — What a Joke!</td>\n",
              "      <td>5.0</td>\n",
              "      <td>20.0</td>\n",
              "      <td>2.0</td>\n",
              "      <td>3.0</td>\n",
              "      <td>3.0</td>\n",
              "      <td>2.0</td>\n",
              "      <td>2.0</td>\n",
              "      <td>2.0</td>\n",
              "      <td>2</td>\n",
              "      <td>2019</td>\n",
              "    </tr>\n",
              "    <tr>\n",
              "      <th>100</th>\n",
              "      <td>2019-01-22</td>\n",
              "      <td>Analyst</td>\n",
              "      <td>Skillman, NJ</td>\n",
              "      <td>Former Employee</td>\n",
              "      <td>Positive</td>\n",
              "      <td>Recommends</td>\n",
              "      <td>Don't Take Offer</td>\n",
              "      <td>1.0</td>\n",
              "      <td>5.0</td>\n",
              "      <td>1.0</td>\n",
              "      <td>5.0</td>\n",
              "      <td>4.0</td>\n",
              "      <td>2.0</td>\n",
              "      <td>3.0</td>\n",
              "      <td>2.0</td>\n",
              "      <td>1</td>\n",
              "      <td>2019</td>\n",
              "    </tr>\n",
              "    <tr>\n",
              "      <th>126</th>\n",
              "      <td>2018-10-18</td>\n",
              "      <td>Analyst</td>\n",
              "      <td>New York, NY</td>\n",
              "      <td>Current Employee</td>\n",
              "      <td>Negative</td>\n",
              "      <td>Doesn't Recommend</td>\n",
              "      <td>Great learning environment.</td>\n",
              "      <td>1.0</td>\n",
              "      <td>1.0</td>\n",
              "      <td>5.0</td>\n",
              "      <td>5.0</td>\n",
              "      <td>5.0</td>\n",
              "      <td>3.0</td>\n",
              "      <td>5.0</td>\n",
              "      <td>5.0</td>\n",
              "      <td>10</td>\n",
              "      <td>2018</td>\n",
              "    </tr>\n",
              "    <tr>\n",
              "      <th>133</th>\n",
              "      <td>2018-10-11</td>\n",
              "      <td>Analyst</td>\n",
              "      <td>New York, NY</td>\n",
              "      <td>Current Employee</td>\n",
              "      <td>Positive</td>\n",
              "      <td>Recommends</td>\n",
              "      <td>great place to work</td>\n",
              "      <td>8.0</td>\n",
              "      <td>NaN</td>\n",
              "      <td>5.0</td>\n",
              "      <td>5.0</td>\n",
              "      <td>5.0</td>\n",
              "      <td>4.0</td>\n",
              "      <td>3.0</td>\n",
              "      <td>5.0</td>\n",
              "      <td>10</td>\n",
              "      <td>2018</td>\n",
              "    </tr>\n",
              "    <tr>\n",
              "      <th>148</th>\n",
              "      <td>2018-09-28</td>\n",
              "      <td>Analyst</td>\n",
              "      <td>NaN</td>\n",
              "      <td>Current Employee</td>\n",
              "      <td>Negative</td>\n",
              "      <td>Doesn't Recommend</td>\n",
              "      <td>Bloomberg Intelligence Equals Reputation Risk ...</td>\n",
              "      <td>NaN</td>\n",
              "      <td>16.0</td>\n",
              "      <td>1.0</td>\n",
              "      <td>1.0</td>\n",
              "      <td>1.0</td>\n",
              "      <td>1.0</td>\n",
              "      <td>1.0</td>\n",
              "      <td>1.0</td>\n",
              "      <td>9</td>\n",
              "      <td>2018</td>\n",
              "    </tr>\n",
              "    <tr>\n",
              "      <th>158</th>\n",
              "      <td>2018-07-23</td>\n",
              "      <td>Analyst</td>\n",
              "      <td>New York, NY</td>\n",
              "      <td>Former Employee</td>\n",
              "      <td>Positive</td>\n",
              "      <td>Recommends</td>\n",
              "      <td>Solid experience, Honest review</td>\n",
              "      <td>5.0</td>\n",
              "      <td>8.0</td>\n",
              "      <td>4.0</td>\n",
              "      <td>4.0</td>\n",
              "      <td>4.0</td>\n",
              "      <td>2.0</td>\n",
              "      <td>5.0</td>\n",
              "      <td>4.0</td>\n",
              "      <td>7</td>\n",
              "      <td>2018</td>\n",
              "    </tr>\n",
              "    <tr>\n",
              "      <th>285</th>\n",
              "      <td>2018-01-18</td>\n",
              "      <td>Analyst</td>\n",
              "      <td>Washington, DC</td>\n",
              "      <td>Former Employee</td>\n",
              "      <td>Negative</td>\n",
              "      <td>Doesn't Recommend</td>\n",
              "      <td>Great Place to Work</td>\n",
              "      <td>5.0</td>\n",
              "      <td>NaN</td>\n",
              "      <td>5.0</td>\n",
              "      <td>5.0</td>\n",
              "      <td>5.0</td>\n",
              "      <td>NaN</td>\n",
              "      <td>NaN</td>\n",
              "      <td>NaN</td>\n",
              "      <td>1</td>\n",
              "      <td>2018</td>\n",
              "    </tr>\n",
              "    <tr>\n",
              "      <th>529</th>\n",
              "      <td>2017-02-24</td>\n",
              "      <td>Analyst</td>\n",
              "      <td>New York, NY</td>\n",
              "      <td>Former Employee</td>\n",
              "      <td>Neutral</td>\n",
              "      <td>Doesn't Recommend</td>\n",
              "      <td>Analyst</td>\n",
              "      <td>3.0</td>\n",
              "      <td>7.0</td>\n",
              "      <td>1.0</td>\n",
              "      <td>3.0</td>\n",
              "      <td>1.0</td>\n",
              "      <td>1.0</td>\n",
              "      <td>1.0</td>\n",
              "      <td>1.0</td>\n",
              "      <td>2</td>\n",
              "      <td>2017</td>\n",
              "    </tr>\n",
              "    <tr>\n",
              "      <th>558</th>\n",
              "      <td>2017-01-21</td>\n",
              "      <td>Analyst</td>\n",
              "      <td>Skillman, NJ</td>\n",
              "      <td>Former Employee</td>\n",
              "      <td>Neutral</td>\n",
              "      <td>Recommends</td>\n",
              "      <td>Horrible management</td>\n",
              "      <td>3.0</td>\n",
              "      <td>5.0</td>\n",
              "      <td>1.0</td>\n",
              "      <td>1.0</td>\n",
              "      <td>1.0</td>\n",
              "      <td>1.0</td>\n",
              "      <td>1.0</td>\n",
              "      <td>1.0</td>\n",
              "      <td>1</td>\n",
              "      <td>2017</td>\n",
              "    </tr>\n",
              "    <tr>\n",
              "      <th>673</th>\n",
              "      <td>2016-07-22</td>\n",
              "      <td>Analyst</td>\n",
              "      <td>New York, NY</td>\n",
              "      <td>Current Employee</td>\n",
              "      <td>Neutral</td>\n",
              "      <td>Doesn't Recommend</td>\n",
              "      <td>Good Company, bit bueracratic</td>\n",
              "      <td>3.0</td>\n",
              "      <td>2.0</td>\n",
              "      <td>3.0</td>\n",
              "      <td>3.0</td>\n",
              "      <td>4.0</td>\n",
              "      <td>3.0</td>\n",
              "      <td>5.0</td>\n",
              "      <td>5.0</td>\n",
              "      <td>7</td>\n",
              "      <td>2016</td>\n",
              "    </tr>\n",
              "    <tr>\n",
              "      <th>779</th>\n",
              "      <td>2016-03-09</td>\n",
              "      <td>Analyst</td>\n",
              "      <td>Skillman, NJ</td>\n",
              "      <td>Former Employee</td>\n",
              "      <td>Neutral</td>\n",
              "      <td>Doesn't Recommend</td>\n",
              "      <td>Data Analyst</td>\n",
              "      <td>NaN</td>\n",
              "      <td>2.0</td>\n",
              "      <td>3.0</td>\n",
              "      <td>3.0</td>\n",
              "      <td>3.0</td>\n",
              "      <td>3.0</td>\n",
              "      <td>4.0</td>\n",
              "      <td>2.0</td>\n",
              "      <td>3</td>\n",
              "      <td>2016</td>\n",
              "    </tr>\n",
              "    <tr>\n",
              "      <th>784</th>\n",
              "      <td>2016-02-23</td>\n",
              "      <td>Analyst</td>\n",
              "      <td>New York, NY</td>\n",
              "      <td>Former Employee</td>\n",
              "      <td>Neutral</td>\n",
              "      <td>Doesn't Recommend</td>\n",
              "      <td>analyst</td>\n",
              "      <td>NaN</td>\n",
              "      <td>NaN</td>\n",
              "      <td>5.0</td>\n",
              "      <td>3.0</td>\n",
              "      <td>4.0</td>\n",
              "      <td>5.0</td>\n",
              "      <td>3.0</td>\n",
              "      <td>3.0</td>\n",
              "      <td>2</td>\n",
              "      <td>2016</td>\n",
              "    </tr>\n",
              "    <tr>\n",
              "      <th>975</th>\n",
              "      <td>2015-08-19</td>\n",
              "      <td>Analyst</td>\n",
              "      <td>Princeton, NJ</td>\n",
              "      <td>Current Employee</td>\n",
              "      <td>Positive</td>\n",
              "      <td>Recommends</td>\n",
              "      <td>Depends on the Team</td>\n",
              "      <td>1.0</td>\n",
              "      <td>NaN</td>\n",
              "      <td>3.0</td>\n",
              "      <td>3.0</td>\n",
              "      <td>3.0</td>\n",
              "      <td>3.0</td>\n",
              "      <td>3.0</td>\n",
              "      <td>3.0</td>\n",
              "      <td>8</td>\n",
              "      <td>2015</td>\n",
              "    </tr>\n",
              "    <tr>\n",
              "      <th>987</th>\n",
              "      <td>2015-07-08</td>\n",
              "      <td>Analyst</td>\n",
              "      <td>New York, NY</td>\n",
              "      <td>Former Employee</td>\n",
              "      <td>Positive</td>\n",
              "      <td>Recommends</td>\n",
              "      <td>Prison</td>\n",
              "      <td>1.0</td>\n",
              "      <td>26.0</td>\n",
              "      <td>2.0</td>\n",
              "      <td>2.0</td>\n",
              "      <td>3.0</td>\n",
              "      <td>3.0</td>\n",
              "      <td>2.0</td>\n",
              "      <td>2.0</td>\n",
              "      <td>7</td>\n",
              "      <td>2015</td>\n",
              "    </tr>\n",
              "    <tr>\n",
              "      <th>1056</th>\n",
              "      <td>2015-05-18</td>\n",
              "      <td>Analyst</td>\n",
              "      <td>NaN</td>\n",
              "      <td>Former Employee</td>\n",
              "      <td>Neutral</td>\n",
              "      <td>Recommends</td>\n",
              "      <td>Good Career Starter</td>\n",
              "      <td>1.0</td>\n",
              "      <td>NaN</td>\n",
              "      <td>3.0</td>\n",
              "      <td>4.0</td>\n",
              "      <td>4.0</td>\n",
              "      <td>5.0</td>\n",
              "      <td>3.0</td>\n",
              "      <td>2.0</td>\n",
              "      <td>5</td>\n",
              "      <td>2015</td>\n",
              "    </tr>\n",
              "    <tr>\n",
              "      <th>1082</th>\n",
              "      <td>2015-04-17</td>\n",
              "      <td>Analyst</td>\n",
              "      <td>Princeton, NJ</td>\n",
              "      <td>Current Employee</td>\n",
              "      <td>Positive</td>\n",
              "      <td>Recommends</td>\n",
              "      <td>Analyst (temp agency)</td>\n",
              "      <td>NaN</td>\n",
              "      <td>4.0</td>\n",
              "      <td>3.0</td>\n",
              "      <td>4.0</td>\n",
              "      <td>5.0</td>\n",
              "      <td>3.0</td>\n",
              "      <td>2.0</td>\n",
              "      <td>2.0</td>\n",
              "      <td>4</td>\n",
              "      <td>2015</td>\n",
              "    </tr>\n",
              "    <tr>\n",
              "      <th>1117</th>\n",
              "      <td>2015-02-28</td>\n",
              "      <td>Analyst</td>\n",
              "      <td>Princeton, NJ</td>\n",
              "      <td>Current Employee</td>\n",
              "      <td>Positive</td>\n",
              "      <td>Recommends</td>\n",
              "      <td>Good salary and benefits but horrible management</td>\n",
              "      <td>1.0</td>\n",
              "      <td>4.0</td>\n",
              "      <td>2.0</td>\n",
              "      <td>3.0</td>\n",
              "      <td>2.0</td>\n",
              "      <td>2.0</td>\n",
              "      <td>3.0</td>\n",
              "      <td>2.0</td>\n",
              "      <td>2</td>\n",
              "      <td>2015</td>\n",
              "    </tr>\n",
              "    <tr>\n",
              "      <th>1170</th>\n",
              "      <td>2014-12-11</td>\n",
              "      <td>Analyst</td>\n",
              "      <td>New York, NY</td>\n",
              "      <td>Former Employee</td>\n",
              "      <td>Positive</td>\n",
              "      <td>Recommends</td>\n",
              "      <td>Fast paced, exhilarating, great colleagues yet...</td>\n",
              "      <td>1.0</td>\n",
              "      <td>4.0</td>\n",
              "      <td>3.0</td>\n",
              "      <td>2.0</td>\n",
              "      <td>4.0</td>\n",
              "      <td>1.0</td>\n",
              "      <td>1.0</td>\n",
              "      <td>1.0</td>\n",
              "      <td>12</td>\n",
              "      <td>2014</td>\n",
              "    </tr>\n",
              "    <tr>\n",
              "      <th>1268</th>\n",
              "      <td>2014-05-26</td>\n",
              "      <td>Analyst</td>\n",
              "      <td>New York, NY</td>\n",
              "      <td>Former Employee</td>\n",
              "      <td>Positive</td>\n",
              "      <td>Recommends</td>\n",
              "      <td>Great culture, mediocre work</td>\n",
              "      <td>3.0</td>\n",
              "      <td>NaN</td>\n",
              "      <td>4.0</td>\n",
              "      <td>5.0</td>\n",
              "      <td>5.0</td>\n",
              "      <td>3.0</td>\n",
              "      <td>5.0</td>\n",
              "      <td>4.0</td>\n",
              "      <td>5</td>\n",
              "      <td>2014</td>\n",
              "    </tr>\n",
              "    <tr>\n",
              "      <th>1312</th>\n",
              "      <td>2014-03-08</td>\n",
              "      <td>Analyst</td>\n",
              "      <td>New York, NY</td>\n",
              "      <td>Current Employee</td>\n",
              "      <td>Neutral</td>\n",
              "      <td>Doesn't Recommend</td>\n",
              "      <td>Nice start, big disappointment</td>\n",
              "      <td>1.0</td>\n",
              "      <td>7.0</td>\n",
              "      <td>2.0</td>\n",
              "      <td>3.0</td>\n",
              "      <td>2.0</td>\n",
              "      <td>2.0</td>\n",
              "      <td>4.0</td>\n",
              "      <td>2.0</td>\n",
              "      <td>3</td>\n",
              "      <td>2014</td>\n",
              "    </tr>\n",
              "    <tr>\n",
              "      <th>1341</th>\n",
              "      <td>2014-02-03</td>\n",
              "      <td>Analyst</td>\n",
              "      <td>New York, NY</td>\n",
              "      <td>Current Employee</td>\n",
              "      <td>Negative</td>\n",
              "      <td>Doesn't Recommend</td>\n",
              "      <td>Great place to work!</td>\n",
              "      <td>1.0</td>\n",
              "      <td>NaN</td>\n",
              "      <td>5.0</td>\n",
              "      <td>5.0</td>\n",
              "      <td>4.0</td>\n",
              "      <td>4.0</td>\n",
              "      <td>3.0</td>\n",
              "      <td>4.0</td>\n",
              "      <td>2</td>\n",
              "      <td>2014</td>\n",
              "    </tr>\n",
              "    <tr>\n",
              "      <th>1350</th>\n",
              "      <td>2014-02-25</td>\n",
              "      <td>Analyst</td>\n",
              "      <td>NaN</td>\n",
              "      <td>Former Employee</td>\n",
              "      <td>Negative</td>\n",
              "      <td>Doesn't Recommend</td>\n",
              "      <td>reality check</td>\n",
              "      <td>1.0</td>\n",
              "      <td>3.0</td>\n",
              "      <td>1.0</td>\n",
              "      <td>2.0</td>\n",
              "      <td>1.0</td>\n",
              "      <td>1.0</td>\n",
              "      <td>2.0</td>\n",
              "      <td>1.0</td>\n",
              "      <td>2</td>\n",
              "      <td>2014</td>\n",
              "    </tr>\n",
              "    <tr>\n",
              "      <th>1427</th>\n",
              "      <td>2013-09-01</td>\n",
              "      <td>Analyst</td>\n",
              "      <td>Princeton, NJ</td>\n",
              "      <td>Current Employee</td>\n",
              "      <td>Positive</td>\n",
              "      <td>Recommends</td>\n",
              "      <td>Great experience and opportunity</td>\n",
              "      <td>5.0</td>\n",
              "      <td>NaN</td>\n",
              "      <td>3.0</td>\n",
              "      <td>NaN</td>\n",
              "      <td>NaN</td>\n",
              "      <td>NaN</td>\n",
              "      <td>NaN</td>\n",
              "      <td>NaN</td>\n",
              "      <td>9</td>\n",
              "      <td>2013</td>\n",
              "    </tr>\n",
              "    <tr>\n",
              "      <th>1489</th>\n",
              "      <td>2013-04-02</td>\n",
              "      <td>Analyst</td>\n",
              "      <td>NaN</td>\n",
              "      <td>Former Employee</td>\n",
              "      <td>Positive</td>\n",
              "      <td>Doesn't Recommend</td>\n",
              "      <td>Great great place to work at!</td>\n",
              "      <td>1.0</td>\n",
              "      <td>NaN</td>\n",
              "      <td>5.0</td>\n",
              "      <td>NaN</td>\n",
              "      <td>NaN</td>\n",
              "      <td>NaN</td>\n",
              "      <td>NaN</td>\n",
              "      <td>NaN</td>\n",
              "      <td>4</td>\n",
              "      <td>2013</td>\n",
              "    </tr>\n",
              "    <tr>\n",
              "      <th>1506</th>\n",
              "      <td>2013-03-17</td>\n",
              "      <td>Analyst</td>\n",
              "      <td>New York, NY</td>\n",
              "      <td>Current Employee</td>\n",
              "      <td>Positive</td>\n",
              "      <td>Doesn't Recommend</td>\n",
              "      <td>A respected company</td>\n",
              "      <td>5.0</td>\n",
              "      <td>NaN</td>\n",
              "      <td>3.0</td>\n",
              "      <td>2.0</td>\n",
              "      <td>3.0</td>\n",
              "      <td>3.0</td>\n",
              "      <td>4.0</td>\n",
              "      <td>3.0</td>\n",
              "      <td>3</td>\n",
              "      <td>2013</td>\n",
              "    </tr>\n",
              "    <tr>\n",
              "      <th>1533</th>\n",
              "      <td>2013-01-09</td>\n",
              "      <td>Analyst</td>\n",
              "      <td>Princeton, NJ</td>\n",
              "      <td>Former Employee</td>\n",
              "      <td>Neutral</td>\n",
              "      <td>Doesn't Recommend</td>\n",
              "      <td>Dead End career</td>\n",
              "      <td>1.0</td>\n",
              "      <td>5.0</td>\n",
              "      <td>2.0</td>\n",
              "      <td>3.0</td>\n",
              "      <td>2.0</td>\n",
              "      <td>1.0</td>\n",
              "      <td>4.0</td>\n",
              "      <td>1.0</td>\n",
              "      <td>1</td>\n",
              "      <td>2013</td>\n",
              "    </tr>\n",
              "  </tbody>\n",
              "</table>\n",
              "</div>"
            ],
            "text/plain": [
              "           date employee_title        location  ... rating_mgmt month  year\n",
              "12   2019-06-07        Analyst    Skillman, NJ  ...         4.0     6  2019\n",
              "61   2019-02-04        Analyst    New York, NY  ...         2.0     2  2019\n",
              "100  2019-01-22        Analyst    Skillman, NJ  ...         2.0     1  2019\n",
              "126  2018-10-18        Analyst    New York, NY  ...         5.0    10  2018\n",
              "133  2018-10-11        Analyst    New York, NY  ...         5.0    10  2018\n",
              "148  2018-09-28        Analyst             NaN  ...         1.0     9  2018\n",
              "158  2018-07-23        Analyst    New York, NY  ...         4.0     7  2018\n",
              "285  2018-01-18        Analyst  Washington, DC  ...         NaN     1  2018\n",
              "529  2017-02-24        Analyst    New York, NY  ...         1.0     2  2017\n",
              "558  2017-01-21        Analyst    Skillman, NJ  ...         1.0     1  2017\n",
              "673  2016-07-22        Analyst    New York, NY  ...         5.0     7  2016\n",
              "779  2016-03-09        Analyst    Skillman, NJ  ...         2.0     3  2016\n",
              "784  2016-02-23        Analyst    New York, NY  ...         3.0     2  2016\n",
              "975  2015-08-19        Analyst   Princeton, NJ  ...         3.0     8  2015\n",
              "987  2015-07-08        Analyst    New York, NY  ...         2.0     7  2015\n",
              "1056 2015-05-18        Analyst             NaN  ...         2.0     5  2015\n",
              "1082 2015-04-17        Analyst   Princeton, NJ  ...         2.0     4  2015\n",
              "1117 2015-02-28        Analyst   Princeton, NJ  ...         2.0     2  2015\n",
              "1170 2014-12-11        Analyst    New York, NY  ...         1.0    12  2014\n",
              "1268 2014-05-26        Analyst    New York, NY  ...         4.0     5  2014\n",
              "1312 2014-03-08        Analyst    New York, NY  ...         2.0     3  2014\n",
              "1341 2014-02-03        Analyst    New York, NY  ...         4.0     2  2014\n",
              "1350 2014-02-25        Analyst             NaN  ...         1.0     2  2014\n",
              "1427 2013-09-01        Analyst   Princeton, NJ  ...         NaN     9  2013\n",
              "1489 2013-04-02        Analyst             NaN  ...         NaN     4  2013\n",
              "1506 2013-03-17        Analyst    New York, NY  ...         3.0     3  2013\n",
              "1533 2013-01-09        Analyst   Princeton, NJ  ...         1.0     1  2013\n",
              "\n",
              "[27 rows x 17 columns]"
            ]
          },
          "metadata": {
            "tags": []
          },
          "execution_count": 49
        }
      ]
    },
    {
      "cell_type": "code",
      "metadata": {
        "id": "j-EnBHCLfy4t",
        "colab_type": "code",
        "outputId": "9289bc72-3859-4d8e-d9e1-b936b0de4132",
        "colab": {
          "base_uri": "https://localhost:8080/",
          "height": 292
        }
      },
      "source": [
        "# Histogram of overall ratings\n",
        "# TODO: Do these by company\n",
        "df['rating_overall'].value_counts().sort_index().plot.bar()"
      ],
      "execution_count": 0,
      "outputs": [
        {
          "output_type": "execute_result",
          "data": {
            "text/plain": [
              "<matplotlib.axes._subplots.AxesSubplot at 0x7ff4909a3d30>"
            ]
          },
          "metadata": {
            "tags": []
          },
          "execution_count": 50
        },
        {
          "output_type": "display_data",
          "data": {
            "image/png": "[encoded data removed]",
            "text/plain": [
              "<Figure size 432x288 with 1 Axes>"
            ]
          },
          "metadata": {
            "tags": []
          }
        }
      ]
    },
    {
      "cell_type": "code",
      "metadata": {
        "id": "l6b6UI0wpaow",
        "colab_type": "code",
        "outputId": "cae5b1bd-7d64-471d-f92f-df226b42622c",
        "colab": {
          "base_uri": "https://localhost:8080/",
          "height": 1000
        }
      },
      "source": [
        "df.groupby(['year', 'month'])['rating_overall'].count()"
      ],
      "execution_count": 0,
      "outputs": [
        {
          "output_type": "execute_result",
          "data": {
            "text/plain": [
              "year  month\n",
              "2012  4         3\n",
              "      5         7\n",
              "      6        11\n",
              "      7         6\n",
              "      8         9\n",
              "      9        10\n",
              "      10       10\n",
              "      11        3\n",
              "      12       14\n",
              "2013  1        13\n",
              "      2        14\n",
              "      3        15\n",
              "      4        12\n",
              "      5        15\n",
              "      6        12\n",
              "      7        12\n",
              "      8        21\n",
              "      9        10\n",
              "      10       16\n",
              "      11        8\n",
              "      12        9\n",
              "2014  1        28\n",
              "      2        29\n",
              "      3        25\n",
              "      4        13\n",
              "      5        14\n",
              "      6        16\n",
              "      7        17\n",
              "      8        21\n",
              "      9        14\n",
              "               ..\n",
              "2017  1        29\n",
              "      2        24\n",
              "      3        27\n",
              "      4        19\n",
              "      5        23\n",
              "      6        22\n",
              "      7        18\n",
              "      8        15\n",
              "      9        25\n",
              "      10       25\n",
              "      11       17\n",
              "      12       17\n",
              "2018  1        26\n",
              "      2        19\n",
              "      3        24\n",
              "      4        10\n",
              "      5        19\n",
              "      6        13\n",
              "      7        18\n",
              "      8        18\n",
              "      9        14\n",
              "      10       18\n",
              "      11       12\n",
              "      12       11\n",
              "2019  1        19\n",
              "      2        21\n",
              "      3        11\n",
              "      4        19\n",
              "      5         8\n",
              "      6        18\n",
              "Name: rating_overall, Length: 87, dtype: int64"
            ]
          },
          "metadata": {
            "tags": []
          },
          "execution_count": 53
        }
      ]
    },
    {
      "cell_type": "code",
      "metadata": {
        "id": "ppY6zkJnppIe",
        "colab_type": "code",
        "outputId": "c56de227-a179-4ea4-effe-3aceeb05b36c",
        "colab": {
          "base_uri": "https://localhost:8080/",
          "height": 300
        }
      },
      "source": [
        "# Years at company over time\n",
        "df.groupby(['year', 'month'])['years_at_company'].mean().plot.line()"
      ],
      "execution_count": 0,
      "outputs": [
        {
          "output_type": "execute_result",
          "data": {
            "text/plain": [
              "<matplotlib.axes._subplots.AxesSubplot at 0x7ff490852518>"
            ]
          },
          "metadata": {
            "tags": []
          },
          "execution_count": 55
        },
        {
          "output_type": "display_data",
          "data": {
            "image/png": "[encoded data removed]",
            "text/plain": [
              "<Figure size 432x288 with 1 Axes>"
            ]
          },
          "metadata": {
            "tags": []
          }
        }
      ]
    },
    {
      "cell_type": "code",
      "metadata": {
        "id": "VVeHiqmWpwtU",
        "colab_type": "code",
        "outputId": "527ec37c-661e-4cc2-d97b-414b6ef43b5f",
        "colab": {
          "base_uri": "https://localhost:8080/",
          "height": 292
        }
      },
      "source": [
        "df['years_at_company'].value_counts().sort_index().plot.bar()"
      ],
      "execution_count": 0,
      "outputs": [
        {
          "output_type": "execute_result",
          "data": {
            "text/plain": [
              "<matplotlib.axes._subplots.AxesSubplot at 0x7ff4907dfba8>"
            ]
          },
          "metadata": {
            "tags": []
          },
          "execution_count": 59
        },
        {
          "output_type": "display_data",
          "data": {
            "image/png": "[encoded data removed]",
            "text/plain": [
              "<Figure size 432x288 with 1 Axes>"
            ]
          },
          "metadata": {
            "tags": []
          }
        }
      ]
    },
    {
      "cell_type": "code",
      "metadata": {
        "id": "93HyQjWIp-k8",
        "colab_type": "code",
        "outputId": "41b865b7-cbf3-4596-fea1-f7fbe626cc1f",
        "colab": {
          "base_uri": "https://localhost:8080/",
          "height": 102
        }
      },
      "source": [
        "df['years_at_company'].value_counts()"
      ],
      "execution_count": 0,
      "outputs": [
        {
          "output_type": "execute_result",
          "data": {
            "text/plain": [
              "1.0    444\n",
              "3.0    257\n",
              "5.0    195\n",
              "8.0     73\n",
              "Name: years_at_company, dtype: int64"
            ]
          },
          "metadata": {
            "tags": []
          },
          "execution_count": 60
        }
      ]
    },
    {
      "cell_type": "markdown",
      "metadata": {
        "id": "DMUdEzNAqCEo",
        "colab_type": "text"
      },
      "source": [
        "Does glassdoor sort these buckets?"
      ]
    },
    {
      "cell_type": "code",
      "metadata": {
        "id": "vi9c0jslqI25",
        "colab_type": "code",
        "outputId": "58e3ae8d-ddcc-405c-fa63-31291642ce59",
        "colab": {
          "base_uri": "https://localhost:8080/",
          "height": 307
        }
      },
      "source": [
        "df.groupby(['rating_overall', 'recommend']).size().unstack().plot.bar()"
      ],
      "execution_count": 0,
      "outputs": [
        {
          "output_type": "execute_result",
          "data": {
            "text/plain": [
              "<matplotlib.axes._subplots.AxesSubplot at 0x7ff490638080>"
            ]
          },
          "metadata": {
            "tags": []
          },
          "execution_count": 69
        },
        {
          "output_type": "display_data",
          "data": {
            "image/png": "[encoded data removed]",
            "text/plain": [
              "<Figure size 432x288 with 1 Axes>"
            ]
          },
          "metadata": {
            "tags": []
          }
        }
      ]
    },
    {
      "cell_type": "code",
      "metadata": {
        "id": "kuEIpkyCrULL",
        "colab_type": "code",
        "outputId": "7a7b1f4e-8650-400d-aa77-4802738b36a7",
        "colab": {
          "base_uri": "https://localhost:8080/",
          "height": 394
        }
      },
      "source": [
        "# Use percentages to make these easier to compare - follows intuitive expectations of more 4s and 5s\n",
        "gb_size = df.groupby(['recommend', 'rating_overall']).size()\n",
        "gb_size.groupby(level=0).apply(lambda g: g / g.sum()).unstack().plot.bar()"
      ],
      "execution_count": 0,
      "outputs": [
        {
          "output_type": "execute_result",
          "data": {
            "text/plain": [
              "<matplotlib.axes._subplots.AxesSubplot at 0x7ff490638f28>"
            ]
          },
          "metadata": {
            "tags": []
          },
          "execution_count": 83
        },
        {
          "output_type": "display_data",
          "data": {
            "image/png": "[encoded data removed]",
            "text/plain": [
              "<Figure size 432x288 with 1 Axes>"
            ]
          },
          "metadata": {
            "tags": []
          }
        }
      ]
    },
    {
      "cell_type": "markdown",
      "metadata": {
        "id": "wrkS16ITtTTN",
        "colab_type": "text"
      },
      "source": [
        "Same as above with years at company vs rating overall"
      ]
    },
    {
      "cell_type": "code",
      "metadata": {
        "id": "1EHYMoWRtHYc",
        "colab_type": "code",
        "outputId": "a82ce275-5eb6-4b3d-b418-4605a0c55a52",
        "colab": {
          "base_uri": "https://localhost:8080/",
          "height": 306
        }
      },
      "source": [
        "df.groupby(['years_at_company', 'rating_overall']).size().unstack().plot.bar()"
      ],
      "execution_count": 0,
      "outputs": [
        {
          "output_type": "execute_result",
          "data": {
            "text/plain": [
              "<matplotlib.axes._subplots.AxesSubplot at 0x7ff4904c3160>"
            ]
          },
          "metadata": {
            "tags": []
          },
          "execution_count": 85
        },
        {
          "output_type": "display_data",
          "data": {
            "image/png": "[encoded data removed]",
            "text/plain": [
              "<Figure size 432x288 with 1 Axes>"
            ]
          },
          "metadata": {
            "tags": []
          }
        }
      ]
    },
    {
      "cell_type": "code",
      "metadata": {
        "id": "0RK4Z881tY2W",
        "colab_type": "code",
        "outputId": "29962782-336e-434c-d551-71119a49c62e",
        "colab": {
          "base_uri": "https://localhost:8080/",
          "height": 306
        }
      },
      "source": [
        "# Less interesting, but fewer 1s and 2s overall\n",
        "gb_size = df.groupby(['years_at_company', 'rating_overall']).size()\n",
        "gb_size.groupby(level=0).apply(lambda g: g / g.sum()).unstack().plot.bar()"
      ],
      "execution_count": 0,
      "outputs": [
        {
          "output_type": "execute_result",
          "data": {
            "text/plain": [
              "<matplotlib.axes._subplots.AxesSubplot at 0x7ff4904728d0>"
            ]
          },
          "metadata": {
            "tags": []
          },
          "execution_count": 86
        },
        {
          "output_type": "display_data",
          "data": {
            "image/png": "[encoded data removed]",
            "text/plain": [
              "<Figure size 432x288 with 1 Axes>"
            ]
          },
          "metadata": {
            "tags": []
          }
        }
      ]
    },
    {
      "cell_type": "code",
      "metadata": {
        "id": "l-i5cik_TZKv",
        "colab_type": "code",
        "colab": {}
      },
      "source": [
        ""
      ],
      "execution_count": 0,
      "outputs": []
    },
    {
      "cell_type": "code",
      "metadata": {
        "id": "rD5zw83Etr-g",
        "colab_type": "code",
        "outputId": "a7d01c3d-8199-43be-b456-34034e7110b4",
        "colab": {
          "base_uri": "https://localhost:8080/",
          "height": 102
        }
      },
      "source": [
        "df.columns"
      ],
      "execution_count": 0,
      "outputs": [
        {
          "output_type": "execute_result",
          "data": {
            "text/plain": [
              "Index(['date', 'employee_title', 'location', 'employee_status', 'outlook',\n",
              "       'recommend', 'review_title', 'years_at_company', 'helpful',\n",
              "       'rating_overall', 'rating_balance', 'rating_culture', 'rating_career',\n",
              "       'rating_comp', 'rating_mgmt', 'month', 'year'],\n",
              "      dtype='object')"
            ]
          },
          "metadata": {
            "tags": []
          },
          "execution_count": 87
        }
      ]
    },
    {
      "cell_type": "code",
      "metadata": {
        "id": "8xYKR--zttRg",
        "colab_type": "code",
        "outputId": "651a0852-7921-4516-dae9-395b12c9f2ad",
        "colab": {
          "base_uri": "https://localhost:8080/",
          "height": 327
        }
      },
      "source": [
        "df.plot.scatter(x='outlook', y='rating_overall')"
      ],
      "execution_count": 0,
      "outputs": [
        {
          "output_type": "error",
          "ename": "ValueError",
          "evalue": "ignored",
          "traceback": [
            "\u001b[0;31m---------------------------------------------------------------------------\u001b[0m",
            "\u001b[0;31mValueError\u001b[0m                                Traceback (most recent call last)",
            "\u001b[0;32m<ipython-input-89-951b22e9e9e7>\u001b[0m in \u001b[0;36m<module>\u001b[0;34m()\u001b[0m\n\u001b[0;32m----> 1\u001b[0;31m \u001b[0mdf\u001b[0m\u001b[0;34m.\u001b[0m\u001b[0mplot\u001b[0m\u001b[0;34m.\u001b[0m\u001b[0mscatter\u001b[0m\u001b[0;34m(\u001b[0m\u001b[0mx\u001b[0m\u001b[0;34m=\u001b[0m\u001b[0;34m'rating_overall'\u001b[0m\u001b[0;34m,\u001b[0m \u001b[0my\u001b[0m\u001b[0;34m=\u001b[0m\u001b[0;34m'outlook'\u001b[0m\u001b[0;34m)\u001b[0m\u001b[0;34m\u001b[0m\u001b[0;34m\u001b[0m\u001b[0m\n\u001b[0m",
            "\u001b[0;32m/usr/local/lib/python3.6/dist-packages/pandas/plotting/_core.py\u001b[0m in \u001b[0;36mscatter\u001b[0;34m(self, x, y, s, c, **kwds)\u001b[0m\n\u001b[1;32m   3514\u001b[0m             ...                       colormap='viridis')\n\u001b[1;32m   3515\u001b[0m         \"\"\"\n\u001b[0;32m-> 3516\u001b[0;31m         \u001b[0;32mreturn\u001b[0m \u001b[0mself\u001b[0m\u001b[0;34m(\u001b[0m\u001b[0mkind\u001b[0m\u001b[0;34m=\u001b[0m\u001b[0;34m'scatter'\u001b[0m\u001b[0;34m,\u001b[0m \u001b[0mx\u001b[0m\u001b[0;34m=\u001b[0m\u001b[0mx\u001b[0m\u001b[0;34m,\u001b[0m \u001b[0my\u001b[0m\u001b[0;34m=\u001b[0m\u001b[0my\u001b[0m\u001b[0;34m,\u001b[0m \u001b[0mc\u001b[0m\u001b[0;34m=\u001b[0m\u001b[0mc\u001b[0m\u001b[0;34m,\u001b[0m \u001b[0ms\u001b[0m\u001b[0;34m=\u001b[0m\u001b[0ms\u001b[0m\u001b[0;34m,\u001b[0m \u001b[0;34m**\u001b[0m\u001b[0mkwds\u001b[0m\u001b[0;34m)\u001b[0m\u001b[0;34m\u001b[0m\u001b[0;34m\u001b[0m\u001b[0m\n\u001b[0m\u001b[1;32m   3517\u001b[0m \u001b[0;34m\u001b[0m\u001b[0m\n\u001b[1;32m   3518\u001b[0m     def hexbin(self, x, y, C=None, reduce_C_function=None, gridsize=None,\n",
            "\u001b[0;32m/usr/local/lib/python3.6/dist-packages/pandas/plotting/_core.py\u001b[0m in \u001b[0;36m__call__\u001b[0;34m(self, x, y, kind, ax, subplots, sharex, sharey, layout, figsize, use_index, title, grid, legend, style, logx, logy, loglog, xticks, yticks, xlim, ylim, rot, fontsize, colormap, table, yerr, xerr, secondary_y, sort_columns, **kwds)\u001b[0m\n\u001b[1;32m   2940\u001b[0m                           \u001b[0mfontsize\u001b[0m\u001b[0;34m=\u001b[0m\u001b[0mfontsize\u001b[0m\u001b[0;34m,\u001b[0m \u001b[0mcolormap\u001b[0m\u001b[0;34m=\u001b[0m\u001b[0mcolormap\u001b[0m\u001b[0;34m,\u001b[0m \u001b[0mtable\u001b[0m\u001b[0;34m=\u001b[0m\u001b[0mtable\u001b[0m\u001b[0;34m,\u001b[0m\u001b[0;34m\u001b[0m\u001b[0;34m\u001b[0m\u001b[0m\n\u001b[1;32m   2941\u001b[0m                           \u001b[0myerr\u001b[0m\u001b[0;34m=\u001b[0m\u001b[0myerr\u001b[0m\u001b[0;34m,\u001b[0m \u001b[0mxerr\u001b[0m\u001b[0;34m=\u001b[0m\u001b[0mxerr\u001b[0m\u001b[0;34m,\u001b[0m \u001b[0msecondary_y\u001b[0m\u001b[0;34m=\u001b[0m\u001b[0msecondary_y\u001b[0m\u001b[0;34m,\u001b[0m\u001b[0;34m\u001b[0m\u001b[0;34m\u001b[0m\u001b[0m\n\u001b[0;32m-> 2942\u001b[0;31m                           sort_columns=sort_columns, **kwds)\n\u001b[0m\u001b[1;32m   2943\u001b[0m     \u001b[0m__call__\u001b[0m\u001b[0;34m.\u001b[0m\u001b[0m__doc__\u001b[0m \u001b[0;34m=\u001b[0m \u001b[0mplot_frame\u001b[0m\u001b[0;34m.\u001b[0m\u001b[0m__doc__\u001b[0m\u001b[0;34m\u001b[0m\u001b[0;34m\u001b[0m\u001b[0m\n\u001b[1;32m   2944\u001b[0m \u001b[0;34m\u001b[0m\u001b[0m\n",
            "\u001b[0;32m/usr/local/lib/python3.6/dist-packages/pandas/plotting/_core.py\u001b[0m in \u001b[0;36mplot_frame\u001b[0;34m(data, x, y, kind, ax, subplots, sharex, sharey, layout, figsize, use_index, title, grid, legend, style, logx, logy, loglog, xticks, yticks, xlim, ylim, rot, fontsize, colormap, table, yerr, xerr, secondary_y, sort_columns, **kwds)\u001b[0m\n\u001b[1;32m   1971\u001b[0m                  \u001b[0myerr\u001b[0m\u001b[0;34m=\u001b[0m\u001b[0myerr\u001b[0m\u001b[0;34m,\u001b[0m \u001b[0mxerr\u001b[0m\u001b[0;34m=\u001b[0m\u001b[0mxerr\u001b[0m\u001b[0;34m,\u001b[0m\u001b[0;34m\u001b[0m\u001b[0;34m\u001b[0m\u001b[0m\n\u001b[1;32m   1972\u001b[0m                  \u001b[0msecondary_y\u001b[0m\u001b[0;34m=\u001b[0m\u001b[0msecondary_y\u001b[0m\u001b[0;34m,\u001b[0m \u001b[0msort_columns\u001b[0m\u001b[0;34m=\u001b[0m\u001b[0msort_columns\u001b[0m\u001b[0;34m,\u001b[0m\u001b[0;34m\u001b[0m\u001b[0;34m\u001b[0m\u001b[0m\n\u001b[0;32m-> 1973\u001b[0;31m                  **kwds)\n\u001b[0m\u001b[1;32m   1974\u001b[0m \u001b[0;34m\u001b[0m\u001b[0m\n\u001b[1;32m   1975\u001b[0m \u001b[0;34m\u001b[0m\u001b[0m\n",
            "\u001b[0;32m/usr/local/lib/python3.6/dist-packages/pandas/plotting/_core.py\u001b[0m in \u001b[0;36m_plot\u001b[0;34m(data, x, y, subplots, ax, kind, **kwds)\u001b[0m\n\u001b[1;32m   1738\u001b[0m         \u001b[0;32mif\u001b[0m \u001b[0misinstance\u001b[0m\u001b[0;34m(\u001b[0m\u001b[0mdata\u001b[0m\u001b[0;34m,\u001b[0m \u001b[0mABCDataFrame\u001b[0m\u001b[0;34m)\u001b[0m\u001b[0;34m:\u001b[0m\u001b[0;34m\u001b[0m\u001b[0;34m\u001b[0m\u001b[0m\n\u001b[1;32m   1739\u001b[0m             plot_obj = klass(data, x=x, y=y, subplots=subplots, ax=ax,\n\u001b[0;32m-> 1740\u001b[0;31m                              kind=kind, **kwds)\n\u001b[0m\u001b[1;32m   1741\u001b[0m         \u001b[0;32melse\u001b[0m\u001b[0;34m:\u001b[0m\u001b[0;34m\u001b[0m\u001b[0;34m\u001b[0m\u001b[0m\n\u001b[1;32m   1742\u001b[0m             raise ValueError(\"plot kind %r can only be used for data frames\"\n",
            "\u001b[0;32m/usr/local/lib/python3.6/dist-packages/pandas/plotting/_core.py\u001b[0m in \u001b[0;36m__init__\u001b[0;34m(self, data, x, y, s, c, **kwargs)\u001b[0m\n\u001b[1;32m    858\u001b[0m             \u001b[0;31m# the handling of this argument later\u001b[0m\u001b[0;34m\u001b[0m\u001b[0;34m\u001b[0m\u001b[0;34m\u001b[0m\u001b[0m\n\u001b[1;32m    859\u001b[0m             \u001b[0ms\u001b[0m \u001b[0;34m=\u001b[0m \u001b[0;36m20\u001b[0m\u001b[0;34m\u001b[0m\u001b[0;34m\u001b[0m\u001b[0m\n\u001b[0;32m--> 860\u001b[0;31m         \u001b[0msuper\u001b[0m\u001b[0;34m(\u001b[0m\u001b[0mScatterPlot\u001b[0m\u001b[0;34m,\u001b[0m \u001b[0mself\u001b[0m\u001b[0;34m)\u001b[0m\u001b[0;34m.\u001b[0m\u001b[0m__init__\u001b[0m\u001b[0;34m(\u001b[0m\u001b[0mdata\u001b[0m\u001b[0;34m,\u001b[0m \u001b[0mx\u001b[0m\u001b[0;34m,\u001b[0m \u001b[0my\u001b[0m\u001b[0;34m,\u001b[0m \u001b[0ms\u001b[0m\u001b[0;34m=\u001b[0m\u001b[0ms\u001b[0m\u001b[0;34m,\u001b[0m \u001b[0;34m**\u001b[0m\u001b[0mkwargs\u001b[0m\u001b[0;34m)\u001b[0m\u001b[0;34m\u001b[0m\u001b[0;34m\u001b[0m\u001b[0m\n\u001b[0m\u001b[1;32m    861\u001b[0m         \u001b[0;32mif\u001b[0m \u001b[0mis_integer\u001b[0m\u001b[0;34m(\u001b[0m\u001b[0mc\u001b[0m\u001b[0;34m)\u001b[0m \u001b[0;32mand\u001b[0m \u001b[0;32mnot\u001b[0m \u001b[0mself\u001b[0m\u001b[0;34m.\u001b[0m\u001b[0mdata\u001b[0m\u001b[0;34m.\u001b[0m\u001b[0mcolumns\u001b[0m\u001b[0;34m.\u001b[0m\u001b[0mholds_integer\u001b[0m\u001b[0;34m(\u001b[0m\u001b[0;34m)\u001b[0m\u001b[0;34m:\u001b[0m\u001b[0;34m\u001b[0m\u001b[0;34m\u001b[0m\u001b[0m\n\u001b[1;32m    862\u001b[0m             \u001b[0mc\u001b[0m \u001b[0;34m=\u001b[0m \u001b[0mself\u001b[0m\u001b[0;34m.\u001b[0m\u001b[0mdata\u001b[0m\u001b[0;34m.\u001b[0m\u001b[0mcolumns\u001b[0m\u001b[0;34m[\u001b[0m\u001b[0mc\u001b[0m\u001b[0;34m]\u001b[0m\u001b[0;34m\u001b[0m\u001b[0;34m\u001b[0m\u001b[0m\n",
            "\u001b[0;32m/usr/local/lib/python3.6/dist-packages/pandas/plotting/_core.py\u001b[0m in \u001b[0;36m__init__\u001b[0;34m(self, data, x, y, **kwargs)\u001b[0m\n\u001b[1;32m    804\u001b[0m             \u001b[0;32mraise\u001b[0m \u001b[0mValueError\u001b[0m\u001b[0;34m(\u001b[0m\u001b[0mself\u001b[0m\u001b[0;34m.\u001b[0m\u001b[0m_kind\u001b[0m \u001b[0;34m+\u001b[0m \u001b[0;34m' requires x column to be numeric'\u001b[0m\u001b[0;34m)\u001b[0m\u001b[0;34m\u001b[0m\u001b[0;34m\u001b[0m\u001b[0m\n\u001b[1;32m    805\u001b[0m         \u001b[0;32mif\u001b[0m \u001b[0mlen\u001b[0m\u001b[0;34m(\u001b[0m\u001b[0mself\u001b[0m\u001b[0;34m.\u001b[0m\u001b[0mdata\u001b[0m\u001b[0;34m[\u001b[0m\u001b[0my\u001b[0m\u001b[0;34m]\u001b[0m\u001b[0;34m.\u001b[0m\u001b[0m_get_numeric_data\u001b[0m\u001b[0;34m(\u001b[0m\u001b[0;34m)\u001b[0m\u001b[0;34m)\u001b[0m \u001b[0;34m==\u001b[0m \u001b[0;36m0\u001b[0m\u001b[0;34m:\u001b[0m\u001b[0;34m\u001b[0m\u001b[0;34m\u001b[0m\u001b[0m\n\u001b[0;32m--> 806\u001b[0;31m             \u001b[0;32mraise\u001b[0m \u001b[0mValueError\u001b[0m\u001b[0;34m(\u001b[0m\u001b[0mself\u001b[0m\u001b[0;34m.\u001b[0m\u001b[0m_kind\u001b[0m \u001b[0;34m+\u001b[0m \u001b[0;34m' requires y column to be numeric'\u001b[0m\u001b[0;34m)\u001b[0m\u001b[0;34m\u001b[0m\u001b[0;34m\u001b[0m\u001b[0m\n\u001b[0m\u001b[1;32m    807\u001b[0m \u001b[0;34m\u001b[0m\u001b[0m\n\u001b[1;32m    808\u001b[0m         \u001b[0mself\u001b[0m\u001b[0;34m.\u001b[0m\u001b[0mx\u001b[0m \u001b[0;34m=\u001b[0m \u001b[0mx\u001b[0m\u001b[0;34m\u001b[0m\u001b[0;34m\u001b[0m\u001b[0m\n",
            "\u001b[0;31mValueError\u001b[0m: scatter requires y column to be numeric"
          ]
        }
      ]
    },
    {
      "cell_type": "code",
      "metadata": {
        "id": "JR_bfRb9t_-6",
        "colab_type": "code",
        "outputId": "31321438-ab8a-4164-da52-6beee2f47f4c",
        "colab": {
          "base_uri": "https://localhost:8080/",
          "height": 34
        }
      },
      "source": [
        "df['outlook'].unique()"
      ],
      "execution_count": 0,
      "outputs": [
        {
          "output_type": "execute_result",
          "data": {
            "text/plain": [
              "array(['Positive', 'Neutral', 'Negative'], dtype=object)"
            ]
          },
          "metadata": {
            "tags": []
          },
          "execution_count": 90
        }
      ]
    },
    {
      "cell_type": "code",
      "metadata": {
        "id": "gUN8pR1juDcc",
        "colab_type": "code",
        "colab": {}
      },
      "source": [
        "vals = {'Positive': 1, 'Neutral': 0, 'Negative': -1}\n",
        "df['outlook_value'] = df['outlook'].replace(vals)"
      ],
      "execution_count": 0,
      "outputs": []
    },
    {
      "cell_type": "code",
      "metadata": {
        "id": "vRkfBl55ucTI",
        "colab_type": "code",
        "outputId": "6ab296d8-0e39-4ebc-c6bb-3a5d9dc756f8",
        "colab": {
          "base_uri": "https://localhost:8080/",
          "height": 1000
        }
      },
      "source": [
        "df['outlook_value']"
      ],
      "execution_count": 0,
      "outputs": [
        {
          "output_type": "execute_result",
          "data": {
            "text/plain": [
              "0       1\n",
              "1       1\n",
              "2       1\n",
              "3       1\n",
              "4       1\n",
              "5       1\n",
              "6       1\n",
              "7       1\n",
              "8       1\n",
              "9       0\n",
              "10      0\n",
              "11      0\n",
              "12      0\n",
              "13      0\n",
              "14      0\n",
              "15      0\n",
              "16      0\n",
              "17      0\n",
              "18      0\n",
              "19      1\n",
              "20      1\n",
              "21      1\n",
              "22      1\n",
              "23      1\n",
              "24      1\n",
              "25      1\n",
              "26      1\n",
              "27      1\n",
              "28      1\n",
              "29      1\n",
              "       ..\n",
              "1579   -1\n",
              "1580   -1\n",
              "1581   -1\n",
              "1582   -1\n",
              "1583   -1\n",
              "1584   -1\n",
              "1585   -1\n",
              "1586   -1\n",
              "1587   -1\n",
              "1588   -1\n",
              "1589    0\n",
              "1590    0\n",
              "1591    0\n",
              "1592    0\n",
              "1593    0\n",
              "1594    0\n",
              "1595    0\n",
              "1596    0\n",
              "1597    0\n",
              "1598    0\n",
              "1599    1\n",
              "1600    1\n",
              "1601    1\n",
              "1602    1\n",
              "1603    1\n",
              "1604    1\n",
              "1605    1\n",
              "1606    1\n",
              "1607    1\n",
              "1608    1\n",
              "Name: outlook_value, Length: 1609, dtype: int64"
            ]
          },
          "metadata": {
            "tags": []
          },
          "execution_count": 92
        }
      ]
    },
    {
      "cell_type": "code",
      "metadata": {
        "id": "BRqJFj_vuf6x",
        "colab_type": "code",
        "outputId": "adea9765-6e02-466b-9b45-32c0108022b4",
        "colab": {
          "base_uri": "https://localhost:8080/",
          "height": 306
        }
      },
      "source": [
        "df.groupby(['outlook_value', 'rating_overall']).size().plot.scatter(x='outlook_value', y='rating_overall', )\n",
        "\n",
        "#df.plot.scatter(x='outlook_value', y='rating_overall')"
      ],
      "execution_count": 0,
      "outputs": [
        {
          "output_type": "execute_result",
          "data": {
            "text/plain": [
              "outlook_value  rating_overall\n",
              "-1             1.0                20\n",
              "               2.0                24\n",
              "               3.0                43\n",
              "               4.0                67\n",
              "               5.0                36\n",
              " 0             1.0                42\n",
              "               2.0                46\n",
              "               3.0               126\n",
              "               4.0               139\n",
              "               5.0                97\n",
              " 1             1.0                77\n",
              "               2.0                74\n",
              "               3.0               204\n",
              "               4.0               371\n",
              "               5.0               243\n",
              "dtype: int64"
            ]
          },
          "metadata": {
            "tags": []
          },
          "execution_count": 95
        }
      ]
    },
    {
      "cell_type": "code",
      "metadata": {
        "id": "ZhGYjpAQvPg5",
        "colab_type": "code",
        "outputId": "e7400726-c223-444d-fb3a-2fc6c91a2c34",
        "colab": {
          "base_uri": "https://localhost:8080/",
          "height": 306
        }
      },
      "source": [
        "df.groupby(['outlook_value', 'rating_overall']).size()"
      ],
      "execution_count": 0,
      "outputs": [
        {
          "output_type": "execute_result",
          "data": {
            "text/plain": [
              "outlook_value  rating_overall\n",
              "-1             1.0                20\n",
              "               2.0                24\n",
              "               3.0                43\n",
              "               4.0                67\n",
              "               5.0                36\n",
              " 0             1.0                42\n",
              "               2.0                46\n",
              "               3.0               126\n",
              "               4.0               139\n",
              "               5.0                97\n",
              " 1             1.0                77\n",
              "               2.0                74\n",
              "               3.0               204\n",
              "               4.0               371\n",
              "               5.0               243\n",
              "dtype: int64"
            ]
          },
          "metadata": {
            "tags": []
          },
          "execution_count": 100
        }
      ]
    },
    {
      "cell_type": "code",
      "metadata": {
        "id": "1GhSSXndwLz0",
        "colab_type": "code",
        "outputId": "1a1e1a84-94bc-4f90-baa4-f36568ea446d",
        "colab": {
          "base_uri": "https://localhost:8080/",
          "height": 510
        }
      },
      "source": [
        "df['helpful'].value_counts()"
      ],
      "execution_count": 0,
      "outputs": [
        {
          "output_type": "execute_result",
          "data": {
            "text/plain": [
              "1.0     313\n",
              "2.0     145\n",
              "3.0      99\n",
              "4.0      64\n",
              "5.0      53\n",
              "7.0      32\n",
              "6.0      28\n",
              "8.0      25\n",
              "9.0      19\n",
              "10.0     12\n",
              "11.0     10\n",
              "12.0      8\n",
              "14.0      7\n",
              "15.0      6\n",
              "16.0      3\n",
              "19.0      3\n",
              "13.0      3\n",
              "18.0      2\n",
              "20.0      2\n",
              "25.0      2\n",
              "30.0      2\n",
              "22.0      2\n",
              "26.0      1\n",
              "17.0      1\n",
              "29.0      1\n",
              "27.0      1\n",
              "21.0      1\n",
              "24.0      1\n",
              "Name: helpful, dtype: int64"
            ]
          },
          "metadata": {
            "tags": []
          },
          "execution_count": 103
        }
      ]
    },
    {
      "cell_type": "code",
      "metadata": {
        "id": "TUJ02968wU1q",
        "colab_type": "code",
        "colab": {}
      },
      "source": [
        "df['helpful'] = df['helpful'].fillna(0)"
      ],
      "execution_count": 0,
      "outputs": []
    },
    {
      "cell_type": "code",
      "metadata": {
        "id": "plAwVWYawbf9",
        "colab_type": "code",
        "outputId": "496b4654-e017-442d-ff32-9aeaf9b73f25",
        "colab": {
          "base_uri": "https://localhost:8080/",
          "height": 527
        }
      },
      "source": [
        "df['helpful'].value_counts()"
      ],
      "execution_count": 0,
      "outputs": [
        {
          "output_type": "execute_result",
          "data": {
            "text/plain": [
              "0.0     763\n",
              "1.0     313\n",
              "2.0     145\n",
              "3.0      99\n",
              "4.0      64\n",
              "5.0      53\n",
              "7.0      32\n",
              "6.0      28\n",
              "8.0      25\n",
              "9.0      19\n",
              "10.0     12\n",
              "11.0     10\n",
              "12.0      8\n",
              "14.0      7\n",
              "15.0      6\n",
              "16.0      3\n",
              "19.0      3\n",
              "13.0      3\n",
              "18.0      2\n",
              "20.0      2\n",
              "25.0      2\n",
              "30.0      2\n",
              "22.0      2\n",
              "17.0      1\n",
              "26.0      1\n",
              "29.0      1\n",
              "27.0      1\n",
              "21.0      1\n",
              "24.0      1\n",
              "Name: helpful, dtype: int64"
            ]
          },
          "metadata": {
            "tags": []
          },
          "execution_count": 107
        }
      ]
    },
    {
      "cell_type": "code",
      "metadata": {
        "id": "fsrsfxfrwjA-",
        "colab_type": "code",
        "outputId": "7dc5dc53-289b-43de-f356-87ea1103c654",
        "colab": {
          "base_uri": "https://localhost:8080/",
          "height": 298
        }
      },
      "source": [
        "df['helpful'].value_counts().sort_index().plot.bar()"
      ],
      "execution_count": 0,
      "outputs": [
        {
          "output_type": "execute_result",
          "data": {
            "text/plain": [
              "<matplotlib.axes._subplots.AxesSubplot at 0x7ff48dffca90>"
            ]
          },
          "metadata": {
            "tags": []
          },
          "execution_count": 112
        },
        {
          "output_type": "display_data",
          "data": {
            "image/png": "[encoded data removed]",
            "text/plain": [
              "<Figure size 432x288 with 1 Axes>"
            ]
          },
          "metadata": {
            "tags": []
          }
        }
      ]
    },
    {
      "cell_type": "code",
      "metadata": {
        "id": "LgAYfRoZwvOo",
        "colab_type": "code",
        "outputId": "c79ee4fb-fdc7-4d75-c388-ece602076100",
        "colab": {
          "base_uri": "https://localhost:8080/",
          "height": 317
        }
      },
      "source": [
        "df.query('helpful > 10').describe()"
      ],
      "execution_count": 0,
      "outputs": [
        {
          "output_type": "execute_result",
          "data": {
            "text/html": [
              "<div>\n",
              "<style scoped>\n",
              "    .dataframe tbody tr th:only-of-type {\n",
              "        vertical-align: middle;\n",
              "    }\n",
              "\n",
              "    .dataframe tbody tr th {\n",
              "        vertical-align: top;\n",
              "    }\n",
              "\n",
              "    .dataframe thead th {\n",
              "        text-align: right;\n",
              "    }\n",
              "</style>\n",
              "<table border=\"1\" class=\"dataframe\">\n",
              "  <thead>\n",
              "    <tr style=\"text-align: right;\">\n",
              "      <th></th>\n",
              "      <th>years_at_company</th>\n",
              "      <th>helpful</th>\n",
              "      <th>rating_overall</th>\n",
              "      <th>rating_balance</th>\n",
              "      <th>rating_culture</th>\n",
              "      <th>rating_career</th>\n",
              "      <th>rating_comp</th>\n",
              "      <th>rating_mgmt</th>\n",
              "      <th>month</th>\n",
              "      <th>year</th>\n",
              "      <th>outlook_value</th>\n",
              "    </tr>\n",
              "  </thead>\n",
              "  <tbody>\n",
              "    <tr>\n",
              "      <th>count</th>\n",
              "      <td>48.000000</td>\n",
              "      <td>56.000000</td>\n",
              "      <td>56.000000</td>\n",
              "      <td>56.000000</td>\n",
              "      <td>56.000000</td>\n",
              "      <td>56.000000</td>\n",
              "      <td>56.000000</td>\n",
              "      <td>56.000000</td>\n",
              "      <td>56.000000</td>\n",
              "      <td>56.000000</td>\n",
              "      <td>56.000000</td>\n",
              "    </tr>\n",
              "    <tr>\n",
              "      <th>mean</th>\n",
              "      <td>2.833333</td>\n",
              "      <td>16.285714</td>\n",
              "      <td>2.089286</td>\n",
              "      <td>2.696429</td>\n",
              "      <td>2.303571</td>\n",
              "      <td>2.125000</td>\n",
              "      <td>3.214286</td>\n",
              "      <td>1.964286</td>\n",
              "      <td>6.642857</td>\n",
              "      <td>2016.517857</td>\n",
              "      <td>0.285714</td>\n",
              "    </tr>\n",
              "    <tr>\n",
              "      <th>std</th>\n",
              "      <td>1.960605</td>\n",
              "      <td>5.406105</td>\n",
              "      <td>1.210211</td>\n",
              "      <td>1.512609</td>\n",
              "      <td>1.347316</td>\n",
              "      <td>1.160917</td>\n",
              "      <td>1.260798</td>\n",
              "      <td>1.143587</td>\n",
              "      <td>3.523576</td>\n",
              "      <td>1.595346</td>\n",
              "      <td>0.824936</td>\n",
              "    </tr>\n",
              "    <tr>\n",
              "      <th>min</th>\n",
              "      <td>1.000000</td>\n",
              "      <td>11.000000</td>\n",
              "      <td>1.000000</td>\n",
              "      <td>1.000000</td>\n",
              "      <td>1.000000</td>\n",
              "      <td>1.000000</td>\n",
              "      <td>1.000000</td>\n",
              "      <td>1.000000</td>\n",
              "      <td>1.000000</td>\n",
              "      <td>2012.000000</td>\n",
              "      <td>-1.000000</td>\n",
              "    </tr>\n",
              "    <tr>\n",
              "      <th>25%</th>\n",
              "      <td>1.000000</td>\n",
              "      <td>12.000000</td>\n",
              "      <td>1.000000</td>\n",
              "      <td>1.000000</td>\n",
              "      <td>1.000000</td>\n",
              "      <td>1.000000</td>\n",
              "      <td>2.000000</td>\n",
              "      <td>1.000000</td>\n",
              "      <td>3.000000</td>\n",
              "      <td>2015.000000</td>\n",
              "      <td>0.000000</td>\n",
              "    </tr>\n",
              "    <tr>\n",
              "      <th>50%</th>\n",
              "      <td>3.000000</td>\n",
              "      <td>14.500000</td>\n",
              "      <td>2.000000</td>\n",
              "      <td>2.500000</td>\n",
              "      <td>2.000000</td>\n",
              "      <td>2.000000</td>\n",
              "      <td>3.000000</td>\n",
              "      <td>2.000000</td>\n",
              "      <td>7.000000</td>\n",
              "      <td>2017.000000</td>\n",
              "      <td>1.000000</td>\n",
              "    </tr>\n",
              "    <tr>\n",
              "      <th>75%</th>\n",
              "      <td>5.000000</td>\n",
              "      <td>19.000000</td>\n",
              "      <td>3.000000</td>\n",
              "      <td>4.000000</td>\n",
              "      <td>3.000000</td>\n",
              "      <td>3.000000</td>\n",
              "      <td>4.000000</td>\n",
              "      <td>3.000000</td>\n",
              "      <td>10.000000</td>\n",
              "      <td>2018.000000</td>\n",
              "      <td>1.000000</td>\n",
              "    </tr>\n",
              "    <tr>\n",
              "      <th>max</th>\n",
              "      <td>8.000000</td>\n",
              "      <td>30.000000</td>\n",
              "      <td>5.000000</td>\n",
              "      <td>5.000000</td>\n",
              "      <td>5.000000</td>\n",
              "      <td>5.000000</td>\n",
              "      <td>5.000000</td>\n",
              "      <td>5.000000</td>\n",
              "      <td>12.000000</td>\n",
              "      <td>2019.000000</td>\n",
              "      <td>1.000000</td>\n",
              "    </tr>\n",
              "  </tbody>\n",
              "</table>\n",
              "</div>"
            ],
            "text/plain": [
              "       years_at_company    helpful  ...         year  outlook_value\n",
              "count         48.000000  56.000000  ...    56.000000      56.000000\n",
              "mean           2.833333  16.285714  ...  2016.517857       0.285714\n",
              "std            1.960605   5.406105  ...     1.595346       0.824936\n",
              "min            1.000000  11.000000  ...  2012.000000      -1.000000\n",
              "25%            1.000000  12.000000  ...  2015.000000       0.000000\n",
              "50%            3.000000  14.500000  ...  2017.000000       1.000000\n",
              "75%            5.000000  19.000000  ...  2018.000000       1.000000\n",
              "max            8.000000  30.000000  ...  2019.000000       1.000000\n",
              "\n",
              "[8 rows x 11 columns]"
            ]
          },
          "metadata": {
            "tags": []
          },
          "execution_count": 115
        }
      ]
    },
    {
      "cell_type": "code",
      "metadata": {
        "id": "rVkWct2Jw7Jh",
        "colab_type": "code",
        "outputId": "fccbb74c-e577-4042-f8c4-38496ced67ef",
        "colab": {
          "base_uri": "https://localhost:8080/",
          "height": 317
        }
      },
      "source": [
        "df.describe()"
      ],
      "execution_count": 0,
      "outputs": [
        {
          "output_type": "execute_result",
          "data": {
            "text/html": [
              "<div>\n",
              "<style scoped>\n",
              "    .dataframe tbody tr th:only-of-type {\n",
              "        vertical-align: middle;\n",
              "    }\n",
              "\n",
              "    .dataframe tbody tr th {\n",
              "        vertical-align: top;\n",
              "    }\n",
              "\n",
              "    .dataframe thead th {\n",
              "        text-align: right;\n",
              "    }\n",
              "</style>\n",
              "<table border=\"1\" class=\"dataframe\">\n",
              "  <thead>\n",
              "    <tr style=\"text-align: right;\">\n",
              "      <th></th>\n",
              "      <th>years_at_company</th>\n",
              "      <th>helpful</th>\n",
              "      <th>rating_overall</th>\n",
              "      <th>rating_balance</th>\n",
              "      <th>rating_culture</th>\n",
              "      <th>rating_career</th>\n",
              "      <th>rating_comp</th>\n",
              "      <th>rating_mgmt</th>\n",
              "      <th>month</th>\n",
              "      <th>year</th>\n",
              "      <th>outlook_value</th>\n",
              "    </tr>\n",
              "  </thead>\n",
              "  <tbody>\n",
              "    <tr>\n",
              "      <th>count</th>\n",
              "      <td>969.000000</td>\n",
              "      <td>1609.000000</td>\n",
              "      <td>1609.000000</td>\n",
              "      <td>1408.000000</td>\n",
              "      <td>1401.000000</td>\n",
              "      <td>1393.000000</td>\n",
              "      <td>1384.000000</td>\n",
              "      <td>1353.000000</td>\n",
              "      <td>1609.000000</td>\n",
              "      <td>1609.000000</td>\n",
              "      <td>1609.000000</td>\n",
              "    </tr>\n",
              "    <tr>\n",
              "      <th>mean</th>\n",
              "      <td>2.862745</td>\n",
              "      <td>1.998757</td>\n",
              "      <td>3.563704</td>\n",
              "      <td>3.471946</td>\n",
              "      <td>3.566738</td>\n",
              "      <td>3.275305</td>\n",
              "      <td>3.877168</td>\n",
              "      <td>2.990392</td>\n",
              "      <td>6.036669</td>\n",
              "      <td>2015.652579</td>\n",
              "      <td>0.484152</td>\n",
              "    </tr>\n",
              "    <tr>\n",
              "      <th>std</th>\n",
              "      <td>2.122962</td>\n",
              "      <td>3.620698</td>\n",
              "      <td>1.188073</td>\n",
              "      <td>1.271340</td>\n",
              "      <td>1.308082</td>\n",
              "      <td>1.233853</td>\n",
              "      <td>1.061084</td>\n",
              "      <td>1.281663</td>\n",
              "      <td>3.458247</td>\n",
              "      <td>1.851245</td>\n",
              "      <td>0.697297</td>\n",
              "    </tr>\n",
              "    <tr>\n",
              "      <th>min</th>\n",
              "      <td>1.000000</td>\n",
              "      <td>0.000000</td>\n",
              "      <td>1.000000</td>\n",
              "      <td>1.000000</td>\n",
              "      <td>1.000000</td>\n",
              "      <td>1.000000</td>\n",
              "      <td>1.000000</td>\n",
              "      <td>1.000000</td>\n",
              "      <td>1.000000</td>\n",
              "      <td>2012.000000</td>\n",
              "      <td>-1.000000</td>\n",
              "    </tr>\n",
              "    <tr>\n",
              "      <th>25%</th>\n",
              "      <td>1.000000</td>\n",
              "      <td>0.000000</td>\n",
              "      <td>3.000000</td>\n",
              "      <td>3.000000</td>\n",
              "      <td>3.000000</td>\n",
              "      <td>2.000000</td>\n",
              "      <td>3.000000</td>\n",
              "      <td>2.000000</td>\n",
              "      <td>3.000000</td>\n",
              "      <td>2014.000000</td>\n",
              "      <td>0.000000</td>\n",
              "    </tr>\n",
              "    <tr>\n",
              "      <th>50%</th>\n",
              "      <td>3.000000</td>\n",
              "      <td>1.000000</td>\n",
              "      <td>4.000000</td>\n",
              "      <td>4.000000</td>\n",
              "      <td>4.000000</td>\n",
              "      <td>3.000000</td>\n",
              "      <td>4.000000</td>\n",
              "      <td>3.000000</td>\n",
              "      <td>6.000000</td>\n",
              "      <td>2016.000000</td>\n",
              "      <td>1.000000</td>\n",
              "    </tr>\n",
              "    <tr>\n",
              "      <th>75%</th>\n",
              "      <td>5.000000</td>\n",
              "      <td>2.000000</td>\n",
              "      <td>4.000000</td>\n",
              "      <td>5.000000</td>\n",
              "      <td>5.000000</td>\n",
              "      <td>4.000000</td>\n",
              "      <td>5.000000</td>\n",
              "      <td>4.000000</td>\n",
              "      <td>9.000000</td>\n",
              "      <td>2017.000000</td>\n",
              "      <td>1.000000</td>\n",
              "    </tr>\n",
              "    <tr>\n",
              "      <th>max</th>\n",
              "      <td>8.000000</td>\n",
              "      <td>30.000000</td>\n",
              "      <td>5.000000</td>\n",
              "      <td>5.000000</td>\n",
              "      <td>5.000000</td>\n",
              "      <td>5.000000</td>\n",
              "      <td>5.000000</td>\n",
              "      <td>5.000000</td>\n",
              "      <td>12.000000</td>\n",
              "      <td>2019.000000</td>\n",
              "      <td>1.000000</td>\n",
              "    </tr>\n",
              "  </tbody>\n",
              "</table>\n",
              "</div>"
            ],
            "text/plain": [
              "       years_at_company      helpful  ...         year  outlook_value\n",
              "count        969.000000  1609.000000  ...  1609.000000    1609.000000\n",
              "mean           2.862745     1.998757  ...  2015.652579       0.484152\n",
              "std            2.122962     3.620698  ...     1.851245       0.697297\n",
              "min            1.000000     0.000000  ...  2012.000000      -1.000000\n",
              "25%            1.000000     0.000000  ...  2014.000000       0.000000\n",
              "50%            3.000000     1.000000  ...  2016.000000       1.000000\n",
              "75%            5.000000     2.000000  ...  2017.000000       1.000000\n",
              "max            8.000000    30.000000  ...  2019.000000       1.000000\n",
              "\n",
              "[8 rows x 11 columns]"
            ]
          },
          "metadata": {
            "tags": []
          },
          "execution_count": 116
        }
      ]
    },
    {
      "cell_type": "code",
      "metadata": {
        "id": "bRVGkQl_w_T1",
        "colab_type": "code",
        "outputId": "6c737f0b-99f9-4dc1-87be-6003e3215457",
        "colab": {
          "base_uri": "https://localhost:8080/",
          "height": 292
        }
      },
      "source": [
        "df['rating_overall'].value_counts().sort_index().plot.bar()"
      ],
      "execution_count": 0,
      "outputs": [
        {
          "output_type": "execute_result",
          "data": {
            "text/plain": [
              "<matplotlib.axes._subplots.AxesSubplot at 0x7ff48dea5080>"
            ]
          },
          "metadata": {
            "tags": []
          },
          "execution_count": 120
        },
        {
          "output_type": "display_data",
          "data": {
            "image/png": "[encoded data removed]",
            "text/plain": [
              "<Figure size 432x288 with 1 Axes>"
            ]
          },
          "metadata": {
            "tags": []
          }
        }
      ]
    },
    {
      "cell_type": "code",
      "metadata": {
        "id": "_efu69RMxD7y",
        "colab_type": "code",
        "outputId": "e41c091f-0b11-4a7e-ab0e-61e33c25b971",
        "colab": {
          "base_uri": "https://localhost:8080/",
          "height": 292
        }
      },
      "source": [
        "df.query('helpful > 10')['rating_overall'].value_counts().sort_index().plot.bar()"
      ],
      "execution_count": 0,
      "outputs": [
        {
          "output_type": "execute_result",
          "data": {
            "text/plain": [
              "<matplotlib.axes._subplots.AxesSubplot at 0x7ff48deb4c88>"
            ]
          },
          "metadata": {
            "tags": []
          },
          "execution_count": 119
        },
        {
          "output_type": "display_data",
          "data": {
            "image/png": "[encoded data removed]",
            "text/plain": [
              "<Figure size 432x288 with 1 Axes>"
            ]
          },
          "metadata": {
            "tags": []
          }
        }
      ]
    },
    {
      "cell_type": "markdown",
      "metadata": {
        "id": "UTdlYiRtxNpI",
        "colab_type": "text"
      },
      "source": [
        "Aha! Helpful reviews tend to be more negative than the average review"
      ]
    },
    {
      "cell_type": "code",
      "metadata": {
        "id": "4hkA_X0txMdm",
        "colab_type": "code",
        "colab": {}
      },
      "source": [
        ""
      ],
      "execution_count": 0,
      "outputs": []
    },
    {
      "cell_type": "markdown",
      "metadata": {
        "id": "kTghAC_ngSTj",
        "colab_type": "text"
      },
      "source": [
        "Notes to self:\n",
        "- opportunity to run code that works for one company on another sheet and have it work -- huge benefit over Excel"
      ]
    },
    {
      "cell_type": "code",
      "metadata": {
        "id": "3BGlWESvgX1b",
        "colab_type": "code",
        "colab": {}
      },
      "source": [
        ""
      ],
      "execution_count": 0,
      "outputs": []
    }
  ]
}