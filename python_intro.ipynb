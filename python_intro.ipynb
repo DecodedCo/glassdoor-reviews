{
  "nbformat": 4,
  "nbformat_minor": 0,
  "metadata": {
    "colab": {
      "name": "Python Noodling – Currency Exchange.ipynb",
      "version": "0.3.2",
      "provenance": []
    },
    "kernelspec": {
      "name": "python3",
      "display_name": "Python 3"
    }
  },
  "cells": [
    {
      "cell_type": "markdown",
      "metadata": {
        "id": "9aMrOscMokZf",
        "colab_type": "text"
      },
      "source": [
        "## Currency Exchange Service\n",
        "\n",
        "Brief: Create a service that calculates the amount of money between different currencies based on current exchange rates. "
      ]
    },
    {
      "cell_type": "code",
      "metadata": {
        "id": "6GR4KEUv1_uK",
        "colab_type": "code",
        "outputId": "dff72bdf-201e-4a2c-9c6a-5caf4eb9c1ce",
        "colab": {
          "base_uri": "https://localhost:8080/",
          "height": 34
        }
      },
      "source": [
        "# let's start by printing \"hello world\"\n",
        "\n",
        "print('Hello, world!')"
      ],
      "execution_count": 0,
      "outputs": [
        {
          "output_type": "stream",
          "text": [
            "Hello, world!\n"
          ],
          "name": "stdout"
        }
      ]
    },
    {
      "cell_type": "code",
      "metadata": {
        "id": "IWTswIEApAte",
        "colab_type": "code",
        "colab": {}
      },
      "source": [
        "import requests\n",
        "import json"
      ],
      "execution_count": 0,
      "outputs": []
    },
    {
      "cell_type": "code",
      "metadata": {
        "id": "wMRrTfSoo9II",
        "colab_type": "code",
        "colab": {}
      },
      "source": [
        "response = requests.get('https://api.exchangeratesapi.io/latest?base=USD')"
      ],
      "execution_count": 0,
      "outputs": []
    },
    {
      "cell_type": "code",
      "metadata": {
        "id": "n68FiGK5pF-G",
        "colab_type": "code",
        "outputId": "b158b059-256f-42ce-fffe-56ba78777969",
        "colab": {
          "base_uri": "https://localhost:8080/",
          "height": 612
        }
      },
      "source": [
        "exchange = json.loads(response.text)\n",
        "exchange"
      ],
      "execution_count": 0,
      "outputs": [
        {
          "output_type": "execute_result",
          "data": {
            "text/plain": [
              "{'base': 'USD',\n",
              " 'date': '2019-07-01',\n",
              " 'rates': {'AUD': 1.4297294916,\n",
              "  'BGN': 1.7233236408,\n",
              "  'BRL': 3.8272094458,\n",
              "  'CAD': 1.3098951449,\n",
              "  'CHF': 0.981672394,\n",
              "  'CNY': 6.8423649661,\n",
              "  'CZK': 22.4495550269,\n",
              "  'DKK': 6.5774077011,\n",
              "  'EUR': 0.8811349018,\n",
              "  'GBP': 0.7905366112,\n",
              "  'HKD': 7.8102916557,\n",
              "  'HRK': 6.5177548683,\n",
              "  'HUF': 284.5184597762,\n",
              "  'IDR': 14112.5033042559,\n",
              "  'ILS': 3.5723852322,\n",
              "  'INR': 68.9364701736,\n",
              "  'ISK': 124.8568155785,\n",
              "  'JPY': 108.3179134726,\n",
              "  'KRW': 1161.5737069345,\n",
              "  'MXN': 19.1227420918,\n",
              "  'MYR': 4.1328751432,\n",
              "  'NOK': 8.5336152965,\n",
              "  'NZD': 1.4927306371,\n",
              "  'PHP': 51.0644109613,\n",
              "  'PLN': 3.7383910477,\n",
              "  'RON': 4.1701471495,\n",
              "  'RUB': 62.9769142656,\n",
              "  'SEK': 9.291567539,\n",
              "  'SGD': 1.3533350956,\n",
              "  'THB': 30.6379416689,\n",
              "  'TRY': 5.6632302405,\n",
              "  'USD': 1.0,\n",
              "  'ZAR': 14.1171909419}}"
            ]
          },
          "metadata": {
            "tags": []
          },
          "execution_count": 5
        }
      ]
    },
    {
      "cell_type": "code",
      "metadata": {
        "id": "lY7RkLp1pLX1",
        "colab_type": "code",
        "outputId": "c4f6f5e7-4255-4d02-bab4-5123999c6d9c",
        "colab": {
          "base_uri": "https://localhost:8080/",
          "height": 34
        }
      },
      "source": [
        "exchange['rates']['USD']"
      ],
      "execution_count": 0,
      "outputs": [
        {
          "output_type": "execute_result",
          "data": {
            "text/plain": [
              "1.0"
            ]
          },
          "metadata": {
            "tags": []
          },
          "execution_count": 6
        }
      ]
    },
    {
      "cell_type": "code",
      "metadata": {
        "id": "4AWq26jgpSBg",
        "colab_type": "code",
        "colab": {}
      },
      "source": [
        "# Create differet functionality for the money transfer service. \n",
        "\n",
        "def send_money(base, target, amount):\n",
        "    pass\n",
        "\n",
        "def print_rates(base, amount):\n",
        "    pass\n",
        "\n",
        "def send_money_with_commission(base, target, amount, commission):\n",
        "    pass\n"
      ],
      "execution_count": 0,
      "outputs": []
    },
    {
      "cell_type": "code",
      "metadata": {
        "id": "hvdoj6Rq2-yy",
        "colab_type": "code",
        "colab": {}
      },
      "source": [
        "def send_money(base, target, amount): \n",
        "  if base not in exchange['rates']:\n",
        "     return 'Please select a correct base exchange rate'\n",
        "  if target not in exchange['rates']:\n",
        "     return 'Please select a correct target exchange rate'\n",
        "  if base == 'USD':\n",
        "     return exchange['rates'][target] * amount    \n",
        "  \n",
        "  return (exchange['rates'][target]/exchange['rates'][base]) * amount\n"
      ],
      "execution_count": 0,
      "outputs": []
    },
    {
      "cell_type": "code",
      "metadata": {
        "id": "eq6ao2B22hOm",
        "colab_type": "code",
        "outputId": "8a256044-b98d-40f5-d40b-ce02644b2529",
        "colab": {
          "base_uri": "https://localhost:8080/",
          "height": 34
        }
      },
      "source": [
        "send_money('USD','EUR', 10)"
      ],
      "execution_count": 0,
      "outputs": [
        {
          "output_type": "execute_result",
          "data": {
            "text/plain": [
              "8.787346221"
            ]
          },
          "metadata": {
            "tags": []
          },
          "execution_count": 41
        }
      ]
    },
    {
      "cell_type": "code",
      "metadata": {
        "id": "_37K1D3Q3FQ9",
        "colab_type": "code",
        "colab": {}
      },
      "source": [
        "def print_rates(base, amount):\n",
        "  if base not in exchange['rates']:   \n",
        "    return 'Please select a correct base exchange rate'\n",
        "  for key, value in exchange['rates'].items():\n",
        "    result = amount * value\n",
        "    if base != 'USD':\n",
        "       result = amount * value / exchange['rates'][base]\n",
        "    print(base, '->', key + ':', result)"
      ],
      "execution_count": 0,
      "outputs": []
    },
    {
      "cell_type": "code",
      "metadata": {
        "id": "KZTVQwGp18WI",
        "colab_type": "code",
        "outputId": "df930aba-a2fa-450f-e60a-a680cf6302d7",
        "colab": {
          "base_uri": "https://localhost:8080/",
          "height": 578
        }
      },
      "source": [
        "print_rates('EUR', 10)"
      ],
      "execution_count": 0,
      "outputs": [
        {
          "output_type": "stream",
          "text": [
            "EUR -> CAD: 14.893000001211629\n",
            "EUR -> HKD: 88.86600000393908\n",
            "EUR -> ISK: 1417.0000000708974\n",
            "EUR -> PHP: 583.3500000295483\n",
            "EUR -> DKK: 74.63600000335072\n",
            "EUR -> HUF: 3233.9000001625177\n",
            "EUR -> CZK: 254.4700000127604\n",
            "EUR -> GBP: 8.965500000640068\n",
            "EUR -> RON: 47.343000002184624\n",
            "EUR -> SEK: 105.63300000536078\n",
            "EUR -> IDR: 160833.50000807372\n",
            "EUR -> INR: 785.2400000389151\n",
            "EUR -> BRL: 43.51100000205625\n",
            "EUR -> RUB: 715.975000036362\n",
            "EUR -> HRK: 73.97300000386545\n",
            "EUR -> JPY: 1226.0000000619073\n",
            "EUR -> THB: 348.97000001793833\n",
            "EUR -> CHF: 11.105000000659471\n",
            "EUR -> EUR: 10.0\n",
            "EUR -> MYR: 47.082000002603515\n",
            "EUR -> BGN: 19.55800000110181\n",
            "EUR -> TRY: 65.65500000344188\n",
            "EUR -> CNY: 78.18500000354089\n",
            "EUR -> NOK: 96.93800000440429\n",
            "EUR -> NZD: 16.960000001347392\n",
            "EUR -> ZAR: 161.21800000828716\n",
            "EUR -> USD: 11.380000000571277\n",
            "EUR -> MXN: 218.20100001042167\n",
            "EUR -> SGD: 15.395000000876829\n",
            "EUR -> AUD: 16.244000000691447\n",
            "EUR -> ILS: 40.60700000157647\n",
            "EUR -> KRW: 13153.50000066078\n",
            "EUR -> PLN: 42.496000002547305\n"
          ],
          "name": "stdout"
        }
      ]
    },
    {
      "cell_type": "code",
      "metadata": {
        "id": "9trEelhc20l0",
        "colab_type": "code",
        "colab": {}
      },
      "source": [
        "def send_money_with_commission(base, target, amount, commission):\n",
        "  if base not in exchange['rates']:\n",
        "     return 'Please select a correct base exchange rate'\n",
        "  if target not in exchange['rates']:\n",
        "     return 'Please select a correct target exchange rate'\n",
        "  if base == 'USD':\n",
        "     return exchange['rates'][target] * amount * (1 - commission)    \n",
        "  \n",
        "  return (exchange['rates'][target]/exchange['rates'][base]) * amount * (1 - commission)"
      ],
      "execution_count": 0,
      "outputs": []
    },
    {
      "cell_type": "code",
      "metadata": {
        "id": "bpYmitZORePy",
        "colab_type": "code",
        "colab": {
          "base_uri": "https://localhost:8080/",
          "height": 34
        },
        "outputId": "63d66010-8eab-4603-a81f-1c10d6e0d4e6"
      },
      "source": [
        "send_money_with_commission('USD', 'EUR', 100, 0.05)"
      ],
      "execution_count": 47,
      "outputs": [
        {
          "output_type": "execute_result",
          "data": {
            "text/plain": [
              "83.4797890995"
            ]
          },
          "metadata": {
            "tags": []
          },
          "execution_count": 47
        }
      ]
    },
    {
      "cell_type": "code",
      "metadata": {
        "id": "PQgwk4gKRiIP",
        "colab_type": "code",
        "colab": {}
      },
      "source": [
        ""
      ],
      "execution_count": 0,
      "outputs": []
    }
  ]
}