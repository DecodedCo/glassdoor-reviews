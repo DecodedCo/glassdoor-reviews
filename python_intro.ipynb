{
 "cells": [
  {
   "cell_type": "markdown",
   "metadata": {
    "colab_type": "text",
    "id": "9aMrOscMokZf"
   },
   "source": [
    "## Currency Exchange Service\n",
    "\n",
    "Brief: Create a service that calculates the amount of money between different currencies based on current exchange rates. "
   ]
  },
  {
   "cell_type": "code",
   "execution_count": 0,
   "metadata": {
    "colab": {
     "base_uri": "https://localhost:8080/",
     "height": 34
    },
    "colab_type": "code",
    "id": "6GR4KEUv1_uK",
    "outputId": "dff72bdf-201e-4a2c-9c6a-5caf4eb9c1ce"
   },
   "outputs": [
    {
     "name": "stdout",
     "output_type": "stream",
     "text": [
      "Hello, world!\n"
     ]
    }
   ],
   "source": [
    "# let's start by printing \"hello world\"\n",
    "\n",
    "print('Hello, world!')"
   ]
  },
  {
   "cell_type": "code",
   "execution_count": 0,
   "metadata": {
    "colab": {},
    "colab_type": "code",
    "id": "IWTswIEApAte"
   },
   "outputs": [],
   "source": [
    "import requests\n",
    "import json"
   ]
  },
  {
   "cell_type": "code",
   "execution_count": 0,
   "metadata": {
    "colab": {},
    "colab_type": "code",
    "id": "wMRrTfSoo9II"
   },
   "outputs": [],
   "source": [
    "response = requests.get('https://api.exchangeratesapi.io/latest?base=USD')"
   ]
  },
  {
   "cell_type": "code",
   "execution_count": 0,
   "metadata": {
    "colab": {
     "base_uri": "https://localhost:8080/",
     "height": 612
    },
    "colab_type": "code",
    "id": "n68FiGK5pF-G",
    "outputId": "b158b059-256f-42ce-fffe-56ba78777969"
   },
   "outputs": [
    {
     "data": {
      "text/plain": [
       "{'base': 'USD',\n",
       " 'date': '2019-07-01',\n",
       " 'rates': {'AUD': 1.4297294916,\n",
       "  'BGN': 1.7233236408,\n",
       "  'BRL': 3.8272094458,\n",
       "  'CAD': 1.3098951449,\n",
       "  'CHF': 0.981672394,\n",
       "  'CNY': 6.8423649661,\n",
       "  'CZK': 22.4495550269,\n",
       "  'DKK': 6.5774077011,\n",
       "  'EUR': 0.8811349018,\n",
       "  'GBP': 0.7905366112,\n",
       "  'HKD': 7.8102916557,\n",
       "  'HRK': 6.5177548683,\n",
       "  'HUF': 284.5184597762,\n",
       "  'IDR': 14112.5033042559,\n",
       "  'ILS': 3.5723852322,\n",
       "  'INR': 68.9364701736,\n",
       "  'ISK': 124.8568155785,\n",
       "  'JPY': 108.3179134726,\n",
       "  'KRW': 1161.5737069345,\n",
       "  'MXN': 19.1227420918,\n",
       "  'MYR': 4.1328751432,\n",
       "  'NOK': 8.5336152965,\n",
       "  'NZD': 1.4927306371,\n",
       "  'PHP': 51.0644109613,\n",
       "  'PLN': 3.7383910477,\n",
       "  'RON': 4.1701471495,\n",
       "  'RUB': 62.9769142656,\n",
       "  'SEK': 9.291567539,\n",
       "  'SGD': 1.3533350956,\n",
       "  'THB': 30.6379416689,\n",
       "  'TRY': 5.6632302405,\n",
       "  'USD': 1.0,\n",
       "  'ZAR': 14.1171909419}}"
      ]
     },
     "execution_count": 5,
     "metadata": {
      "tags": []
     },
     "output_type": "execute_result"
    }
   ],
   "source": [
    "exchange = json.loads(response.text)\n",
    "exchange"
   ]
  },
  {
   "cell_type": "code",
   "execution_count": 0,
   "metadata": {
    "colab": {
     "base_uri": "https://localhost:8080/",
     "height": 34
    },
    "colab_type": "code",
    "id": "lY7RkLp1pLX1",
    "outputId": "c4f6f5e7-4255-4d02-bab4-5123999c6d9c"
   },
   "outputs": [
    {
     "data": {
      "text/plain": [
       "1.0"
      ]
     },
     "execution_count": 6,
     "metadata": {
      "tags": []
     },
     "output_type": "execute_result"
    }
   ],
   "source": [
    "exchange['rates']['USD']"
   ]
  },
  {
   "cell_type": "code",
   "execution_count": 0,
   "metadata": {
    "colab": {},
    "colab_type": "code",
    "id": "4AWq26jgpSBg"
   },
   "outputs": [],
   "source": [
    "# Create differet functionality for the money transfer service. \n",
    "\n",
    "def send_money(base, target, amount):\n",
    "    pass\n",
    "\n",
    "def print_rates(base, amount):\n",
    "    pass\n",
    "\n",
    "def send_money_with_commission(base, target, amount, commission):\n",
    "    pass\n"
   ]
  },
  {
   "cell_type": "code",
   "execution_count": 0,
   "metadata": {
    "colab": {},
    "colab_type": "code",
    "id": "hvdoj6Rq2-yy"
   },
   "outputs": [],
   "source": [
    "def send_money(base, target, amount): \n",
    "  if base not in exchange['rates']:\n",
    "     return 'Please select a correct base exchange rate'\n",
    "  if target not in exchange['rates']:\n",
    "     return 'Please select a correct target exchange rate'\n",
    "  if base == 'USD':\n",
    "     return exchange['rates'][target] * amount    \n",
    "  \n",
    "  return (exchange['rates'][target]/exchange['rates'][base]) * amount\n"
   ]
  },
  {
   "cell_type": "code",
   "execution_count": 0,
   "metadata": {
    "colab": {
     "base_uri": "https://localhost:8080/",
     "height": 34
    },
    "colab_type": "code",
    "id": "eq6ao2B22hOm",
    "outputId": "8a256044-b98d-40f5-d40b-ce02644b2529"
   },
   "outputs": [
    {
     "data": {
      "text/plain": [
       "8.787346221"
      ]
     },
     "execution_count": 41,
     "metadata": {
      "tags": []
     },
     "output_type": "execute_result"
    }
   ],
   "source": [
    "send_money('USD','EUR', 10)"
   ]
  },
  {
   "cell_type": "code",
   "execution_count": 0,
   "metadata": {
    "colab": {},
    "colab_type": "code",
    "id": "_37K1D3Q3FQ9"
   },
   "outputs": [],
   "source": [
    "def print_rates(base, amount):\n",
    "  if base not in exchange['rates']:   \n",
    "    return 'Please select a correct base exchange rate'\n",
    "  for key, value in exchange['rates'].items():\n",
    "    result = amount * value\n",
    "    if base != 'USD':\n",
    "       result = amount * value / exchange['rates'][base]\n",
    "    print(base, '->', key + ':', result)"
   ]
  },
  {
   "cell_type": "code",
   "execution_count": 0,
   "metadata": {
    "colab": {
     "base_uri": "https://localhost:8080/",
     "height": 578
    },
    "colab_type": "code",
    "id": "KZTVQwGp18WI",
    "outputId": "df930aba-a2fa-450f-e60a-a680cf6302d7"
   },
   "outputs": [
    {
     "name": "stdout",
     "output_type": "stream",
     "text": [
      "EUR -> CAD: 14.893000001211629\n",
      "EUR -> HKD: 88.86600000393908\n",
      "EUR -> ISK: 1417.0000000708974\n",
      "EUR -> PHP: 583.3500000295483\n",
      "EUR -> DKK: 74.63600000335072\n",
      "EUR -> HUF: 3233.9000001625177\n",
      "EUR -> CZK: 254.4700000127604\n",
      "EUR -> GBP: 8.965500000640068\n",
      "EUR -> RON: 47.343000002184624\n",
      "EUR -> SEK: 105.63300000536078\n",
      "EUR -> IDR: 160833.50000807372\n",
      "EUR -> INR: 785.2400000389151\n",
      "EUR -> BRL: 43.51100000205625\n",
      "EUR -> RUB: 715.975000036362\n",
      "EUR -> HRK: 73.97300000386545\n",
      "EUR -> JPY: 1226.0000000619073\n",
      "EUR -> THB: 348.97000001793833\n",
      "EUR -> CHF: 11.105000000659471\n",
      "EUR -> EUR: 10.0\n",
      "EUR -> MYR: 47.082000002603515\n",
      "EUR -> BGN: 19.55800000110181\n",
      "EUR -> TRY: 65.65500000344188\n",
      "EUR -> CNY: 78.18500000354089\n",
      "EUR -> NOK: 96.93800000440429\n",
      "EUR -> NZD: 16.960000001347392\n",
      "EUR -> ZAR: 161.21800000828716\n",
      "EUR -> USD: 11.380000000571277\n",
      "EUR -> MXN: 218.20100001042167\n",
      "EUR -> SGD: 15.395000000876829\n",
      "EUR -> AUD: 16.244000000691447\n",
      "EUR -> ILS: 40.60700000157647\n",
      "EUR -> KRW: 13153.50000066078\n",
      "EUR -> PLN: 42.496000002547305\n"
     ]
    }
   ],
   "source": [
    "print_rates('EUR', 10)"
   ]
  },
  {
   "cell_type": "code",
   "execution_count": 0,
   "metadata": {
    "colab": {},
    "colab_type": "code",
    "id": "9trEelhc20l0"
   },
   "outputs": [],
   "source": [
    "def send_money_with_commission(base, target, amount, commission):\n",
    "  if base not in exchange['rates']:\n",
    "     return 'Please select a correct base exchange rate'\n",
    "  if target not in exchange['rates']:\n",
    "     return 'Please select a correct target exchange rate'\n",
    "  if base == 'USD':\n",
    "     return exchange['rates'][target] * amount * (1 - commission)    \n",
    "  \n",
    "  return (exchange['rates'][target]/exchange['rates'][base]) * amount * (1 - commission)"
   ]
  },
  {
   "cell_type": "code",
   "execution_count": 47,
   "metadata": {
    "colab": {
     "base_uri": "https://localhost:8080/",
     "height": 34
    },
    "colab_type": "code",
    "id": "bpYmitZORePy",
    "outputId": "63d66010-8eab-4603-a81f-1c10d6e0d4e6"
   },
   "outputs": [
    {
     "data": {
      "text/plain": [
       "83.4797890995"
      ]
     },
     "execution_count": 47,
     "metadata": {
      "tags": []
     },
     "output_type": "execute_result"
    }
   ],
   "source": [
    "send_money_with_commission('USD', 'EUR', 100, 0.05)"
   ]
  },
  {
   "cell_type": "code",
   "execution_count": 0,
   "metadata": {
    "colab": {},
    "colab_type": "code",
    "id": "PQgwk4gKRiIP"
   },
   "outputs": [],
   "source": []
  }
 ],
 "metadata": {
  "colab": {
   "name": "Python Noodling – Currency Exchange.ipynb",
   "provenance": [],
   "version": "0.3.2"
  },
  "kernelspec": {
   "display_name": "Python 3",
   "language": "python",
   "name": "python3"
  },
  "language_info": {
   "codemirror_mode": {
    "name": "ipython",
    "version": 3
   },
   "file_extension": ".py",
   "mimetype": "text/x-python",
   "name": "python",
   "nbconvert_exporter": "python",
   "pygments_lexer": "ipython3",
   "version": "3.7.1"
  }
 },
 "nbformat": 4,
 "nbformat_minor": 1
}
