{
 "cells": [
  {
   "cell_type": "markdown",
   "metadata": {
    "colab_type": "text",
    "id": "9aMrOscMokZf"
   },
   "source": [
    "## Currency Exchange Service\n",
    "\n",
    "Brief: Create an exchange rate calculator with real-time rates. "
   ]
  },
  {
   "cell_type": "code",
   "execution_count": 1,
   "metadata": {
    "colab": {
     "base_uri": "https://localhost:8080/",
     "height": 34
    },
    "colab_type": "code",
    "id": "6GR4KEUv1_uK",
    "outputId": "dff72bdf-201e-4a2c-9c6a-5caf4eb9c1ce"
   },
   "outputs": [],
   "source": [
    "# This is a comment. Print \"Hello, world!\" below! Hit SHIFT + RETURN keys to run the code.\n",
    "\n"
   ]
  },
  {
   "cell_type": "markdown",
   "metadata": {},
   "source": [
    "Let's <i>get</i> some exchange rate data:"
   ]
  },
  {
   "cell_type": "code",
   "execution_count": 0,
   "metadata": {
    "colab": {},
    "colab_type": "code",
    "id": "IWTswIEApAte"
   },
   "outputs": [],
   "source": [
    "# Load Libraries in this cell\n",
    "\n"
   ]
  },
  {
   "cell_type": "code",
   "execution_count": 2,
   "metadata": {
    "colab": {},
    "colab_type": "code",
    "id": "wMRrTfSoo9II"
   },
   "outputs": [],
   "source": [
    "# Get the data in this cell\n",
    "\n"
   ]
  },
  {
   "cell_type": "code",
   "execution_count": 5,
   "metadata": {
    "colab": {
     "base_uri": "https://localhost:8080/",
     "height": 612
    },
    "colab_type": "code",
    "id": "n68FiGK5pF-G",
    "outputId": "b158b059-256f-42ce-fffe-56ba78777969"
   },
   "outputs": [],
   "source": [
    "# Print the data out in this cell\n",
    "\n"
   ]
  },
  {
   "cell_type": "code",
   "execution_count": 4,
   "metadata": {
    "colab": {
     "base_uri": "https://localhost:8080/",
     "height": 34
    },
    "colab_type": "code",
    "id": "lY7RkLp1pLX1",
    "outputId": "c4f6f5e7-4255-4d02-bab4-5123999c6d9c"
   },
   "outputs": [],
   "source": [
    "# Return the current exchange rate for a specific currency\n",
    "\n"
   ]
  },
  {
   "cell_type": "code",
   "execution_count": 0,
   "metadata": {
    "colab": {},
    "colab_type": "code",
    "id": "4AWq26jgpSBg"
   },
   "outputs": [],
   "source": [
    "# Create a function that will tell us how much money we need to send for a certain currency amount. \n",
    "\n",
    "def send_money(base, target, amount):\n",
    "    pass"
   ]
  },
  {
   "cell_type": "code",
   "execution_count": null,
   "metadata": {},
   "outputs": [],
   "source": [
    "# Create a function that will print all of the current exchange rates for a given currency. \n",
    "\n",
    "def print_rates(base, amount):\n",
    "    pass"
   ]
  },
  {
   "cell_type": "code",
   "execution_count": null,
   "metadata": {},
   "outputs": [],
   "source": [
    "# Create a function that will tell us how much money we need to send for a certain currency amount. \n",
    "\n",
    "def send_money_with_commission(base, target, amount, commission):\n",
    "    pass"
   ]
  }
 ],
 "metadata": {
  "colab": {
   "name": "Python Noodling – Currency Exchange.ipynb",
   "provenance": [],
   "version": "0.3.2"
  },
  "kernelspec": {
   "display_name": "Python 3",
   "language": "python",
   "name": "python3"
  },
  "language_info": {
   "codemirror_mode": {
    "name": "ipython",
    "version": 3
   },
   "file_extension": ".py",
   "mimetype": "text/x-python",
   "name": "python",
   "nbconvert_exporter": "python",
   "pygments_lexer": "ipython3",
   "version": "3.7.0"
  }
 },
 "nbformat": 4,
 "nbformat_minor": 1
}
